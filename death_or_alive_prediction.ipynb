{
 "cells": [
  {
   "cell_type": "code",
   "execution_count": 1,
   "metadata": {},
   "outputs": [],
   "source": [
    "## Imports\n",
    "import numpy as np\n",
    "import pandas as pd\n",
    "import matplotlib.pyplot as plt\n",
    "%matplotlib inline\n",
    "\n",
    "import seaborn as sns\n",
    "sns.set_theme(style=\"darkgrid\")\n",
    "\n",
    "import plotly.express as px\n",
    "\n",
    "%matplotlib inline"
   ]
  },
  {
   "cell_type": "code",
   "execution_count": 2,
   "metadata": {},
   "outputs": [],
   "source": [
    "df = pd.read_excel(\"COPD Sample_Alexandru (1).xlsx\")"
   ]
  },
  {
   "cell_type": "code",
   "execution_count": 3,
   "metadata": {},
   "outputs": [
    {
     "data": {
      "text/html": [
       "<div>\n",
       "<style scoped>\n",
       "    .dataframe tbody tr th:only-of-type {\n",
       "        vertical-align: middle;\n",
       "    }\n",
       "\n",
       "    .dataframe tbody tr th {\n",
       "        vertical-align: top;\n",
       "    }\n",
       "\n",
       "    .dataframe thead th {\n",
       "        text-align: right;\n",
       "    }\n",
       "</style>\n",
       "<table border=\"1\" class=\"dataframe\">\n",
       "  <thead>\n",
       "    <tr style=\"text-align: right;\">\n",
       "      <th></th>\n",
       "      <th>death</th>\n",
       "      <th>elective</th>\n",
       "      <th>agegroup</th>\n",
       "      <th>quintiles</th>\n",
       "      <th>sex</th>\n",
       "      <th>charlson</th>\n",
       "      <th>ec</th>\n",
       "      <th>pc</th>\n",
       "      <th>month</th>\n",
       "      <th>admisource</th>\n",
       "      <th>year</th>\n",
       "      <th>diagnosis</th>\n",
       "    </tr>\n",
       "  </thead>\n",
       "  <tbody>\n",
       "    <tr>\n",
       "      <th>0</th>\n",
       "      <td>0</td>\n",
       "      <td>0</td>\n",
       "      <td>16</td>\n",
       "      <td>1</td>\n",
       "      <td>0</td>\n",
       "      <td>0</td>\n",
       "      <td>5</td>\n",
       "      <td>0</td>\n",
       "      <td>7</td>\n",
       "      <td>1</td>\n",
       "      <td>4</td>\n",
       "      <td>3</td>\n",
       "    </tr>\n",
       "    <tr>\n",
       "      <th>1</th>\n",
       "      <td>0</td>\n",
       "      <td>0</td>\n",
       "      <td>16</td>\n",
       "      <td>3</td>\n",
       "      <td>0</td>\n",
       "      <td>0</td>\n",
       "      <td>2</td>\n",
       "      <td>0</td>\n",
       "      <td>7</td>\n",
       "      <td>3</td>\n",
       "      <td>3</td>\n",
       "      <td>3</td>\n",
       "    </tr>\n",
       "    <tr>\n",
       "      <th>2</th>\n",
       "      <td>0</td>\n",
       "      <td>0</td>\n",
       "      <td>14</td>\n",
       "      <td>4</td>\n",
       "      <td>1</td>\n",
       "      <td>0</td>\n",
       "      <td>2</td>\n",
       "      <td>0</td>\n",
       "      <td>12</td>\n",
       "      <td>1</td>\n",
       "      <td>4</td>\n",
       "      <td>3</td>\n",
       "    </tr>\n",
       "    <tr>\n",
       "      <th>3</th>\n",
       "      <td>0</td>\n",
       "      <td>0</td>\n",
       "      <td>17</td>\n",
       "      <td>1</td>\n",
       "      <td>1</td>\n",
       "      <td>0</td>\n",
       "      <td>0</td>\n",
       "      <td>0</td>\n",
       "      <td>6</td>\n",
       "      <td>1</td>\n",
       "      <td>4</td>\n",
       "      <td>3</td>\n",
       "    </tr>\n",
       "    <tr>\n",
       "      <th>4</th>\n",
       "      <td>0</td>\n",
       "      <td>0</td>\n",
       "      <td>13</td>\n",
       "      <td>5</td>\n",
       "      <td>0</td>\n",
       "      <td>3</td>\n",
       "      <td>0</td>\n",
       "      <td>0</td>\n",
       "      <td>5</td>\n",
       "      <td>1</td>\n",
       "      <td>5</td>\n",
       "      <td>3</td>\n",
       "    </tr>\n",
       "  </tbody>\n",
       "</table>\n",
       "</div>"
      ],
      "text/plain": [
       "   death  elective  agegroup  quintiles  sex  charlson  ec  pc  month  \\\n",
       "0      0         0        16          1    0         0   5   0      7   \n",
       "1      0         0        16          3    0         0   2   0      7   \n",
       "2      0         0        14          4    1         0   2   0     12   \n",
       "3      0         0        17          1    1         0   0   0      6   \n",
       "4      0         0        13          5    0         3   0   0      5   \n",
       "\n",
       "   admisource  year  diagnosis  \n",
       "0           1     4          3  \n",
       "1           3     3          3  \n",
       "2           1     4          3  \n",
       "3           1     4          3  \n",
       "4           1     5          3  "
      ]
     },
     "execution_count": 3,
     "metadata": {},
     "output_type": "execute_result"
    }
   ],
   "source": [
    "df.head()"
   ]
  },
  {
   "cell_type": "code",
   "execution_count": 4,
   "metadata": {},
   "outputs": [
    {
     "data": {
      "text/plain": [
       "(100000, 12)"
      ]
     },
     "execution_count": 4,
     "metadata": {},
     "output_type": "execute_result"
    }
   ],
   "source": [
    "df.shape"
   ]
  },
  {
   "cell_type": "code",
   "execution_count": 5,
   "metadata": {},
   "outputs": [
    {
     "name": "stdout",
     "output_type": "stream",
     "text": [
      "<class 'pandas.core.frame.DataFrame'>\n",
      "RangeIndex: 100000 entries, 0 to 99999\n",
      "Data columns (total 12 columns):\n",
      " #   Column      Non-Null Count   Dtype\n",
      "---  ------      --------------   -----\n",
      " 0   death       100000 non-null  int64\n",
      " 1   elective    100000 non-null  int64\n",
      " 2   agegroup    100000 non-null  int64\n",
      " 3   quintiles   100000 non-null  int64\n",
      " 4   sex         100000 non-null  int64\n",
      " 5   charlson    100000 non-null  int64\n",
      " 6   ec          100000 non-null  int64\n",
      " 7   pc          100000 non-null  int64\n",
      " 8   month       100000 non-null  int64\n",
      " 9   admisource  100000 non-null  int64\n",
      " 10  year        100000 non-null  int64\n",
      " 11  diagnosis   100000 non-null  int64\n",
      "dtypes: int64(12)\n",
      "memory usage: 9.2 MB\n"
     ]
    }
   ],
   "source": [
    "df.info()"
   ]
  },
  {
   "cell_type": "markdown",
   "metadata": {},
   "source": [
    "**Dataset looks to be in correct dtypes for moddeling**"
   ]
  },
  {
   "cell_type": "code",
   "execution_count": 6,
   "metadata": {},
   "outputs": [
    {
     "data": {
      "text/plain": [
       "death         0\n",
       "elective      0\n",
       "agegroup      0\n",
       "quintiles     0\n",
       "sex           0\n",
       "charlson      0\n",
       "ec            0\n",
       "pc            0\n",
       "month         0\n",
       "admisource    0\n",
       "year          0\n",
       "diagnosis     0\n",
       "dtype: int64"
      ]
     },
     "execution_count": 6,
     "metadata": {},
     "output_type": "execute_result"
    }
   ],
   "source": [
    "df.isna().sum()"
   ]
  },
  {
   "cell_type": "markdown",
   "metadata": {},
   "source": [
    "**no missing data in the dataframe**"
   ]
  },
  {
   "cell_type": "markdown",
   "metadata": {},
   "source": [
    "#### Check for duplicate data"
   ]
  },
  {
   "cell_type": "code",
   "execution_count": 7,
   "metadata": {
    "scrolled": true
   },
   "outputs": [
    {
     "data": {
      "text/plain": [
       "46007"
      ]
     },
     "execution_count": 7,
     "metadata": {},
     "output_type": "execute_result"
    }
   ],
   "source": [
    "sum(df.duplicated())"
   ]
  },
  {
   "cell_type": "markdown",
   "metadata": {},
   "source": [
    "**alot of data is duplicated so dropping duplicates would improve model perfomance**"
   ]
  },
  {
   "cell_type": "code",
   "execution_count": 8,
   "metadata": {},
   "outputs": [
    {
     "data": {
      "text/plain": [
       "(53993, 12)"
      ]
     },
     "execution_count": 8,
     "metadata": {},
     "output_type": "execute_result"
    }
   ],
   "source": [
    "## dropping duplicates\n",
    "df.drop_duplicates(inplace=True)\n",
    "df.shape"
   ]
  },
  {
   "cell_type": "code",
   "execution_count": 9,
   "metadata": {
    "scrolled": true
   },
   "outputs": [
    {
     "data": {
      "text/html": [
       "<div>\n",
       "<style scoped>\n",
       "    .dataframe tbody tr th:only-of-type {\n",
       "        vertical-align: middle;\n",
       "    }\n",
       "\n",
       "    .dataframe tbody tr th {\n",
       "        vertical-align: top;\n",
       "    }\n",
       "\n",
       "    .dataframe thead th {\n",
       "        text-align: right;\n",
       "    }\n",
       "</style>\n",
       "<table border=\"1\" class=\"dataframe\">\n",
       "  <thead>\n",
       "    <tr style=\"text-align: right;\">\n",
       "      <th></th>\n",
       "      <th>death</th>\n",
       "      <th>elective</th>\n",
       "      <th>agegroup</th>\n",
       "      <th>quintiles</th>\n",
       "      <th>sex</th>\n",
       "      <th>charlson</th>\n",
       "      <th>ec</th>\n",
       "      <th>pc</th>\n",
       "      <th>month</th>\n",
       "      <th>admisource</th>\n",
       "      <th>year</th>\n",
       "      <th>diagnosis</th>\n",
       "    </tr>\n",
       "  </thead>\n",
       "  <tbody>\n",
       "    <tr>\n",
       "      <th>count</th>\n",
       "      <td>53993.000000</td>\n",
       "      <td>53993.000000</td>\n",
       "      <td>53993.000000</td>\n",
       "      <td>53993.000000</td>\n",
       "      <td>53993.000000</td>\n",
       "      <td>53993.000000</td>\n",
       "      <td>53993.000000</td>\n",
       "      <td>53993.000000</td>\n",
       "      <td>53993.000000</td>\n",
       "      <td>53993.000000</td>\n",
       "      <td>53993.000000</td>\n",
       "      <td>53993.000000</td>\n",
       "    </tr>\n",
       "    <tr>\n",
       "      <th>mean</th>\n",
       "      <td>0.068657</td>\n",
       "      <td>0.100402</td>\n",
       "      <td>14.823533</td>\n",
       "      <td>3.167855</td>\n",
       "      <td>0.533421</td>\n",
       "      <td>1.888986</td>\n",
       "      <td>2.541941</td>\n",
       "      <td>0.020021</td>\n",
       "      <td>6.851036</td>\n",
       "      <td>1.279684</td>\n",
       "      <td>4.126572</td>\n",
       "      <td>2.924490</td>\n",
       "    </tr>\n",
       "    <tr>\n",
       "      <th>std</th>\n",
       "      <td>0.252872</td>\n",
       "      <td>0.300538</td>\n",
       "      <td>2.628899</td>\n",
       "      <td>1.387211</td>\n",
       "      <td>0.498886</td>\n",
       "      <td>2.876735</td>\n",
       "      <td>3.792298</td>\n",
       "      <td>0.140074</td>\n",
       "      <td>3.534504</td>\n",
       "      <td>0.776916</td>\n",
       "      <td>1.233567</td>\n",
       "      <td>0.265752</td>\n",
       "    </tr>\n",
       "    <tr>\n",
       "      <th>min</th>\n",
       "      <td>0.000000</td>\n",
       "      <td>0.000000</td>\n",
       "      <td>1.000000</td>\n",
       "      <td>1.000000</td>\n",
       "      <td>0.000000</td>\n",
       "      <td>0.000000</td>\n",
       "      <td>0.000000</td>\n",
       "      <td>0.000000</td>\n",
       "      <td>1.000000</td>\n",
       "      <td>1.000000</td>\n",
       "      <td>1.000000</td>\n",
       "      <td>1.000000</td>\n",
       "    </tr>\n",
       "    <tr>\n",
       "      <th>25%</th>\n",
       "      <td>0.000000</td>\n",
       "      <td>0.000000</td>\n",
       "      <td>13.000000</td>\n",
       "      <td>2.000000</td>\n",
       "      <td>0.000000</td>\n",
       "      <td>0.000000</td>\n",
       "      <td>0.000000</td>\n",
       "      <td>0.000000</td>\n",
       "      <td>4.000000</td>\n",
       "      <td>1.000000</td>\n",
       "      <td>4.000000</td>\n",
       "      <td>3.000000</td>\n",
       "    </tr>\n",
       "    <tr>\n",
       "      <th>50%</th>\n",
       "      <td>0.000000</td>\n",
       "      <td>0.000000</td>\n",
       "      <td>15.000000</td>\n",
       "      <td>3.000000</td>\n",
       "      <td>1.000000</td>\n",
       "      <td>0.000000</td>\n",
       "      <td>1.000000</td>\n",
       "      <td>0.000000</td>\n",
       "      <td>7.000000</td>\n",
       "      <td>1.000000</td>\n",
       "      <td>4.000000</td>\n",
       "      <td>3.000000</td>\n",
       "    </tr>\n",
       "    <tr>\n",
       "      <th>75%</th>\n",
       "      <td>0.000000</td>\n",
       "      <td>0.000000</td>\n",
       "      <td>17.000000</td>\n",
       "      <td>4.000000</td>\n",
       "      <td>1.000000</td>\n",
       "      <td>3.000000</td>\n",
       "      <td>3.000000</td>\n",
       "      <td>0.000000</td>\n",
       "      <td>10.000000</td>\n",
       "      <td>1.000000</td>\n",
       "      <td>5.000000</td>\n",
       "      <td>3.000000</td>\n",
       "    </tr>\n",
       "    <tr>\n",
       "      <th>max</th>\n",
       "      <td>1.000000</td>\n",
       "      <td>1.000000</td>\n",
       "      <td>21.000000</td>\n",
       "      <td>5.000000</td>\n",
       "      <td>1.000000</td>\n",
       "      <td>34.000000</td>\n",
       "      <td>59.000000</td>\n",
       "      <td>1.000000</td>\n",
       "      <td>12.000000</td>\n",
       "      <td>8.000000</td>\n",
       "      <td>6.000000</td>\n",
       "      <td>3.000000</td>\n",
       "    </tr>\n",
       "  </tbody>\n",
       "</table>\n",
       "</div>"
      ],
      "text/plain": [
       "              death      elective      agegroup     quintiles           sex  \\\n",
       "count  53993.000000  53993.000000  53993.000000  53993.000000  53993.000000   \n",
       "mean       0.068657      0.100402     14.823533      3.167855      0.533421   \n",
       "std        0.252872      0.300538      2.628899      1.387211      0.498886   \n",
       "min        0.000000      0.000000      1.000000      1.000000      0.000000   \n",
       "25%        0.000000      0.000000     13.000000      2.000000      0.000000   \n",
       "50%        0.000000      0.000000     15.000000      3.000000      1.000000   \n",
       "75%        0.000000      0.000000     17.000000      4.000000      1.000000   \n",
       "max        1.000000      1.000000     21.000000      5.000000      1.000000   \n",
       "\n",
       "           charlson            ec            pc         month    admisource  \\\n",
       "count  53993.000000  53993.000000  53993.000000  53993.000000  53993.000000   \n",
       "mean       1.888986      2.541941      0.020021      6.851036      1.279684   \n",
       "std        2.876735      3.792298      0.140074      3.534504      0.776916   \n",
       "min        0.000000      0.000000      0.000000      1.000000      1.000000   \n",
       "25%        0.000000      0.000000      0.000000      4.000000      1.000000   \n",
       "50%        0.000000      1.000000      0.000000      7.000000      1.000000   \n",
       "75%        3.000000      3.000000      0.000000     10.000000      1.000000   \n",
       "max       34.000000     59.000000      1.000000     12.000000      8.000000   \n",
       "\n",
       "               year     diagnosis  \n",
       "count  53993.000000  53993.000000  \n",
       "mean       4.126572      2.924490  \n",
       "std        1.233567      0.265752  \n",
       "min        1.000000      1.000000  \n",
       "25%        4.000000      3.000000  \n",
       "50%        4.000000      3.000000  \n",
       "75%        5.000000      3.000000  \n",
       "max        6.000000      3.000000  "
      ]
     },
     "execution_count": 9,
     "metadata": {},
     "output_type": "execute_result"
    }
   ],
   "source": [
    "df.describe()"
   ]
  },
  {
   "cell_type": "markdown",
   "metadata": {},
   "source": [
    "### Explanaroty analysis\n",
    "#### Target variable(death)"
   ]
  },
  {
   "cell_type": "code",
   "execution_count": 10,
   "metadata": {},
   "outputs": [
    {
     "data": {
      "text/plain": [
       "0    50286\n",
       "1     3707\n",
       "Name: death, dtype: int64"
      ]
     },
     "execution_count": 10,
     "metadata": {},
     "output_type": "execute_result"
    }
   ],
   "source": [
    "df.death.value_counts()"
   ]
  },
  {
   "cell_type": "code",
   "execution_count": 11,
   "metadata": {},
   "outputs": [
    {
     "data": {
      "image/png": "[encoded data removed]",
      "text/plain": [
       "<Figure size 1440x576 with 2 Axes>"
      ]
     },
     "metadata": {
      "needs_background": "light"
     },
     "output_type": "display_data"
    }
   ],
   "source": [
    "fig, ax = plt.subplots(nrows=1, ncols=2, figsize=(20,8))\n",
    "fig.suptitle('Death Distribution', fontsize=30)\n",
    "\n",
    "#count plot\n",
    "sns.countplot(x='death', data=df, ax=ax[0]);\n",
    "\n",
    "## Pie chart\n",
    "df['death'].value_counts().plot.\\\n",
    "    pie(explode=[0,0.1],autopct='%1.1f%%',ax=ax[1],shadow=True);"
   ]
  },
  {
   "cell_type": "markdown",
   "metadata": {},
   "source": [
    "**Only 4.1% of all patients died at the end of their stay** \n",
    "**Target variable is quite imbalance, there would be overfitting on the high proportion class**"
   ]
  },
  {
   "cell_type": "markdown",
   "metadata": {},
   "source": [
    "#### Elective variable"
   ]
  },
  {
   "cell_type": "code",
   "execution_count": 12,
   "metadata": {
    "scrolled": true
   },
   "outputs": [
    {
     "data": {
      "text/plain": [
       "0    0.899598\n",
       "1    0.100402\n",
       "Name: elective, dtype: float64"
      ]
     },
     "execution_count": 12,
     "metadata": {},
     "output_type": "execute_result"
    }
   ],
   "source": [
    "df.elective.value_counts(normalize=True)"
   ]
  },
  {
   "cell_type": "code",
   "execution_count": 13,
   "metadata": {},
   "outputs": [
    {
     "data": {
      "image/png": "[encoded data removed]",
      "text/plain": [
       "<Figure size 432x288 with 1 Axes>"
      ]
     },
     "metadata": {
      "needs_background": "light"
     },
     "output_type": "display_data"
    }
   ],
   "source": [
    "sns.countplot(x='elective', data=df);"
   ]
  },
  {
   "cell_type": "markdown",
   "metadata": {},
   "source": [
    "**Only 0.07 proportion of the admission method were emergency admissions**"
   ]
  },
  {
   "cell_type": "markdown",
   "metadata": {},
   "source": [
    "## age group"
   ]
  },
  {
   "cell_type": "code",
   "execution_count": 14,
   "metadata": {},
   "outputs": [
    {
     "data": {
      "text/plain": [
       "<matplotlib.axes._subplots.AxesSubplot at 0x7f0fb295c6d0>"
      ]
     },
     "execution_count": 14,
     "metadata": {},
     "output_type": "execute_result"
    },
    {
     "data": {
      "image/png": "[encoded data removed]",
      "text/plain": [
       "<Figure size 432x288 with 1 Axes>"
      ]
     },
     "metadata": {
      "needs_background": "light"
     },
     "output_type": "display_data"
    }
   ],
   "source": [
    "df.agegroup.hist()"
   ]
  },
  {
   "cell_type": "code",
   "execution_count": 15,
   "metadata": {},
   "outputs": [
    {
     "data": {
      "text/plain": [
       "<matplotlib.axes._subplots.AxesSubplot at 0x7f0fb28dd3d0>"
      ]
     },
     "execution_count": 15,
     "metadata": {},
     "output_type": "execute_result"
    },
    {
     "data": {
      "image/png": "[encoded data removed]",
      "text/plain": [
       "<Figure size 432x288 with 1 Axes>"
      ]
     },
     "metadata": {
      "needs_background": "light"
     },
     "output_type": "display_data"
    }
   ],
   "source": [
    "df.agegroup.plot(kind='box')"
   ]
  },
  {
   "cell_type": "markdown",
   "metadata": {},
   "source": [
    "**agegroup appears to have a slightly right skewed distribution, there is no much outliers of agegroups**"
   ]
  },
  {
   "cell_type": "markdown",
   "metadata": {},
   "source": [
    "#### quintiles"
   ]
  },
  {
   "cell_type": "code",
   "execution_count": 16,
   "metadata": {},
   "outputs": [
    {
     "data": {
      "text/plain": [
       "5    12420\n",
       "3    11479\n",
       "4    11433\n",
       "2    10112\n",
       "1     8549\n",
       "Name: quintiles, dtype: int64"
      ]
     },
     "execution_count": 16,
     "metadata": {},
     "output_type": "execute_result"
    }
   ],
   "source": [
    "df.quintiles.value_counts()"
   ]
  },
  {
   "cell_type": "code",
   "execution_count": 17,
   "metadata": {},
   "outputs": [
    {
     "data": {
      "text/plain": [
       "<matplotlib.axes._subplots.AxesSubplot at 0x7f0fb2869d10>"
      ]
     },
     "execution_count": 17,
     "metadata": {},
     "output_type": "execute_result"
    },
    {
     "data": {
      "image/png": "[encoded data removed]",
      "text/plain": [
       "<Figure size 432x288 with 1 Axes>"
      ]
     },
     "metadata": {
      "needs_background": "light"
     },
     "output_type": "display_data"
    }
   ],
   "source": [
    "sns.countplot(x = 'quintiles', data=df)"
   ]
  },
  {
   "cell_type": "markdown",
   "metadata": {},
   "source": [
    "**This show that most people are more deprived, while few people are less deprived. Most people are lacking basic needs.**"
   ]
  },
  {
   "cell_type": "markdown",
   "metadata": {},
   "source": [
    "### SEX"
   ]
  },
  {
   "cell_type": "code",
   "execution_count": 18,
   "metadata": {},
   "outputs": [
    {
     "data": {
      "text/plain": [
       "1    0.533421\n",
       "0    0.466579\n",
       "Name: sex, dtype: float64"
      ]
     },
     "execution_count": 18,
     "metadata": {},
     "output_type": "execute_result"
    }
   ],
   "source": [
    "df.sex.value_counts(normalize=True)"
   ]
  },
  {
   "cell_type": "code",
   "execution_count": 19,
   "metadata": {},
   "outputs": [
    {
     "data": {
      "image/png": "[encoded data removed]",
      "text/plain": [
       "<Figure size 432x288 with 1 Axes>"
      ]
     },
     "metadata": {},
     "output_type": "display_data"
    }
   ],
   "source": [
    "## Pie chart\n",
    "df['sex'].value_counts().plot.pie(explode=[0,0.1],\\\n",
    "                                  autopct='%1.1f%%' ,shadow=True);"
   ]
  },
  {
   "cell_type": "markdown",
   "metadata": {},
   "source": [
    "**Male were 51.7% of the total patients.** <br/>\n",
    "**Female -> 48.3%**"
   ]
  },
  {
   "cell_type": "markdown",
   "metadata": {},
   "source": [
    "## Charlson score(Comorbidity)"
   ]
  },
  {
   "cell_type": "code",
   "execution_count": 20,
   "metadata": {},
   "outputs": [
    {
     "data": {
      "text/plain": [
       "<matplotlib.axes._subplots.AxesSubplot at 0x7f0fb280c750>"
      ]
     },
     "execution_count": 20,
     "metadata": {},
     "output_type": "execute_result"
    },
    {
     "data": {
      "image/png": "[encoded data removed]",
      "text/plain": [
       "<Figure size 432x288 with 1 Axes>"
      ]
     },
     "metadata": {
      "needs_background": "light"
     },
     "output_type": "display_data"
    }
   ],
   "source": [
    "df.charlson.hist()"
   ]
  },
  {
   "cell_type": "code",
   "execution_count": 21,
   "metadata": {},
   "outputs": [
    {
     "data": {
      "text/plain": [
       "<matplotlib.axes._subplots.AxesSubplot at 0x7f0fb27301d0>"
      ]
     },
     "execution_count": 21,
     "metadata": {},
     "output_type": "execute_result"
    },
    {
     "data": {
      "image/png": "[encoded data removed]",
      "text/plain": [
       "<Figure size 432x288 with 1 Axes>"
      ]
     },
     "metadata": {
      "needs_background": "light"
     },
     "output_type": "display_data"
    }
   ],
   "source": [
    "df.charlson.plot(kind='box')"
   ]
  },
  {
   "cell_type": "markdown",
   "metadata": {},
   "source": [
    "## Source of admission"
   ]
  },
  {
   "cell_type": "code",
   "execution_count": 22,
   "metadata": {},
   "outputs": [
    {
     "data": {
      "text/plain": [
       "1    46735\n",
       "3     5411\n",
       "2     1105\n",
       "5      611\n",
       "7       87\n",
       "4       25\n",
       "8       19\n",
       "Name: admisource, dtype: int64"
      ]
     },
     "execution_count": 22,
     "metadata": {},
     "output_type": "execute_result"
    }
   ],
   "source": [
    "df.admisource.value_counts()"
   ]
  },
  {
   "cell_type": "code",
   "execution_count": 23,
   "metadata": {},
   "outputs": [
    {
     "data": {
      "image/png": "[encoded data removed]",
      "text/plain": [
       "<Figure size 1584x576 with 1 Axes>"
      ]
     },
     "metadata": {
      "needs_background": "light"
     },
     "output_type": "display_data"
    }
   ],
   "source": [
    "plt.figure(figsize=(22, 8))\n",
    "sns.countplot(x = 'admisource', data=df)\n",
    "plt.title('Admission source Distribution', fontsize=20)\n",
    "plt.show()"
   ]
  },
  {
   "cell_type": "markdown",
   "metadata": {},
   "source": [
    "### year"
   ]
  },
  {
   "cell_type": "code",
   "execution_count": 24,
   "metadata": {},
   "outputs": [
    {
     "data": {
      "text/plain": [
       "5    23985\n",
       "4    15017\n",
       "2     5617\n",
       "3     4265\n",
       "6     2735\n",
       "1     2374\n",
       "Name: year, dtype: int64"
      ]
     },
     "execution_count": 24,
     "metadata": {},
     "output_type": "execute_result"
    }
   ],
   "source": [
    "df.year.value_counts()"
   ]
  },
  {
   "cell_type": "code",
   "execution_count": 25,
   "metadata": {},
   "outputs": [
    {
     "data": {
      "image/png": "[encoded data removed]",
      "text/plain": [
       "<Figure size 432x288 with 1 Axes>"
      ]
     },
     "metadata": {
      "needs_background": "light"
     },
     "output_type": "display_data"
    }
   ],
   "source": [
    "sns.countplot(x = 'year', data=df);"
   ]
  },
  {
   "cell_type": "markdown",
   "metadata": {},
   "source": [
    "**2012 had the highest number of patients follwed by the year 2011, but 2013 had a drop in number of patients**"
   ]
  },
  {
   "cell_type": "markdown",
   "metadata": {},
   "source": [
    "### Palliative care"
   ]
  },
  {
   "cell_type": "code",
   "execution_count": 26,
   "metadata": {},
   "outputs": [
    {
     "data": {
      "text/plain": [
       "0    0.979979\n",
       "1    0.020021\n",
       "Name: pc, dtype: float64"
      ]
     },
     "execution_count": 26,
     "metadata": {},
     "output_type": "execute_result"
    }
   ],
   "source": [
    "df.pc.value_counts(normalize=True)"
   ]
  },
  {
   "cell_type": "code",
   "execution_count": 27,
   "metadata": {},
   "outputs": [
    {
     "data": {
      "image/png": "[encoded data removed]",
      "text/plain": [
       "<Figure size 432x288 with 1 Axes>"
      ]
     },
     "metadata": {
      "needs_background": "light"
     },
     "output_type": "display_data"
    }
   ],
   "source": [
    "sns.countplot(x = 'pc', data=df);"
   ]
  },
  {
   "cell_type": "markdown",
   "metadata": {},
   "source": [
    "**Very less patients were under palliative care almost, 0.01 distribution of the patients**"
   ]
  },
  {
   "cell_type": "markdown",
   "metadata": {},
   "source": [
    "## Emergency admissions"
   ]
  },
  {
   "cell_type": "code",
   "execution_count": 28,
   "metadata": {},
   "outputs": [
    {
     "data": {
      "image/png": "[encoded data removed]",
      "text/plain": [
       "<Figure size 432x288 with 1 Axes>"
      ]
     },
     "metadata": {
      "needs_background": "light"
     },
     "output_type": "display_data"
    }
   ],
   "source": [
    "df.ec.plot.hist();"
   ]
  },
  {
   "cell_type": "code",
   "execution_count": 29,
   "metadata": {},
   "outputs": [
    {
     "data": {
      "image/png": "[encoded data removed]",
      "text/plain": [
       "<Figure size 432x288 with 1 Axes>"
      ]
     },
     "metadata": {
      "needs_background": "light"
     },
     "output_type": "display_data"
    }
   ],
   "source": [
    "df.ec.plot(kind='box');"
   ]
  },
  {
   "cell_type": "markdown",
   "metadata": {},
   "source": [
    "**ec column has alot of outliers as shown by it boxplot**"
   ]
  },
  {
   "cell_type": "markdown",
   "metadata": {},
   "source": [
    "## Diagnosis subgroup"
   ]
  },
  {
   "cell_type": "code",
   "execution_count": 30,
   "metadata": {},
   "outputs": [
    {
     "data": {
      "text/plain": [
       "3    49938\n",
       "2     4033\n",
       "1       22\n",
       "Name: diagnosis, dtype: int64"
      ]
     },
     "execution_count": 30,
     "metadata": {},
     "output_type": "execute_result"
    }
   ],
   "source": [
    "df.diagnosis.value_counts()"
   ]
  },
  {
   "cell_type": "code",
   "execution_count": 31,
   "metadata": {},
   "outputs": [
    {
     "data": {
      "image/png": "[encoded data removed]",
      "text/plain": [
       "<Figure size 432x288 with 1 Axes>"
      ]
     },
     "metadata": {
      "needs_background": "light"
     },
     "output_type": "display_data"
    }
   ],
   "source": [
    "sns.countplot(x= 'diagnosis', data=df);"
   ]
  },
  {
   "cell_type": "markdown",
   "metadata": {},
   "source": [
    "**Patients of subcategory 3 were the one who seems to be admitted mostly**"
   ]
  },
  {
   "cell_type": "markdown",
   "metadata": {},
   "source": [
    "### Month"
   ]
  },
  {
   "cell_type": "code",
   "execution_count": 32,
   "metadata": {},
   "outputs": [
    {
     "data": {
      "text/plain": [
       "12    6197\n",
       "1     5188\n",
       "8     4904\n",
       "11    4875\n",
       "10    4740\n",
       "5     4542\n",
       "7     4448\n",
       "9     4205\n",
       "6     4194\n",
       "4     4181\n",
       "3     3482\n",
       "2     3037\n",
       "Name: month, dtype: int64"
      ]
     },
     "execution_count": 32,
     "metadata": {},
     "output_type": "execute_result"
    }
   ],
   "source": [
    "df.month.value_counts()"
   ]
  },
  {
   "cell_type": "code",
   "execution_count": 33,
   "metadata": {},
   "outputs": [
    {
     "name": "stderr",
     "output_type": "stream",
     "text": [
      "/home/spkibe/anaconda3/lib/python3.7/site-packages/seaborn/_decorators.py:43: FutureWarning: Pass the following variables as keyword args: x, y. From version 0.12, the only valid positional argument will be `data`, and passing other arguments without an explicit keyword will result in an error or misinterpretation.\n",
      "  FutureWarning\n"
     ]
    },
    {
     "data": {
      "image/png": "[encoded data removed]",
      "text/plain": [
       "<Figure size 720x576 with 1 Axes>"
      ]
     },
     "metadata": {
      "needs_background": "light"
     },
     "output_type": "display_data"
    }
   ],
   "source": [
    "month_count  = df['month'].value_counts()\n",
    "plt.figure(figsize=(10,8))\n",
    "sns.barplot(month_count.index, month_count.values, color='blue')\n",
    "plt.title('Bar graph of patients in each month')\n",
    "plt.ylabel('patients frequency')\n",
    "plt.xlabel('month')\n",
    "plt.show()"
   ]
  },
  {
   "cell_type": "markdown",
   "metadata": {},
   "source": [
    "**December is the month were most patients are admitted followed by January**"
   ]
  },
  {
   "cell_type": "markdown",
   "metadata": {},
   "source": [
    "## Multivariate analysis"
   ]
  },
  {
   "cell_type": "markdown",
   "metadata": {},
   "source": [
    "### sex vs death"
   ]
  },
  {
   "cell_type": "code",
   "execution_count": 34,
   "metadata": {},
   "outputs": [
    {
     "data": {
      "image/png": "[encoded data removed]",
      "text/plain": [
       "<Figure size 1440x576 with 2 Axes>"
      ]
     },
     "metadata": {},
     "output_type": "display_data"
    }
   ],
   "source": [
    "fig,ax=plt.subplots(1,2,figsize=(20,8))\n",
    "df['death'][df['sex']==1].value_counts().plot.pie(explode=[0,0.2],autopct='%1.1f%%',ax=ax[0],shadow=True)\n",
    "df['death'][df['sex']==0].value_counts().plot.pie(explode=[0,0.2],autopct='%1.1f%%',ax=ax[1],shadow=True)\n",
    "ax[0].set_title('Death (Male)')\n",
    "ax[1].set_title('Death (Female)')\n",
    "\n",
    "plt.show()"
   ]
  },
  {
   "cell_type": "code",
   "execution_count": 35,
   "metadata": {},
   "outputs": [
    {
     "data": {
      "image/png": "[encoded data removed]",
      "text/plain": [
       "<Figure size 720x360 with 2 Axes>"
      ]
     },
     "metadata": {
      "needs_background": "light"
     },
     "output_type": "display_data"
    }
   ],
   "source": [
    "sns.catplot(x='death', col='sex', kind='count', data=df);"
   ]
  },
  {
   "cell_type": "markdown",
   "metadata": {},
   "source": [
    "### Elective vs death"
   ]
  },
  {
   "cell_type": "code",
   "execution_count": 36,
   "metadata": {},
   "outputs": [
    {
     "data": {
      "image/png": "[encoded data removed]",
      "text/plain": [
       "<Figure size 720x360 with 2 Axes>"
      ]
     },
     "metadata": {
      "needs_background": "light"
     },
     "output_type": "display_data"
    }
   ],
   "source": [
    "## elective vs death\n",
    "sns.catplot(x='death', col='elective', kind='count', data=df);"
   ]
  },
  {
   "cell_type": "markdown",
   "metadata": {},
   "source": [
    "### quintiles vs death"
   ]
  },
  {
   "cell_type": "code",
   "execution_count": 37,
   "metadata": {},
   "outputs": [
    {
     "data": {
      "text/plain": [
       "<Figure size 1584x576 with 0 Axes>"
      ]
     },
     "metadata": {},
     "output_type": "display_data"
    },
    {
     "data": {
      "image/png": "[encoded data removed]",
      "text/plain": [
       "<Figure size 1800x360 with 5 Axes>"
      ]
     },
     "metadata": {
      "needs_background": "light"
     },
     "output_type": "display_data"
    }
   ],
   "source": [
    "## quintiles vs death\n",
    "plt.figure(figsize=(22, 8))\n",
    "sns.catplot(x='death', col='quintiles', kind='count', data=df);\n",
    "plt.title(\" quintiles vs death\", fontsize=20)\n",
    "plt.show()"
   ]
  },
  {
   "cell_type": "markdown",
   "metadata": {},
   "source": [
    "### agegroup vs death"
   ]
  },
  {
   "cell_type": "code",
   "execution_count": 38,
   "metadata": {},
   "outputs": [
    {
     "data": {
      "image/png": "[encoded data removed]",
      "text/plain": [
       "<Figure size 910.6x216 with 1 Axes>"
      ]
     },
     "metadata": {
      "needs_background": "light"
     },
     "output_type": "display_data"
    }
   ],
   "source": [
    "# plot distributions of age of patinets who died or survived\n",
    "age = sns.FacetGrid( df, hue = 'death', aspect=4 )\n",
    "age.map(sns.kdeplot, 'agegroup', shade= True )\n",
    "age.set(xlim=(0 , df['agegroup'].max()))\n",
    "age.add_legend();"
   ]
  },
  {
   "cell_type": "markdown",
   "metadata": {},
   "source": [
    "### Charlson vs death"
   ]
  },
  {
   "cell_type": "code",
   "execution_count": 39,
   "metadata": {},
   "outputs": [
    {
     "data": {
      "image/png": "[encoded data removed]",
      "text/plain": [
       "<Figure size 910.6x216 with 1 Axes>"
      ]
     },
     "metadata": {
      "needs_background": "light"
     },
     "output_type": "display_data"
    }
   ],
   "source": [
    "# plot distributions of charlson of patinets who died or survived\n",
    "age = sns.FacetGrid( df, hue = 'death', aspect=4 )\n",
    "age.map(sns.kdeplot, 'charlson', shade= True )\n",
    "age.set(xlim=(0 , df['charlson'].max()))\n",
    "age.add_legend();"
   ]
  },
  {
   "cell_type": "markdown",
   "metadata": {},
   "source": [
    "### admin source vs death"
   ]
  },
  {
   "cell_type": "code",
   "execution_count": 40,
   "metadata": {},
   "outputs": [
    {
     "data": {
      "image/png": "[encoded data removed]",
      "text/plain": [
       "<Figure size 2520x360 with 7 Axes>"
      ]
     },
     "metadata": {
      "needs_background": "light"
     },
     "output_type": "display_data"
    }
   ],
   "source": [
    "sns.catplot(x='death', col='admisource', kind='count', data=df);"
   ]
  },
  {
   "cell_type": "markdown",
   "metadata": {},
   "source": [
    "### diagnosis vs death"
   ]
  },
  {
   "cell_type": "code",
   "execution_count": 41,
   "metadata": {},
   "outputs": [
    {
     "data": {
      "image/png": "[encoded data removed]",
      "text/plain": [
       "<Figure size 1080x360 with 3 Axes>"
      ]
     },
     "metadata": {
      "needs_background": "light"
     },
     "output_type": "display_data"
    }
   ],
   "source": [
    "sns.catplot(x='death', col='diagnosis', kind='count', data=df);"
   ]
  },
  {
   "cell_type": "markdown",
   "metadata": {},
   "source": [
    "### months vs death"
   ]
  },
  {
   "cell_type": "code",
   "execution_count": 42,
   "metadata": {},
   "outputs": [
    {
     "data": {
      "image/png": "[encoded data removed]",
      "text/plain": [
       "<Figure size 4320x360 with 12 Axes>"
      ]
     },
     "metadata": {
      "needs_background": "light"
     },
     "output_type": "display_data"
    }
   ],
   "source": [
    "sns.catplot(x='death', col='month', kind='count', data=df);"
   ]
  },
  {
   "cell_type": "markdown",
   "metadata": {},
   "source": [
    "### ec vs death"
   ]
  },
  {
   "cell_type": "code",
   "execution_count": 43,
   "metadata": {},
   "outputs": [
    {
     "data": {
      "image/png": "[encoded data removed]",
      "text/plain": [
       "<Figure size 910.6x216 with 1 Axes>"
      ]
     },
     "metadata": {
      "needs_background": "light"
     },
     "output_type": "display_data"
    }
   ],
   "source": [
    "# plot distributions of charlson of patinets who died or survived\n",
    "age = sns.FacetGrid(df, hue = 'death', aspect=4 )\n",
    "age.map(sns.kdeplot, 'ec', shade= True )\n",
    "age.set(xlim=(0 , df['ec'].max()))\n",
    "age.add_legend();"
   ]
  },
  {
   "cell_type": "markdown",
   "metadata": {},
   "source": [
    "### correlation"
   ]
  },
  {
   "cell_type": "code",
   "execution_count": 44,
   "metadata": {},
   "outputs": [
    {
     "data": {
      "text/plain": [
       "death         1.000000\n",
       "pc            0.143159\n",
       "agegroup      0.128917\n",
       "year          0.038819\n",
       "diagnosis     0.025332\n",
       "sex          -0.002994\n",
       "month        -0.009487\n",
       "admisource   -0.012047\n",
       "quintiles    -0.030425\n",
       "charlson     -0.030870\n",
       "ec           -0.060432\n",
       "elective     -0.076083\n",
       "Name: death, dtype: float64"
      ]
     },
     "execution_count": 44,
     "metadata": {},
     "output_type": "execute_result"
    }
   ],
   "source": [
    "corr_matrix = df.corr()\n",
    "\n",
    "corr_matrix[\"death\"].sort_values(ascending=False)"
   ]
  },
  {
   "cell_type": "markdown",
   "metadata": {},
   "source": [
    "### dropping outliers"
   ]
  },
  {
   "cell_type": "code",
   "execution_count": 45,
   "metadata": {},
   "outputs": [],
   "source": [
    "cols = ['ec', 'charlson', 'agegroup'] # one or more\n",
    "\n",
    "Q1 = df[cols].quantile(0.25)\n",
    "Q3 = df[cols].quantile(0.75)\n",
    "IQR = Q3 - Q1\n",
    "\n",
    "df = df[~((df[cols] < (Q1 - 1.5 * IQR)) |(df[cols] > (Q3 + 1.5 * IQR))).any(axis=1)]"
   ]
  },
  {
   "cell_type": "code",
   "execution_count": 46,
   "metadata": {},
   "outputs": [
    {
     "data": {
      "text/plain": [
       "0    42757\n",
       "1     3418\n",
       "Name: death, dtype: int64"
      ]
     },
     "execution_count": 46,
     "metadata": {},
     "output_type": "execute_result"
    }
   ],
   "source": [
    "df.death.value_counts()"
   ]
  },
  {
   "cell_type": "markdown",
   "metadata": {},
   "source": [
    "### Modelling"
   ]
  },
  {
   "cell_type": "markdown",
   "metadata": {},
   "source": [
    "#### Data splitting, spliting features from dependant feature"
   ]
  },
  {
   "cell_type": "code",
   "execution_count": 47,
   "metadata": {},
   "outputs": [],
   "source": [
    "X = df.drop(['death'], axis=1)\n",
    "y = df['death']"
   ]
  },
  {
   "cell_type": "code",
   "execution_count": 48,
   "metadata": {},
   "outputs": [],
   "source": [
    "## splitting test and training data\n",
    "from sklearn.model_selection import train_test_split\n",
    "\n",
    "X_train, X_test, y_train, y_test = train_test_split(X, y, test_size=0.3, random_state=42, stratify=y)"
   ]
  },
  {
   "cell_type": "markdown",
   "metadata": {},
   "source": [
    "#### Logistic Regression"
   ]
  },
  {
   "cell_type": "code",
   "execution_count": 49,
   "metadata": {},
   "outputs": [],
   "source": [
    "# train a logistic regression model on the training set\n",
    "from sklearn.linear_model import LogisticRegression\n",
    "from xgboost import XGBClassifier\n",
    "\n",
    "from sklearn.metrics import accuracy_score,classification_report, confusion_matrix\n",
    "\n",
    "# instantiate the model\n",
    "logreg = LogisticRegression(solver='liblinear', random_state=0)\n",
    "\n",
    "\n",
    "# fit the model\n",
    "#logreg.fit(X_train, y_train)\n",
    "\n",
    "# predict\n",
    "#logreg_pred = logreg.predict(X_test)"
   ]
  },
  {
   "cell_type": "code",
   "execution_count": 50,
   "metadata": {},
   "outputs": [],
   "source": [
    "from mlxtend.feature_selection import SequentialFeatureSelector as sfs\n",
    "\n",
    "\n",
    "sfs1 = sfs(logreg, k_features=7, forward=True, verbose=2, scoring='accuracy')"
   ]
  },
  {
   "cell_type": "code",
   "execution_count": 51,
   "metadata": {},
   "outputs": [
    {
     "name": "stderr",
     "output_type": "stream",
     "text": [
      "[Parallel(n_jobs=1)]: Using backend SequentialBackend with 1 concurrent workers.\n",
      "[Parallel(n_jobs=1)]: Done   1 out of   1 | elapsed:    0.2s remaining:    0.0s\n",
      "[Parallel(n_jobs=1)]: Done  11 out of  11 | elapsed:    1.1s finished\n",
      "\n",
      "[2022-05-28 14:03:13] Features: 1/7 -- score: 0.9259637432710788[Parallel(n_jobs=1)]: Using backend SequentialBackend with 1 concurrent workers.\n",
      "[Parallel(n_jobs=1)]: Done   1 out of   1 | elapsed:    0.2s remaining:    0.0s\n",
      "[Parallel(n_jobs=1)]: Done  10 out of  10 | elapsed:    1.1s finished\n",
      "\n",
      "[2022-05-28 14:03:14] Features: 2/7 -- score: 0.9259637432710788[Parallel(n_jobs=1)]: Using backend SequentialBackend with 1 concurrent workers.\n",
      "[Parallel(n_jobs=1)]: Done   1 out of   1 | elapsed:    0.2s remaining:    0.0s\n",
      "[Parallel(n_jobs=1)]: Done   9 out of   9 | elapsed:    1.7s finished\n",
      "\n",
      "[2022-05-28 14:03:16] Features: 3/7 -- score: 0.9261493916212966[Parallel(n_jobs=1)]: Using backend SequentialBackend with 1 concurrent workers.\n",
      "[Parallel(n_jobs=1)]: Done   1 out of   1 | elapsed:    0.2s remaining:    0.0s\n",
      "[Parallel(n_jobs=1)]: Done   8 out of   8 | elapsed:    1.4s finished\n",
      "\n",
      "[2022-05-28 14:03:17] Features: 4/7 -- score: 0.9264897142266431[Parallel(n_jobs=1)]: Using backend SequentialBackend with 1 concurrent workers.\n",
      "[Parallel(n_jobs=1)]: Done   1 out of   1 | elapsed:    0.3s remaining:    0.0s\n",
      "[Parallel(n_jobs=1)]: Done   7 out of   7 | elapsed:    1.6s finished\n",
      "\n",
      "[2022-05-28 14:03:19] Features: 5/7 -- score: 0.9263969020161877[Parallel(n_jobs=1)]: Using backend SequentialBackend with 1 concurrent workers.\n",
      "[Parallel(n_jobs=1)]: Done   1 out of   1 | elapsed:    0.3s remaining:    0.0s\n",
      "[Parallel(n_jobs=1)]: Done   6 out of   6 | elapsed:    1.7s finished\n",
      "\n",
      "[2022-05-28 14:03:20] Features: 6/7 -- score: 0.9264278378243856[Parallel(n_jobs=1)]: Using backend SequentialBackend with 1 concurrent workers.\n",
      "[Parallel(n_jobs=1)]: Done   1 out of   1 | elapsed:    0.3s remaining:    0.0s\n",
      "[Parallel(n_jobs=1)]: Done   5 out of   5 | elapsed:    1.7s finished\n",
      "\n",
      "[2022-05-28 14:03:22] Features: 7/7 -- score: 0.9263969020161877"
     ]
    }
   ],
   "source": [
    "# Perform SFFS\n",
    "sfs1 = sfs1.fit(X_train, y_train)"
   ]
  },
  {
   "cell_type": "code",
   "execution_count": 52,
   "metadata": {},
   "outputs": [
    {
     "name": "stdout",
     "output_type": "stream",
     "text": [
      "['elective', 'agegroup', 'sex', 'ec', 'pc', 'month', 'year']\n"
     ]
    }
   ],
   "source": [
    "# Which features?\n",
    "feat_cols = list(sfs1.k_feature_names_)\n",
    "print(feat_cols)"
   ]
  },
  {
   "cell_type": "code",
   "execution_count": 53,
   "metadata": {},
   "outputs": [
    {
     "data": {
      "text/plain": [
       "LogisticRegression(random_state=0, solver='liblinear')"
      ]
     },
     "execution_count": 53,
     "metadata": {},
     "output_type": "execute_result"
    }
   ],
   "source": [
    "logreg.fit(X_train.loc[:, feat_cols], y_train)"
   ]
  },
  {
   "cell_type": "code",
   "execution_count": 54,
   "metadata": {},
   "outputs": [
    {
     "name": "stdout",
     "output_type": "stream",
     "text": [
      "Testing accuracy on selected features: 0.926\n"
     ]
    }
   ],
   "source": [
    "y_test_pred = logreg.predict(X_test.loc[:, feat_cols])\n",
    "print('Testing accuracy on selected features: %.3f' % accuracy_score(y_test, y_test_pred))"
   ]
  },
  {
   "cell_type": "code",
   "execution_count": 55,
   "metadata": {},
   "outputs": [
    {
     "data": {
      "text/plain": [
       "array([[12817,    11],\n",
       "       [ 1011,    14]])"
      ]
     },
     "execution_count": 55,
     "metadata": {},
     "output_type": "execute_result"
    }
   ],
   "source": [
    "confusion_matrix(y_test, y_test_pred)"
   ]
  },
  {
   "cell_type": "markdown",
   "metadata": {},
   "source": [
    "**loking @ confusion matrix the model is perfoming poorly**"
   ]
  },
  {
   "cell_type": "code",
   "execution_count": 56,
   "metadata": {},
   "outputs": [
    {
     "name": "stdout",
     "output_type": "stream",
     "text": [
      "              precision    recall  f1-score   support\n",
      "\n",
      "           0       0.93      1.00      0.96     12828\n",
      "           1       0.56      0.01      0.03      1025\n",
      "\n",
      "    accuracy                           0.93     13853\n",
      "   macro avg       0.74      0.51      0.49     13853\n",
      "weighted avg       0.90      0.93      0.89     13853\n",
      "\n"
     ]
    }
   ],
   "source": [
    "print(classification_report(y_test, y_test_pred))"
   ]
  },
  {
   "cell_type": "markdown",
   "metadata": {},
   "source": [
    "**The model is overfitting on 0 class on f1 -score result**"
   ]
  },
  {
   "cell_type": "markdown",
   "metadata": {},
   "source": [
    "### Backward selection"
   ]
  },
  {
   "cell_type": "code",
   "execution_count": 57,
   "metadata": {},
   "outputs": [
    {
     "name": "stderr",
     "output_type": "stream",
     "text": [
      "[Parallel(n_jobs=1)]: Using backend SequentialBackend with 1 concurrent workers.\n",
      "[Parallel(n_jobs=1)]: Done  11 out of  11 | elapsed:    5.9s finished\n",
      "Features: 10/7[Parallel(n_jobs=1)]: Using backend SequentialBackend with 1 concurrent workers.\n",
      "[Parallel(n_jobs=1)]: Done  10 out of  10 | elapsed:    5.3s finished\n",
      "Features: 9/7[Parallel(n_jobs=1)]: Using backend SequentialBackend with 1 concurrent workers.\n",
      "[Parallel(n_jobs=1)]: Done   9 out of   9 | elapsed:    3.8s finished\n",
      "Features: 8/7[Parallel(n_jobs=1)]: Using backend SequentialBackend with 1 concurrent workers.\n",
      "[Parallel(n_jobs=1)]: Done   8 out of   8 | elapsed:    2.9s finished\n",
      "Features: 7/7"
     ]
    }
   ],
   "source": [
    "sfsbackward  = sfs(logreg, k_features=7, forward=False, verbose=1, scoring='accuracy')\n",
    "\n",
    "sfsbackward = sfsbackward.fit(X_train, y_train)"
   ]
  },
  {
   "cell_type": "code",
   "execution_count": 58,
   "metadata": {},
   "outputs": [
    {
     "name": "stdout",
     "output_type": "stream",
     "text": [
      "['elective', 'agegroup', 'sex', 'ec', 'pc', 'month', 'year']\n"
     ]
    }
   ],
   "source": [
    "feat_names = list(sfsbackward.k_feature_names_)\n",
    "print(feat_names)"
   ]
  },
  {
   "cell_type": "code",
   "execution_count": 59,
   "metadata": {},
   "outputs": [],
   "source": [
    "logreg.fit(X_train.loc[:, feat_names], y_train)\n",
    "\n",
    "backward_pred = logreg.predict(X_test.loc[:, feat_names])"
   ]
  },
  {
   "cell_type": "code",
   "execution_count": 60,
   "metadata": {},
   "outputs": [
    {
     "data": {
      "text/plain": [
       "0.9262253663466398"
      ]
     },
     "execution_count": 60,
     "metadata": {},
     "output_type": "execute_result"
    }
   ],
   "source": [
    "accuracy_score(y_test, backward_pred)"
   ]
  },
  {
   "cell_type": "code",
   "execution_count": 61,
   "metadata": {},
   "outputs": [
    {
     "data": {
      "text/plain": [
       "array([[12817,    11],\n",
       "       [ 1011,    14]])"
      ]
     },
     "execution_count": 61,
     "metadata": {},
     "output_type": "execute_result"
    }
   ],
   "source": [
    "confusion_matrix(y_test, backward_pred)"
   ]
  },
  {
   "cell_type": "code",
   "execution_count": 62,
   "metadata": {},
   "outputs": [
    {
     "name": "stdout",
     "output_type": "stream",
     "text": [
      "              precision    recall  f1-score   support\n",
      "\n",
      "           0       0.93      1.00      0.96     12828\n",
      "           1       0.56      0.01      0.03      1025\n",
      "\n",
      "    accuracy                           0.93     13853\n",
      "   macro avg       0.74      0.51      0.49     13853\n",
      "weighted avg       0.90      0.93      0.89     13853\n",
      "\n"
     ]
    }
   ],
   "source": [
    "print(classification_report(y_test, backward_pred))"
   ]
  },
  {
   "cell_type": "markdown",
   "metadata": {},
   "source": [
    "### Oversampling and Undersampling "
   ]
  },
  {
   "cell_type": "code",
   "execution_count": 63,
   "metadata": {},
   "outputs": [],
   "source": [
    "# import library\n",
    "from imblearn.under_sampling import RandomUnderSampler\n",
    "\n",
    "rus = RandomUnderSampler(random_state=42, replacement=True)# fit predictor and target variable\n",
    "x_rus, y_rus = rus.fit_resample(X_train, y_train)\n"
   ]
  },
  {
   "cell_type": "code",
   "execution_count": 64,
   "metadata": {},
   "outputs": [
    {
     "data": {
      "text/plain": [
       "1    2393\n",
       "0    2393\n",
       "Name: death, dtype: int64"
      ]
     },
     "execution_count": 64,
     "metadata": {},
     "output_type": "execute_result"
    }
   ],
   "source": [
    "y_rus.value_counts()"
   ]
  },
  {
   "cell_type": "code",
   "execution_count": 65,
   "metadata": {},
   "outputs": [
    {
     "name": "stderr",
     "output_type": "stream",
     "text": [
      "[Parallel(n_jobs=1)]: Using backend SequentialBackend with 1 concurrent workers.\n",
      "[Parallel(n_jobs=1)]: Done  11 out of  11 | elapsed:    0.6s finished\n",
      "Features: 10/9[Parallel(n_jobs=1)]: Using backend SequentialBackend with 1 concurrent workers.\n",
      "[Parallel(n_jobs=1)]: Done  10 out of  10 | elapsed:    0.5s finished\n",
      "Features: 9/9"
     ]
    }
   ],
   "source": [
    "sfsbackward  = sfs(logreg, k_features=9, forward=False, verbose=1, scoring='accuracy')\n",
    "\n",
    "sfsbackward = sfsbackward.fit(x_rus, y_rus)"
   ]
  },
  {
   "cell_type": "code",
   "execution_count": 66,
   "metadata": {},
   "outputs": [
    {
     "name": "stdout",
     "output_type": "stream",
     "text": [
      "['elective', 'agegroup', 'sex', 'charlson', 'ec', 'pc', 'month', 'admisource', 'year']\n"
     ]
    }
   ],
   "source": [
    "feat_names = list(sfsbackward.k_feature_names_)\n",
    "print(feat_names)"
   ]
  },
  {
   "cell_type": "code",
   "execution_count": 67,
   "metadata": {},
   "outputs": [],
   "source": [
    "logreg.fit(x_rus.loc[:, feat_names], y_rus)\n",
    "\n",
    "backward_pred = logreg.predict(X_test.loc[:, feat_names])"
   ]
  },
  {
   "cell_type": "code",
   "execution_count": 68,
   "metadata": {},
   "outputs": [
    {
     "data": {
      "text/plain": [
       "0.6584855266007363"
      ]
     },
     "execution_count": 68,
     "metadata": {},
     "output_type": "execute_result"
    }
   ],
   "source": [
    "accuracy_score(y_test, backward_pred)"
   ]
  },
  {
   "cell_type": "code",
   "execution_count": 69,
   "metadata": {},
   "outputs": [
    {
     "data": {
      "text/plain": [
       "array([[8413, 4415],\n",
       "       [ 316,  709]])"
      ]
     },
     "execution_count": 69,
     "metadata": {},
     "output_type": "execute_result"
    }
   ],
   "source": [
    "confusion_matrix(y_test, backward_pred)"
   ]
  },
  {
   "cell_type": "code",
   "execution_count": 70,
   "metadata": {},
   "outputs": [
    {
     "name": "stdout",
     "output_type": "stream",
     "text": [
      "              precision    recall  f1-score   support\n",
      "\n",
      "           0       0.96      0.66      0.78     12828\n",
      "           1       0.14      0.69      0.23      1025\n",
      "\n",
      "    accuracy                           0.66     13853\n",
      "   macro avg       0.55      0.67      0.51     13853\n",
      "weighted avg       0.90      0.66      0.74     13853\n",
      "\n"
     ]
    }
   ],
   "source": [
    "print(classification_report(y_test, backward_pred))"
   ]
  },
  {
   "cell_type": "code",
   "execution_count": 71,
   "metadata": {},
   "outputs": [],
   "source": [
    "# import library\n",
    "from imblearn.over_sampling import RandomOverSampler\n",
    "\n",
    "ros = RandomOverSampler(random_state=42)\n",
    "\n",
    "# fit predictor and target \n",
    "X_ros, y_ros = ros.fit_resample(X_train, y_train)"
   ]
  },
  {
   "cell_type": "markdown",
   "metadata": {},
   "source": [
    "### Backward selection on oversampled data"
   ]
  },
  {
   "cell_type": "code",
   "execution_count": 72,
   "metadata": {},
   "outputs": [
    {
     "name": "stderr",
     "output_type": "stream",
     "text": [
      "/home/spkibe/anaconda3/lib/python3.7/site-packages/sklearn/model_selection/_validation.py:372: FitFailedWarning: \n",
      "5 fits failed out of a total of 5.\n",
      "The score on these train-test partitions for these parameters will be set to nan.\n",
      "If these failures are not expected, you can try to debug them by setting error_score='raise'.\n",
      "\n",
      "Below are more details about the failures:\n",
      "--------------------------------------------------------------------------------\n",
      "3 fits failed with the following error:\n",
      "Traceback (most recent call last):\n",
      "  File \"/home/spkibe/anaconda3/lib/python3.7/site-packages/sklearn/model_selection/_validation.py\", line 681, in _fit_and_score\n",
      "    estimator.fit(X_train, y_train, **fit_params)\n",
      "  File \"/home/spkibe/anaconda3/lib/python3.7/site-packages/sklearn/linear_model/_logistic.py\", line 1514, in fit\n",
      "    accept_large_sparse=solver not in [\"liblinear\", \"sag\", \"saga\"],\n",
      "  File \"/home/spkibe/anaconda3/lib/python3.7/site-packages/sklearn/base.py\", line 576, in _validate_data\n",
      "    X, y = check_X_y(X, y, **check_params)\n",
      "  File \"/home/spkibe/anaconda3/lib/python3.7/site-packages/sklearn/utils/validation.py\", line 971, in check_X_y\n",
      "    y = _check_y(y, multi_output=multi_output, y_numeric=y_numeric)\n",
      "  File \"/home/spkibe/anaconda3/lib/python3.7/site-packages/sklearn/utils/validation.py\", line 985, in _check_y\n",
      "    y = column_or_1d(y, warn=True)\n",
      "  File \"/home/spkibe/anaconda3/lib/python3.7/site-packages/sklearn/utils/validation.py\", line 1025, in column_or_1d\n",
      "    \"y should be a 1d array, got an array of shape {} instead.\".format(shape)\n",
      "ValueError: y should be a 1d array, got an array of shape (47886, 11) instead.\n",
      "\n",
      "--------------------------------------------------------------------------------\n",
      "2 fits failed with the following error:\n",
      "Traceback (most recent call last):\n",
      "  File \"/home/spkibe/anaconda3/lib/python3.7/site-packages/sklearn/model_selection/_validation.py\", line 681, in _fit_and_score\n",
      "    estimator.fit(X_train, y_train, **fit_params)\n",
      "  File \"/home/spkibe/anaconda3/lib/python3.7/site-packages/sklearn/linear_model/_logistic.py\", line 1514, in fit\n",
      "    accept_large_sparse=solver not in [\"liblinear\", \"sag\", \"saga\"],\n",
      "  File \"/home/spkibe/anaconda3/lib/python3.7/site-packages/sklearn/base.py\", line 576, in _validate_data\n",
      "    X, y = check_X_y(X, y, **check_params)\n",
      "  File \"/home/spkibe/anaconda3/lib/python3.7/site-packages/sklearn/utils/validation.py\", line 971, in check_X_y\n",
      "    y = _check_y(y, multi_output=multi_output, y_numeric=y_numeric)\n",
      "  File \"/home/spkibe/anaconda3/lib/python3.7/site-packages/sklearn/utils/validation.py\", line 985, in _check_y\n",
      "    y = column_or_1d(y, warn=True)\n",
      "  File \"/home/spkibe/anaconda3/lib/python3.7/site-packages/sklearn/utils/validation.py\", line 1025, in column_or_1d\n",
      "    \"y should be a 1d array, got an array of shape {} instead.\".format(shape)\n",
      "ValueError: y should be a 1d array, got an array of shape (47887, 11) instead.\n",
      "\n",
      "  warnings.warn(some_fits_failed_message, FitFailedWarning)\n",
      "/home/spkibe/anaconda3/lib/python3.7/site-packages/mlxtend/feature_selection/sequential_feature_selector.py:423: RuntimeWarning: Mean of empty slice\n",
      "  'avg_score': np.nanmean(k_score)\n",
      "[Parallel(n_jobs=1)]: Using backend SequentialBackend with 1 concurrent workers.\n",
      "/home/spkibe/anaconda3/lib/python3.7/site-packages/sklearn/model_selection/_validation.py:372: FitFailedWarning: \n",
      "5 fits failed out of a total of 5.\n",
      "The score on these train-test partitions for these parameters will be set to nan.\n",
      "If these failures are not expected, you can try to debug them by setting error_score='raise'.\n",
      "\n",
      "Below are more details about the failures:\n",
      "--------------------------------------------------------------------------------\n",
      "3 fits failed with the following error:\n",
      "Traceback (most recent call last):\n",
      "  File \"/home/spkibe/anaconda3/lib/python3.7/site-packages/sklearn/model_selection/_validation.py\", line 681, in _fit_and_score\n",
      "    estimator.fit(X_train, y_train, **fit_params)\n",
      "  File \"/home/spkibe/anaconda3/lib/python3.7/site-packages/sklearn/linear_model/_logistic.py\", line 1514, in fit\n",
      "    accept_large_sparse=solver not in [\"liblinear\", \"sag\", \"saga\"],\n",
      "  File \"/home/spkibe/anaconda3/lib/python3.7/site-packages/sklearn/base.py\", line 576, in _validate_data\n",
      "    X, y = check_X_y(X, y, **check_params)\n",
      "  File \"/home/spkibe/anaconda3/lib/python3.7/site-packages/sklearn/utils/validation.py\", line 971, in check_X_y\n",
      "    y = _check_y(y, multi_output=multi_output, y_numeric=y_numeric)\n",
      "  File \"/home/spkibe/anaconda3/lib/python3.7/site-packages/sklearn/utils/validation.py\", line 985, in _check_y\n",
      "    y = column_or_1d(y, warn=True)\n",
      "  File \"/home/spkibe/anaconda3/lib/python3.7/site-packages/sklearn/utils/validation.py\", line 1025, in column_or_1d\n",
      "    \"y should be a 1d array, got an array of shape {} instead.\".format(shape)\n",
      "ValueError: y should be a 1d array, got an array of shape (47886, 11) instead.\n",
      "\n",
      "--------------------------------------------------------------------------------\n",
      "2 fits failed with the following error:\n",
      "Traceback (most recent call last):\n",
      "  File \"/home/spkibe/anaconda3/lib/python3.7/site-packages/sklearn/model_selection/_validation.py\", line 681, in _fit_and_score\n",
      "    estimator.fit(X_train, y_train, **fit_params)\n",
      "  File \"/home/spkibe/anaconda3/lib/python3.7/site-packages/sklearn/linear_model/_logistic.py\", line 1514, in fit\n",
      "    accept_large_sparse=solver not in [\"liblinear\", \"sag\", \"saga\"],\n",
      "  File \"/home/spkibe/anaconda3/lib/python3.7/site-packages/sklearn/base.py\", line 576, in _validate_data\n",
      "    X, y = check_X_y(X, y, **check_params)\n",
      "  File \"/home/spkibe/anaconda3/lib/python3.7/site-packages/sklearn/utils/validation.py\", line 971, in check_X_y\n",
      "    y = _check_y(y, multi_output=multi_output, y_numeric=y_numeric)\n",
      "  File \"/home/spkibe/anaconda3/lib/python3.7/site-packages/sklearn/utils/validation.py\", line 985, in _check_y\n",
      "    y = column_or_1d(y, warn=True)\n",
      "  File \"/home/spkibe/anaconda3/lib/python3.7/site-packages/sklearn/utils/validation.py\", line 1025, in column_or_1d\n",
      "    \"y should be a 1d array, got an array of shape {} instead.\".format(shape)\n",
      "ValueError: y should be a 1d array, got an array of shape (47887, 11) instead.\n",
      "\n",
      "  warnings.warn(some_fits_failed_message, FitFailedWarning)\n",
      "/home/spkibe/anaconda3/lib/python3.7/site-packages/sklearn/model_selection/_validation.py:372: FitFailedWarning: \n",
      "5 fits failed out of a total of 5.\n",
      "The score on these train-test partitions for these parameters will be set to nan.\n",
      "If these failures are not expected, you can try to debug them by setting error_score='raise'.\n",
      "\n",
      "Below are more details about the failures:\n",
      "--------------------------------------------------------------------------------\n",
      "3 fits failed with the following error:\n",
      "Traceback (most recent call last):\n",
      "  File \"/home/spkibe/anaconda3/lib/python3.7/site-packages/sklearn/model_selection/_validation.py\", line 681, in _fit_and_score\n",
      "    estimator.fit(X_train, y_train, **fit_params)\n",
      "  File \"/home/spkibe/anaconda3/lib/python3.7/site-packages/sklearn/linear_model/_logistic.py\", line 1514, in fit\n",
      "    accept_large_sparse=solver not in [\"liblinear\", \"sag\", \"saga\"],\n",
      "  File \"/home/spkibe/anaconda3/lib/python3.7/site-packages/sklearn/base.py\", line 576, in _validate_data\n",
      "    X, y = check_X_y(X, y, **check_params)\n",
      "  File \"/home/spkibe/anaconda3/lib/python3.7/site-packages/sklearn/utils/validation.py\", line 971, in check_X_y\n",
      "    y = _check_y(y, multi_output=multi_output, y_numeric=y_numeric)\n",
      "  File \"/home/spkibe/anaconda3/lib/python3.7/site-packages/sklearn/utils/validation.py\", line 985, in _check_y\n",
      "    y = column_or_1d(y, warn=True)\n",
      "  File \"/home/spkibe/anaconda3/lib/python3.7/site-packages/sklearn/utils/validation.py\", line 1025, in column_or_1d\n",
      "    \"y should be a 1d array, got an array of shape {} instead.\".format(shape)\n",
      "ValueError: y should be a 1d array, got an array of shape (47886, 11) instead.\n",
      "\n",
      "--------------------------------------------------------------------------------\n",
      "2 fits failed with the following error:\n",
      "Traceback (most recent call last):\n",
      "  File \"/home/spkibe/anaconda3/lib/python3.7/site-packages/sklearn/model_selection/_validation.py\", line 681, in _fit_and_score\n",
      "    estimator.fit(X_train, y_train, **fit_params)\n",
      "  File \"/home/spkibe/anaconda3/lib/python3.7/site-packages/sklearn/linear_model/_logistic.py\", line 1514, in fit\n",
      "    accept_large_sparse=solver not in [\"liblinear\", \"sag\", \"saga\"],\n",
      "  File \"/home/spkibe/anaconda3/lib/python3.7/site-packages/sklearn/base.py\", line 576, in _validate_data\n",
      "    X, y = check_X_y(X, y, **check_params)\n",
      "  File \"/home/spkibe/anaconda3/lib/python3.7/site-packages/sklearn/utils/validation.py\", line 971, in check_X_y\n",
      "    y = _check_y(y, multi_output=multi_output, y_numeric=y_numeric)\n",
      "  File \"/home/spkibe/anaconda3/lib/python3.7/site-packages/sklearn/utils/validation.py\", line 985, in _check_y\n",
      "    y = column_or_1d(y, warn=True)\n",
      "  File \"/home/spkibe/anaconda3/lib/python3.7/site-packages/sklearn/utils/validation.py\", line 1025, in column_or_1d\n",
      "    \"y should be a 1d array, got an array of shape {} instead.\".format(shape)\n",
      "ValueError: y should be a 1d array, got an array of shape (47887, 11) instead.\n",
      "\n",
      "  warnings.warn(some_fits_failed_message, FitFailedWarning)\n"
     ]
    },
    {
     "name": "stderr",
     "output_type": "stream",
     "text": [
      "/home/spkibe/anaconda3/lib/python3.7/site-packages/sklearn/model_selection/_validation.py:372: FitFailedWarning: \n",
      "5 fits failed out of a total of 5.\n",
      "The score on these train-test partitions for these parameters will be set to nan.\n",
      "If these failures are not expected, you can try to debug them by setting error_score='raise'.\n",
      "\n",
      "Below are more details about the failures:\n",
      "--------------------------------------------------------------------------------\n",
      "3 fits failed with the following error:\n",
      "Traceback (most recent call last):\n",
      "  File \"/home/spkibe/anaconda3/lib/python3.7/site-packages/sklearn/model_selection/_validation.py\", line 681, in _fit_and_score\n",
      "    estimator.fit(X_train, y_train, **fit_params)\n",
      "  File \"/home/spkibe/anaconda3/lib/python3.7/site-packages/sklearn/linear_model/_logistic.py\", line 1514, in fit\n",
      "    accept_large_sparse=solver not in [\"liblinear\", \"sag\", \"saga\"],\n",
      "  File \"/home/spkibe/anaconda3/lib/python3.7/site-packages/sklearn/base.py\", line 576, in _validate_data\n",
      "    X, y = check_X_y(X, y, **check_params)\n",
      "  File \"/home/spkibe/anaconda3/lib/python3.7/site-packages/sklearn/utils/validation.py\", line 971, in check_X_y\n",
      "    y = _check_y(y, multi_output=multi_output, y_numeric=y_numeric)\n",
      "  File \"/home/spkibe/anaconda3/lib/python3.7/site-packages/sklearn/utils/validation.py\", line 985, in _check_y\n",
      "    y = column_or_1d(y, warn=True)\n",
      "  File \"/home/spkibe/anaconda3/lib/python3.7/site-packages/sklearn/utils/validation.py\", line 1025, in column_or_1d\n",
      "    \"y should be a 1d array, got an array of shape {} instead.\".format(shape)\n",
      "ValueError: y should be a 1d array, got an array of shape (47886, 11) instead.\n",
      "\n",
      "--------------------------------------------------------------------------------\n",
      "2 fits failed with the following error:\n",
      "Traceback (most recent call last):\n",
      "  File \"/home/spkibe/anaconda3/lib/python3.7/site-packages/sklearn/model_selection/_validation.py\", line 681, in _fit_and_score\n",
      "    estimator.fit(X_train, y_train, **fit_params)\n",
      "  File \"/home/spkibe/anaconda3/lib/python3.7/site-packages/sklearn/linear_model/_logistic.py\", line 1514, in fit\n",
      "    accept_large_sparse=solver not in [\"liblinear\", \"sag\", \"saga\"],\n",
      "  File \"/home/spkibe/anaconda3/lib/python3.7/site-packages/sklearn/base.py\", line 576, in _validate_data\n",
      "    X, y = check_X_y(X, y, **check_params)\n",
      "  File \"/home/spkibe/anaconda3/lib/python3.7/site-packages/sklearn/utils/validation.py\", line 971, in check_X_y\n",
      "    y = _check_y(y, multi_output=multi_output, y_numeric=y_numeric)\n",
      "  File \"/home/spkibe/anaconda3/lib/python3.7/site-packages/sklearn/utils/validation.py\", line 985, in _check_y\n",
      "    y = column_or_1d(y, warn=True)\n",
      "  File \"/home/spkibe/anaconda3/lib/python3.7/site-packages/sklearn/utils/validation.py\", line 1025, in column_or_1d\n",
      "    \"y should be a 1d array, got an array of shape {} instead.\".format(shape)\n",
      "ValueError: y should be a 1d array, got an array of shape (47887, 11) instead.\n",
      "\n",
      "  warnings.warn(some_fits_failed_message, FitFailedWarning)\n",
      "/home/spkibe/anaconda3/lib/python3.7/site-packages/sklearn/model_selection/_validation.py:372: FitFailedWarning: \n",
      "5 fits failed out of a total of 5.\n",
      "The score on these train-test partitions for these parameters will be set to nan.\n",
      "If these failures are not expected, you can try to debug them by setting error_score='raise'.\n",
      "\n",
      "Below are more details about the failures:\n",
      "--------------------------------------------------------------------------------\n",
      "3 fits failed with the following error:\n",
      "Traceback (most recent call last):\n",
      "  File \"/home/spkibe/anaconda3/lib/python3.7/site-packages/sklearn/model_selection/_validation.py\", line 681, in _fit_and_score\n",
      "    estimator.fit(X_train, y_train, **fit_params)\n",
      "  File \"/home/spkibe/anaconda3/lib/python3.7/site-packages/sklearn/linear_model/_logistic.py\", line 1514, in fit\n",
      "    accept_large_sparse=solver not in [\"liblinear\", \"sag\", \"saga\"],\n",
      "  File \"/home/spkibe/anaconda3/lib/python3.7/site-packages/sklearn/base.py\", line 576, in _validate_data\n",
      "    X, y = check_X_y(X, y, **check_params)\n",
      "  File \"/home/spkibe/anaconda3/lib/python3.7/site-packages/sklearn/utils/validation.py\", line 971, in check_X_y\n",
      "    y = _check_y(y, multi_output=multi_output, y_numeric=y_numeric)\n",
      "  File \"/home/spkibe/anaconda3/lib/python3.7/site-packages/sklearn/utils/validation.py\", line 985, in _check_y\n",
      "    y = column_or_1d(y, warn=True)\n",
      "  File \"/home/spkibe/anaconda3/lib/python3.7/site-packages/sklearn/utils/validation.py\", line 1025, in column_or_1d\n",
      "    \"y should be a 1d array, got an array of shape {} instead.\".format(shape)\n",
      "ValueError: y should be a 1d array, got an array of shape (47886, 11) instead.\n",
      "\n",
      "--------------------------------------------------------------------------------\n",
      "2 fits failed with the following error:\n",
      "Traceback (most recent call last):\n",
      "  File \"/home/spkibe/anaconda3/lib/python3.7/site-packages/sklearn/model_selection/_validation.py\", line 681, in _fit_and_score\n",
      "    estimator.fit(X_train, y_train, **fit_params)\n",
      "  File \"/home/spkibe/anaconda3/lib/python3.7/site-packages/sklearn/linear_model/_logistic.py\", line 1514, in fit\n",
      "    accept_large_sparse=solver not in [\"liblinear\", \"sag\", \"saga\"],\n",
      "  File \"/home/spkibe/anaconda3/lib/python3.7/site-packages/sklearn/base.py\", line 576, in _validate_data\n",
      "    X, y = check_X_y(X, y, **check_params)\n",
      "  File \"/home/spkibe/anaconda3/lib/python3.7/site-packages/sklearn/utils/validation.py\", line 971, in check_X_y\n",
      "    y = _check_y(y, multi_output=multi_output, y_numeric=y_numeric)\n",
      "  File \"/home/spkibe/anaconda3/lib/python3.7/site-packages/sklearn/utils/validation.py\", line 985, in _check_y\n",
      "    y = column_or_1d(y, warn=True)\n",
      "  File \"/home/spkibe/anaconda3/lib/python3.7/site-packages/sklearn/utils/validation.py\", line 1025, in column_or_1d\n",
      "    \"y should be a 1d array, got an array of shape {} instead.\".format(shape)\n",
      "ValueError: y should be a 1d array, got an array of shape (47887, 11) instead.\n",
      "\n",
      "  warnings.warn(some_fits_failed_message, FitFailedWarning)\n",
      "/home/spkibe/anaconda3/lib/python3.7/site-packages/sklearn/model_selection/_validation.py:372: FitFailedWarning: \n",
      "5 fits failed out of a total of 5.\n",
      "The score on these train-test partitions for these parameters will be set to nan.\n",
      "If these failures are not expected, you can try to debug them by setting error_score='raise'.\n",
      "\n",
      "Below are more details about the failures:\n",
      "--------------------------------------------------------------------------------\n",
      "3 fits failed with the following error:\n",
      "Traceback (most recent call last):\n",
      "  File \"/home/spkibe/anaconda3/lib/python3.7/site-packages/sklearn/model_selection/_validation.py\", line 681, in _fit_and_score\n",
      "    estimator.fit(X_train, y_train, **fit_params)\n",
      "  File \"/home/spkibe/anaconda3/lib/python3.7/site-packages/sklearn/linear_model/_logistic.py\", line 1514, in fit\n",
      "    accept_large_sparse=solver not in [\"liblinear\", \"sag\", \"saga\"],\n",
      "  File \"/home/spkibe/anaconda3/lib/python3.7/site-packages/sklearn/base.py\", line 576, in _validate_data\n",
      "    X, y = check_X_y(X, y, **check_params)\n",
      "  File \"/home/spkibe/anaconda3/lib/python3.7/site-packages/sklearn/utils/validation.py\", line 971, in check_X_y\n",
      "    y = _check_y(y, multi_output=multi_output, y_numeric=y_numeric)\n",
      "  File \"/home/spkibe/anaconda3/lib/python3.7/site-packages/sklearn/utils/validation.py\", line 985, in _check_y\n",
      "    y = column_or_1d(y, warn=True)\n",
      "  File \"/home/spkibe/anaconda3/lib/python3.7/site-packages/sklearn/utils/validation.py\", line 1025, in column_or_1d\n",
      "    \"y should be a 1d array, got an array of shape {} instead.\".format(shape)\n",
      "ValueError: y should be a 1d array, got an array of shape (47886, 11) instead.\n",
      "\n",
      "--------------------------------------------------------------------------------\n",
      "2 fits failed with the following error:\n",
      "Traceback (most recent call last):\n",
      "  File \"/home/spkibe/anaconda3/lib/python3.7/site-packages/sklearn/model_selection/_validation.py\", line 681, in _fit_and_score\n",
      "    estimator.fit(X_train, y_train, **fit_params)\n",
      "  File \"/home/spkibe/anaconda3/lib/python3.7/site-packages/sklearn/linear_model/_logistic.py\", line 1514, in fit\n",
      "    accept_large_sparse=solver not in [\"liblinear\", \"sag\", \"saga\"],\n",
      "  File \"/home/spkibe/anaconda3/lib/python3.7/site-packages/sklearn/base.py\", line 576, in _validate_data\n",
      "    X, y = check_X_y(X, y, **check_params)\n",
      "  File \"/home/spkibe/anaconda3/lib/python3.7/site-packages/sklearn/utils/validation.py\", line 971, in check_X_y\n",
      "    y = _check_y(y, multi_output=multi_output, y_numeric=y_numeric)\n",
      "  File \"/home/spkibe/anaconda3/lib/python3.7/site-packages/sklearn/utils/validation.py\", line 985, in _check_y\n",
      "    y = column_or_1d(y, warn=True)\n",
      "  File \"/home/spkibe/anaconda3/lib/python3.7/site-packages/sklearn/utils/validation.py\", line 1025, in column_or_1d\n",
      "    \"y should be a 1d array, got an array of shape {} instead.\".format(shape)\n",
      "ValueError: y should be a 1d array, got an array of shape (47887, 11) instead.\n",
      "\n",
      "  warnings.warn(some_fits_failed_message, FitFailedWarning)\n"
     ]
    },
    {
     "name": "stderr",
     "output_type": "stream",
     "text": [
      "/home/spkibe/anaconda3/lib/python3.7/site-packages/sklearn/model_selection/_validation.py:372: FitFailedWarning: \n",
      "5 fits failed out of a total of 5.\n",
      "The score on these train-test partitions for these parameters will be set to nan.\n",
      "If these failures are not expected, you can try to debug them by setting error_score='raise'.\n",
      "\n",
      "Below are more details about the failures:\n",
      "--------------------------------------------------------------------------------\n",
      "3 fits failed with the following error:\n",
      "Traceback (most recent call last):\n",
      "  File \"/home/spkibe/anaconda3/lib/python3.7/site-packages/sklearn/model_selection/_validation.py\", line 681, in _fit_and_score\n",
      "    estimator.fit(X_train, y_train, **fit_params)\n",
      "  File \"/home/spkibe/anaconda3/lib/python3.7/site-packages/sklearn/linear_model/_logistic.py\", line 1514, in fit\n",
      "    accept_large_sparse=solver not in [\"liblinear\", \"sag\", \"saga\"],\n",
      "  File \"/home/spkibe/anaconda3/lib/python3.7/site-packages/sklearn/base.py\", line 576, in _validate_data\n",
      "    X, y = check_X_y(X, y, **check_params)\n",
      "  File \"/home/spkibe/anaconda3/lib/python3.7/site-packages/sklearn/utils/validation.py\", line 971, in check_X_y\n",
      "    y = _check_y(y, multi_output=multi_output, y_numeric=y_numeric)\n",
      "  File \"/home/spkibe/anaconda3/lib/python3.7/site-packages/sklearn/utils/validation.py\", line 985, in _check_y\n",
      "    y = column_or_1d(y, warn=True)\n",
      "  File \"/home/spkibe/anaconda3/lib/python3.7/site-packages/sklearn/utils/validation.py\", line 1025, in column_or_1d\n",
      "    \"y should be a 1d array, got an array of shape {} instead.\".format(shape)\n",
      "ValueError: y should be a 1d array, got an array of shape (47886, 11) instead.\n",
      "\n",
      "--------------------------------------------------------------------------------\n",
      "2 fits failed with the following error:\n",
      "Traceback (most recent call last):\n",
      "  File \"/home/spkibe/anaconda3/lib/python3.7/site-packages/sklearn/model_selection/_validation.py\", line 681, in _fit_and_score\n",
      "    estimator.fit(X_train, y_train, **fit_params)\n",
      "  File \"/home/spkibe/anaconda3/lib/python3.7/site-packages/sklearn/linear_model/_logistic.py\", line 1514, in fit\n",
      "    accept_large_sparse=solver not in [\"liblinear\", \"sag\", \"saga\"],\n",
      "  File \"/home/spkibe/anaconda3/lib/python3.7/site-packages/sklearn/base.py\", line 576, in _validate_data\n",
      "    X, y = check_X_y(X, y, **check_params)\n",
      "  File \"/home/spkibe/anaconda3/lib/python3.7/site-packages/sklearn/utils/validation.py\", line 971, in check_X_y\n",
      "    y = _check_y(y, multi_output=multi_output, y_numeric=y_numeric)\n",
      "  File \"/home/spkibe/anaconda3/lib/python3.7/site-packages/sklearn/utils/validation.py\", line 985, in _check_y\n",
      "    y = column_or_1d(y, warn=True)\n",
      "  File \"/home/spkibe/anaconda3/lib/python3.7/site-packages/sklearn/utils/validation.py\", line 1025, in column_or_1d\n",
      "    \"y should be a 1d array, got an array of shape {} instead.\".format(shape)\n",
      "ValueError: y should be a 1d array, got an array of shape (47887, 11) instead.\n",
      "\n",
      "  warnings.warn(some_fits_failed_message, FitFailedWarning)\n",
      "/home/spkibe/anaconda3/lib/python3.7/site-packages/sklearn/model_selection/_validation.py:372: FitFailedWarning: \n",
      "5 fits failed out of a total of 5.\n",
      "The score on these train-test partitions for these parameters will be set to nan.\n",
      "If these failures are not expected, you can try to debug them by setting error_score='raise'.\n",
      "\n",
      "Below are more details about the failures:\n",
      "--------------------------------------------------------------------------------\n",
      "3 fits failed with the following error:\n",
      "Traceback (most recent call last):\n",
      "  File \"/home/spkibe/anaconda3/lib/python3.7/site-packages/sklearn/model_selection/_validation.py\", line 681, in _fit_and_score\n",
      "    estimator.fit(X_train, y_train, **fit_params)\n",
      "  File \"/home/spkibe/anaconda3/lib/python3.7/site-packages/sklearn/linear_model/_logistic.py\", line 1514, in fit\n",
      "    accept_large_sparse=solver not in [\"liblinear\", \"sag\", \"saga\"],\n",
      "  File \"/home/spkibe/anaconda3/lib/python3.7/site-packages/sklearn/base.py\", line 576, in _validate_data\n",
      "    X, y = check_X_y(X, y, **check_params)\n",
      "  File \"/home/spkibe/anaconda3/lib/python3.7/site-packages/sklearn/utils/validation.py\", line 971, in check_X_y\n",
      "    y = _check_y(y, multi_output=multi_output, y_numeric=y_numeric)\n",
      "  File \"/home/spkibe/anaconda3/lib/python3.7/site-packages/sklearn/utils/validation.py\", line 985, in _check_y\n",
      "    y = column_or_1d(y, warn=True)\n",
      "  File \"/home/spkibe/anaconda3/lib/python3.7/site-packages/sklearn/utils/validation.py\", line 1025, in column_or_1d\n",
      "    \"y should be a 1d array, got an array of shape {} instead.\".format(shape)\n",
      "ValueError: y should be a 1d array, got an array of shape (47886, 11) instead.\n",
      "\n",
      "--------------------------------------------------------------------------------\n",
      "2 fits failed with the following error:\n",
      "Traceback (most recent call last):\n",
      "  File \"/home/spkibe/anaconda3/lib/python3.7/site-packages/sklearn/model_selection/_validation.py\", line 681, in _fit_and_score\n",
      "    estimator.fit(X_train, y_train, **fit_params)\n",
      "  File \"/home/spkibe/anaconda3/lib/python3.7/site-packages/sklearn/linear_model/_logistic.py\", line 1514, in fit\n",
      "    accept_large_sparse=solver not in [\"liblinear\", \"sag\", \"saga\"],\n",
      "  File \"/home/spkibe/anaconda3/lib/python3.7/site-packages/sklearn/base.py\", line 576, in _validate_data\n",
      "    X, y = check_X_y(X, y, **check_params)\n",
      "  File \"/home/spkibe/anaconda3/lib/python3.7/site-packages/sklearn/utils/validation.py\", line 971, in check_X_y\n",
      "    y = _check_y(y, multi_output=multi_output, y_numeric=y_numeric)\n",
      "  File \"/home/spkibe/anaconda3/lib/python3.7/site-packages/sklearn/utils/validation.py\", line 985, in _check_y\n",
      "    y = column_or_1d(y, warn=True)\n",
      "  File \"/home/spkibe/anaconda3/lib/python3.7/site-packages/sklearn/utils/validation.py\", line 1025, in column_or_1d\n",
      "    \"y should be a 1d array, got an array of shape {} instead.\".format(shape)\n",
      "ValueError: y should be a 1d array, got an array of shape (47887, 11) instead.\n",
      "\n",
      "  warnings.warn(some_fits_failed_message, FitFailedWarning)\n",
      "/home/spkibe/anaconda3/lib/python3.7/site-packages/sklearn/model_selection/_validation.py:372: FitFailedWarning: \n",
      "5 fits failed out of a total of 5.\n",
      "The score on these train-test partitions for these parameters will be set to nan.\n",
      "If these failures are not expected, you can try to debug them by setting error_score='raise'.\n",
      "\n",
      "Below are more details about the failures:\n",
      "--------------------------------------------------------------------------------\n",
      "3 fits failed with the following error:\n",
      "Traceback (most recent call last):\n",
      "  File \"/home/spkibe/anaconda3/lib/python3.7/site-packages/sklearn/model_selection/_validation.py\", line 681, in _fit_and_score\n",
      "    estimator.fit(X_train, y_train, **fit_params)\n",
      "  File \"/home/spkibe/anaconda3/lib/python3.7/site-packages/sklearn/linear_model/_logistic.py\", line 1514, in fit\n",
      "    accept_large_sparse=solver not in [\"liblinear\", \"sag\", \"saga\"],\n",
      "  File \"/home/spkibe/anaconda3/lib/python3.7/site-packages/sklearn/base.py\", line 576, in _validate_data\n",
      "    X, y = check_X_y(X, y, **check_params)\n",
      "  File \"/home/spkibe/anaconda3/lib/python3.7/site-packages/sklearn/utils/validation.py\", line 971, in check_X_y\n",
      "    y = _check_y(y, multi_output=multi_output, y_numeric=y_numeric)\n",
      "  File \"/home/spkibe/anaconda3/lib/python3.7/site-packages/sklearn/utils/validation.py\", line 985, in _check_y\n",
      "    y = column_or_1d(y, warn=True)\n",
      "  File \"/home/spkibe/anaconda3/lib/python3.7/site-packages/sklearn/utils/validation.py\", line 1025, in column_or_1d\n",
      "    \"y should be a 1d array, got an array of shape {} instead.\".format(shape)\n",
      "ValueError: y should be a 1d array, got an array of shape (47886, 11) instead.\n",
      "\n",
      "--------------------------------------------------------------------------------\n",
      "2 fits failed with the following error:\n",
      "Traceback (most recent call last):\n",
      "  File \"/home/spkibe/anaconda3/lib/python3.7/site-packages/sklearn/model_selection/_validation.py\", line 681, in _fit_and_score\n",
      "    estimator.fit(X_train, y_train, **fit_params)\n",
      "  File \"/home/spkibe/anaconda3/lib/python3.7/site-packages/sklearn/linear_model/_logistic.py\", line 1514, in fit\n",
      "    accept_large_sparse=solver not in [\"liblinear\", \"sag\", \"saga\"],\n",
      "  File \"/home/spkibe/anaconda3/lib/python3.7/site-packages/sklearn/base.py\", line 576, in _validate_data\n",
      "    X, y = check_X_y(X, y, **check_params)\n",
      "  File \"/home/spkibe/anaconda3/lib/python3.7/site-packages/sklearn/utils/validation.py\", line 971, in check_X_y\n",
      "    y = _check_y(y, multi_output=multi_output, y_numeric=y_numeric)\n",
      "  File \"/home/spkibe/anaconda3/lib/python3.7/site-packages/sklearn/utils/validation.py\", line 985, in _check_y\n",
      "    y = column_or_1d(y, warn=True)\n",
      "  File \"/home/spkibe/anaconda3/lib/python3.7/site-packages/sklearn/utils/validation.py\", line 1025, in column_or_1d\n",
      "    \"y should be a 1d array, got an array of shape {} instead.\".format(shape)\n",
      "ValueError: y should be a 1d array, got an array of shape (47887, 11) instead.\n",
      "\n",
      "  warnings.warn(some_fits_failed_message, FitFailedWarning)\n",
      "/home/spkibe/anaconda3/lib/python3.7/site-packages/sklearn/model_selection/_validation.py:372: FitFailedWarning: \n",
      "5 fits failed out of a total of 5.\n",
      "The score on these train-test partitions for these parameters will be set to nan.\n",
      "If these failures are not expected, you can try to debug them by setting error_score='raise'.\n",
      "\n",
      "Below are more details about the failures:\n",
      "--------------------------------------------------------------------------------\n",
      "3 fits failed with the following error:\n",
      "Traceback (most recent call last):\n",
      "  File \"/home/spkibe/anaconda3/lib/python3.7/site-packages/sklearn/model_selection/_validation.py\", line 681, in _fit_and_score\n",
      "    estimator.fit(X_train, y_train, **fit_params)\n",
      "  File \"/home/spkibe/anaconda3/lib/python3.7/site-packages/sklearn/linear_model/_logistic.py\", line 1514, in fit\n",
      "    accept_large_sparse=solver not in [\"liblinear\", \"sag\", \"saga\"],\n",
      "  File \"/home/spkibe/anaconda3/lib/python3.7/site-packages/sklearn/base.py\", line 576, in _validate_data\n",
      "    X, y = check_X_y(X, y, **check_params)\n",
      "  File \"/home/spkibe/anaconda3/lib/python3.7/site-packages/sklearn/utils/validation.py\", line 971, in check_X_y\n",
      "    y = _check_y(y, multi_output=multi_output, y_numeric=y_numeric)\n",
      "  File \"/home/spkibe/anaconda3/lib/python3.7/site-packages/sklearn/utils/validation.py\", line 985, in _check_y\n",
      "    y = column_or_1d(y, warn=True)\n",
      "  File \"/home/spkibe/anaconda3/lib/python3.7/site-packages/sklearn/utils/validation.py\", line 1025, in column_or_1d\n",
      "    \"y should be a 1d array, got an array of shape {} instead.\".format(shape)\n",
      "ValueError: y should be a 1d array, got an array of shape (47886, 11) instead.\n",
      "\n",
      "--------------------------------------------------------------------------------\n",
      "2 fits failed with the following error:\n",
      "Traceback (most recent call last):\n",
      "  File \"/home/spkibe/anaconda3/lib/python3.7/site-packages/sklearn/model_selection/_validation.py\", line 681, in _fit_and_score\n",
      "    estimator.fit(X_train, y_train, **fit_params)\n",
      "  File \"/home/spkibe/anaconda3/lib/python3.7/site-packages/sklearn/linear_model/_logistic.py\", line 1514, in fit\n",
      "    accept_large_sparse=solver not in [\"liblinear\", \"sag\", \"saga\"],\n",
      "  File \"/home/spkibe/anaconda3/lib/python3.7/site-packages/sklearn/base.py\", line 576, in _validate_data\n",
      "    X, y = check_X_y(X, y, **check_params)\n",
      "  File \"/home/spkibe/anaconda3/lib/python3.7/site-packages/sklearn/utils/validation.py\", line 971, in check_X_y\n",
      "    y = _check_y(y, multi_output=multi_output, y_numeric=y_numeric)\n",
      "  File \"/home/spkibe/anaconda3/lib/python3.7/site-packages/sklearn/utils/validation.py\", line 985, in _check_y\n",
      "    y = column_or_1d(y, warn=True)\n",
      "  File \"/home/spkibe/anaconda3/lib/python3.7/site-packages/sklearn/utils/validation.py\", line 1025, in column_or_1d\n",
      "    \"y should be a 1d array, got an array of shape {} instead.\".format(shape)\n",
      "ValueError: y should be a 1d array, got an array of shape (47887, 11) instead.\n",
      "\n",
      "  warnings.warn(some_fits_failed_message, FitFailedWarning)\n"
     ]
    },
    {
     "name": "stderr",
     "output_type": "stream",
     "text": [
      "/home/spkibe/anaconda3/lib/python3.7/site-packages/sklearn/model_selection/_validation.py:372: FitFailedWarning: \n",
      "5 fits failed out of a total of 5.\n",
      "The score on these train-test partitions for these parameters will be set to nan.\n",
      "If these failures are not expected, you can try to debug them by setting error_score='raise'.\n",
      "\n",
      "Below are more details about the failures:\n",
      "--------------------------------------------------------------------------------\n",
      "3 fits failed with the following error:\n",
      "Traceback (most recent call last):\n",
      "  File \"/home/spkibe/anaconda3/lib/python3.7/site-packages/sklearn/model_selection/_validation.py\", line 681, in _fit_and_score\n",
      "    estimator.fit(X_train, y_train, **fit_params)\n",
      "  File \"/home/spkibe/anaconda3/lib/python3.7/site-packages/sklearn/linear_model/_logistic.py\", line 1514, in fit\n",
      "    accept_large_sparse=solver not in [\"liblinear\", \"sag\", \"saga\"],\n",
      "  File \"/home/spkibe/anaconda3/lib/python3.7/site-packages/sklearn/base.py\", line 576, in _validate_data\n",
      "    X, y = check_X_y(X, y, **check_params)\n",
      "  File \"/home/spkibe/anaconda3/lib/python3.7/site-packages/sklearn/utils/validation.py\", line 971, in check_X_y\n",
      "    y = _check_y(y, multi_output=multi_output, y_numeric=y_numeric)\n",
      "  File \"/home/spkibe/anaconda3/lib/python3.7/site-packages/sklearn/utils/validation.py\", line 985, in _check_y\n",
      "    y = column_or_1d(y, warn=True)\n",
      "  File \"/home/spkibe/anaconda3/lib/python3.7/site-packages/sklearn/utils/validation.py\", line 1025, in column_or_1d\n",
      "    \"y should be a 1d array, got an array of shape {} instead.\".format(shape)\n",
      "ValueError: y should be a 1d array, got an array of shape (47886, 11) instead.\n",
      "\n",
      "--------------------------------------------------------------------------------\n",
      "2 fits failed with the following error:\n",
      "Traceback (most recent call last):\n",
      "  File \"/home/spkibe/anaconda3/lib/python3.7/site-packages/sklearn/model_selection/_validation.py\", line 681, in _fit_and_score\n",
      "    estimator.fit(X_train, y_train, **fit_params)\n",
      "  File \"/home/spkibe/anaconda3/lib/python3.7/site-packages/sklearn/linear_model/_logistic.py\", line 1514, in fit\n",
      "    accept_large_sparse=solver not in [\"liblinear\", \"sag\", \"saga\"],\n",
      "  File \"/home/spkibe/anaconda3/lib/python3.7/site-packages/sklearn/base.py\", line 576, in _validate_data\n",
      "    X, y = check_X_y(X, y, **check_params)\n",
      "  File \"/home/spkibe/anaconda3/lib/python3.7/site-packages/sklearn/utils/validation.py\", line 971, in check_X_y\n",
      "    y = _check_y(y, multi_output=multi_output, y_numeric=y_numeric)\n",
      "  File \"/home/spkibe/anaconda3/lib/python3.7/site-packages/sklearn/utils/validation.py\", line 985, in _check_y\n",
      "    y = column_or_1d(y, warn=True)\n",
      "  File \"/home/spkibe/anaconda3/lib/python3.7/site-packages/sklearn/utils/validation.py\", line 1025, in column_or_1d\n",
      "    \"y should be a 1d array, got an array of shape {} instead.\".format(shape)\n",
      "ValueError: y should be a 1d array, got an array of shape (47887, 11) instead.\n",
      "\n",
      "  warnings.warn(some_fits_failed_message, FitFailedWarning)\n",
      "/home/spkibe/anaconda3/lib/python3.7/site-packages/sklearn/model_selection/_validation.py:372: FitFailedWarning: \n",
      "5 fits failed out of a total of 5.\n",
      "The score on these train-test partitions for these parameters will be set to nan.\n",
      "If these failures are not expected, you can try to debug them by setting error_score='raise'.\n",
      "\n",
      "Below are more details about the failures:\n",
      "--------------------------------------------------------------------------------\n",
      "3 fits failed with the following error:\n",
      "Traceback (most recent call last):\n",
      "  File \"/home/spkibe/anaconda3/lib/python3.7/site-packages/sklearn/model_selection/_validation.py\", line 681, in _fit_and_score\n",
      "    estimator.fit(X_train, y_train, **fit_params)\n",
      "  File \"/home/spkibe/anaconda3/lib/python3.7/site-packages/sklearn/linear_model/_logistic.py\", line 1514, in fit\n",
      "    accept_large_sparse=solver not in [\"liblinear\", \"sag\", \"saga\"],\n",
      "  File \"/home/spkibe/anaconda3/lib/python3.7/site-packages/sklearn/base.py\", line 576, in _validate_data\n",
      "    X, y = check_X_y(X, y, **check_params)\n",
      "  File \"/home/spkibe/anaconda3/lib/python3.7/site-packages/sklearn/utils/validation.py\", line 971, in check_X_y\n",
      "    y = _check_y(y, multi_output=multi_output, y_numeric=y_numeric)\n",
      "  File \"/home/spkibe/anaconda3/lib/python3.7/site-packages/sklearn/utils/validation.py\", line 985, in _check_y\n",
      "    y = column_or_1d(y, warn=True)\n",
      "  File \"/home/spkibe/anaconda3/lib/python3.7/site-packages/sklearn/utils/validation.py\", line 1025, in column_or_1d\n",
      "    \"y should be a 1d array, got an array of shape {} instead.\".format(shape)\n",
      "ValueError: y should be a 1d array, got an array of shape (47886, 11) instead.\n",
      "\n",
      "--------------------------------------------------------------------------------\n",
      "2 fits failed with the following error:\n",
      "Traceback (most recent call last):\n",
      "  File \"/home/spkibe/anaconda3/lib/python3.7/site-packages/sklearn/model_selection/_validation.py\", line 681, in _fit_and_score\n",
      "    estimator.fit(X_train, y_train, **fit_params)\n",
      "  File \"/home/spkibe/anaconda3/lib/python3.7/site-packages/sklearn/linear_model/_logistic.py\", line 1514, in fit\n",
      "    accept_large_sparse=solver not in [\"liblinear\", \"sag\", \"saga\"],\n",
      "  File \"/home/spkibe/anaconda3/lib/python3.7/site-packages/sklearn/base.py\", line 576, in _validate_data\n",
      "    X, y = check_X_y(X, y, **check_params)\n",
      "  File \"/home/spkibe/anaconda3/lib/python3.7/site-packages/sklearn/utils/validation.py\", line 971, in check_X_y\n",
      "    y = _check_y(y, multi_output=multi_output, y_numeric=y_numeric)\n",
      "  File \"/home/spkibe/anaconda3/lib/python3.7/site-packages/sklearn/utils/validation.py\", line 985, in _check_y\n",
      "    y = column_or_1d(y, warn=True)\n",
      "  File \"/home/spkibe/anaconda3/lib/python3.7/site-packages/sklearn/utils/validation.py\", line 1025, in column_or_1d\n",
      "    \"y should be a 1d array, got an array of shape {} instead.\".format(shape)\n",
      "ValueError: y should be a 1d array, got an array of shape (47887, 11) instead.\n",
      "\n",
      "  warnings.warn(some_fits_failed_message, FitFailedWarning)\n",
      "[Parallel(n_jobs=1)]: Done  11 out of  11 | elapsed:    0.7s finished\n",
      "/home/spkibe/anaconda3/lib/python3.7/site-packages/mlxtend/feature_selection/sequential_feature_selector.py:642: RuntimeWarning: Mean of empty slice\n",
      "  all_avg_scores.append(np.nanmean(cv_scores))\n",
      "Features: 10/9[Parallel(n_jobs=1)]: Using backend SequentialBackend with 1 concurrent workers.\n",
      "/home/spkibe/anaconda3/lib/python3.7/site-packages/sklearn/model_selection/_validation.py:372: FitFailedWarning: \n",
      "5 fits failed out of a total of 5.\n",
      "The score on these train-test partitions for these parameters will be set to nan.\n",
      "If these failures are not expected, you can try to debug them by setting error_score='raise'.\n",
      "\n",
      "Below are more details about the failures:\n",
      "--------------------------------------------------------------------------------\n",
      "3 fits failed with the following error:\n",
      "Traceback (most recent call last):\n",
      "  File \"/home/spkibe/anaconda3/lib/python3.7/site-packages/sklearn/model_selection/_validation.py\", line 681, in _fit_and_score\n",
      "    estimator.fit(X_train, y_train, **fit_params)\n",
      "  File \"/home/spkibe/anaconda3/lib/python3.7/site-packages/sklearn/linear_model/_logistic.py\", line 1514, in fit\n",
      "    accept_large_sparse=solver not in [\"liblinear\", \"sag\", \"saga\"],\n",
      "  File \"/home/spkibe/anaconda3/lib/python3.7/site-packages/sklearn/base.py\", line 576, in _validate_data\n",
      "    X, y = check_X_y(X, y, **check_params)\n",
      "  File \"/home/spkibe/anaconda3/lib/python3.7/site-packages/sklearn/utils/validation.py\", line 971, in check_X_y\n",
      "    y = _check_y(y, multi_output=multi_output, y_numeric=y_numeric)\n",
      "  File \"/home/spkibe/anaconda3/lib/python3.7/site-packages/sklearn/utils/validation.py\", line 985, in _check_y\n",
      "    y = column_or_1d(y, warn=True)\n",
      "  File \"/home/spkibe/anaconda3/lib/python3.7/site-packages/sklearn/utils/validation.py\", line 1025, in column_or_1d\n",
      "    \"y should be a 1d array, got an array of shape {} instead.\".format(shape)\n",
      "ValueError: y should be a 1d array, got an array of shape (47886, 11) instead.\n",
      "\n",
      "--------------------------------------------------------------------------------\n",
      "2 fits failed with the following error:\n",
      "Traceback (most recent call last):\n",
      "  File \"/home/spkibe/anaconda3/lib/python3.7/site-packages/sklearn/model_selection/_validation.py\", line 681, in _fit_and_score\n",
      "    estimator.fit(X_train, y_train, **fit_params)\n",
      "  File \"/home/spkibe/anaconda3/lib/python3.7/site-packages/sklearn/linear_model/_logistic.py\", line 1514, in fit\n",
      "    accept_large_sparse=solver not in [\"liblinear\", \"sag\", \"saga\"],\n",
      "  File \"/home/spkibe/anaconda3/lib/python3.7/site-packages/sklearn/base.py\", line 576, in _validate_data\n",
      "    X, y = check_X_y(X, y, **check_params)\n",
      "  File \"/home/spkibe/anaconda3/lib/python3.7/site-packages/sklearn/utils/validation.py\", line 971, in check_X_y\n",
      "    y = _check_y(y, multi_output=multi_output, y_numeric=y_numeric)\n",
      "  File \"/home/spkibe/anaconda3/lib/python3.7/site-packages/sklearn/utils/validation.py\", line 985, in _check_y\n",
      "    y = column_or_1d(y, warn=True)\n",
      "  File \"/home/spkibe/anaconda3/lib/python3.7/site-packages/sklearn/utils/validation.py\", line 1025, in column_or_1d\n",
      "    \"y should be a 1d array, got an array of shape {} instead.\".format(shape)\n",
      "ValueError: y should be a 1d array, got an array of shape (47887, 11) instead.\n",
      "\n",
      "  warnings.warn(some_fits_failed_message, FitFailedWarning)\n"
     ]
    },
    {
     "name": "stderr",
     "output_type": "stream",
     "text": [
      "/home/spkibe/anaconda3/lib/python3.7/site-packages/sklearn/model_selection/_validation.py:372: FitFailedWarning: \n",
      "5 fits failed out of a total of 5.\n",
      "The score on these train-test partitions for these parameters will be set to nan.\n",
      "If these failures are not expected, you can try to debug them by setting error_score='raise'.\n",
      "\n",
      "Below are more details about the failures:\n",
      "--------------------------------------------------------------------------------\n",
      "3 fits failed with the following error:\n",
      "Traceback (most recent call last):\n",
      "  File \"/home/spkibe/anaconda3/lib/python3.7/site-packages/sklearn/model_selection/_validation.py\", line 681, in _fit_and_score\n",
      "    estimator.fit(X_train, y_train, **fit_params)\n",
      "  File \"/home/spkibe/anaconda3/lib/python3.7/site-packages/sklearn/linear_model/_logistic.py\", line 1514, in fit\n",
      "    accept_large_sparse=solver not in [\"liblinear\", \"sag\", \"saga\"],\n",
      "  File \"/home/spkibe/anaconda3/lib/python3.7/site-packages/sklearn/base.py\", line 576, in _validate_data\n",
      "    X, y = check_X_y(X, y, **check_params)\n",
      "  File \"/home/spkibe/anaconda3/lib/python3.7/site-packages/sklearn/utils/validation.py\", line 971, in check_X_y\n",
      "    y = _check_y(y, multi_output=multi_output, y_numeric=y_numeric)\n",
      "  File \"/home/spkibe/anaconda3/lib/python3.7/site-packages/sklearn/utils/validation.py\", line 985, in _check_y\n",
      "    y = column_or_1d(y, warn=True)\n",
      "  File \"/home/spkibe/anaconda3/lib/python3.7/site-packages/sklearn/utils/validation.py\", line 1025, in column_or_1d\n",
      "    \"y should be a 1d array, got an array of shape {} instead.\".format(shape)\n",
      "ValueError: y should be a 1d array, got an array of shape (47886, 11) instead.\n",
      "\n",
      "--------------------------------------------------------------------------------\n",
      "2 fits failed with the following error:\n",
      "Traceback (most recent call last):\n",
      "  File \"/home/spkibe/anaconda3/lib/python3.7/site-packages/sklearn/model_selection/_validation.py\", line 681, in _fit_and_score\n",
      "    estimator.fit(X_train, y_train, **fit_params)\n",
      "  File \"/home/spkibe/anaconda3/lib/python3.7/site-packages/sklearn/linear_model/_logistic.py\", line 1514, in fit\n",
      "    accept_large_sparse=solver not in [\"liblinear\", \"sag\", \"saga\"],\n",
      "  File \"/home/spkibe/anaconda3/lib/python3.7/site-packages/sklearn/base.py\", line 576, in _validate_data\n",
      "    X, y = check_X_y(X, y, **check_params)\n",
      "  File \"/home/spkibe/anaconda3/lib/python3.7/site-packages/sklearn/utils/validation.py\", line 971, in check_X_y\n",
      "    y = _check_y(y, multi_output=multi_output, y_numeric=y_numeric)\n",
      "  File \"/home/spkibe/anaconda3/lib/python3.7/site-packages/sklearn/utils/validation.py\", line 985, in _check_y\n",
      "    y = column_or_1d(y, warn=True)\n",
      "  File \"/home/spkibe/anaconda3/lib/python3.7/site-packages/sklearn/utils/validation.py\", line 1025, in column_or_1d\n",
      "    \"y should be a 1d array, got an array of shape {} instead.\".format(shape)\n",
      "ValueError: y should be a 1d array, got an array of shape (47887, 11) instead.\n",
      "\n",
      "  warnings.warn(some_fits_failed_message, FitFailedWarning)\n",
      "/home/spkibe/anaconda3/lib/python3.7/site-packages/sklearn/model_selection/_validation.py:372: FitFailedWarning: \n",
      "5 fits failed out of a total of 5.\n",
      "The score on these train-test partitions for these parameters will be set to nan.\n",
      "If these failures are not expected, you can try to debug them by setting error_score='raise'.\n",
      "\n",
      "Below are more details about the failures:\n",
      "--------------------------------------------------------------------------------\n",
      "3 fits failed with the following error:\n",
      "Traceback (most recent call last):\n",
      "  File \"/home/spkibe/anaconda3/lib/python3.7/site-packages/sklearn/model_selection/_validation.py\", line 681, in _fit_and_score\n",
      "    estimator.fit(X_train, y_train, **fit_params)\n",
      "  File \"/home/spkibe/anaconda3/lib/python3.7/site-packages/sklearn/linear_model/_logistic.py\", line 1514, in fit\n",
      "    accept_large_sparse=solver not in [\"liblinear\", \"sag\", \"saga\"],\n",
      "  File \"/home/spkibe/anaconda3/lib/python3.7/site-packages/sklearn/base.py\", line 576, in _validate_data\n",
      "    X, y = check_X_y(X, y, **check_params)\n",
      "  File \"/home/spkibe/anaconda3/lib/python3.7/site-packages/sklearn/utils/validation.py\", line 971, in check_X_y\n",
      "    y = _check_y(y, multi_output=multi_output, y_numeric=y_numeric)\n",
      "  File \"/home/spkibe/anaconda3/lib/python3.7/site-packages/sklearn/utils/validation.py\", line 985, in _check_y\n",
      "    y = column_or_1d(y, warn=True)\n",
      "  File \"/home/spkibe/anaconda3/lib/python3.7/site-packages/sklearn/utils/validation.py\", line 1025, in column_or_1d\n",
      "    \"y should be a 1d array, got an array of shape {} instead.\".format(shape)\n",
      "ValueError: y should be a 1d array, got an array of shape (47886, 11) instead.\n",
      "\n",
      "--------------------------------------------------------------------------------\n",
      "2 fits failed with the following error:\n",
      "Traceback (most recent call last):\n",
      "  File \"/home/spkibe/anaconda3/lib/python3.7/site-packages/sklearn/model_selection/_validation.py\", line 681, in _fit_and_score\n",
      "    estimator.fit(X_train, y_train, **fit_params)\n",
      "  File \"/home/spkibe/anaconda3/lib/python3.7/site-packages/sklearn/linear_model/_logistic.py\", line 1514, in fit\n",
      "    accept_large_sparse=solver not in [\"liblinear\", \"sag\", \"saga\"],\n",
      "  File \"/home/spkibe/anaconda3/lib/python3.7/site-packages/sklearn/base.py\", line 576, in _validate_data\n",
      "    X, y = check_X_y(X, y, **check_params)\n",
      "  File \"/home/spkibe/anaconda3/lib/python3.7/site-packages/sklearn/utils/validation.py\", line 971, in check_X_y\n",
      "    y = _check_y(y, multi_output=multi_output, y_numeric=y_numeric)\n",
      "  File \"/home/spkibe/anaconda3/lib/python3.7/site-packages/sklearn/utils/validation.py\", line 985, in _check_y\n",
      "    y = column_or_1d(y, warn=True)\n",
      "  File \"/home/spkibe/anaconda3/lib/python3.7/site-packages/sklearn/utils/validation.py\", line 1025, in column_or_1d\n",
      "    \"y should be a 1d array, got an array of shape {} instead.\".format(shape)\n",
      "ValueError: y should be a 1d array, got an array of shape (47887, 11) instead.\n",
      "\n",
      "  warnings.warn(some_fits_failed_message, FitFailedWarning)\n",
      "/home/spkibe/anaconda3/lib/python3.7/site-packages/sklearn/model_selection/_validation.py:372: FitFailedWarning: \n",
      "5 fits failed out of a total of 5.\n",
      "The score on these train-test partitions for these parameters will be set to nan.\n",
      "If these failures are not expected, you can try to debug them by setting error_score='raise'.\n",
      "\n",
      "Below are more details about the failures:\n",
      "--------------------------------------------------------------------------------\n",
      "3 fits failed with the following error:\n",
      "Traceback (most recent call last):\n",
      "  File \"/home/spkibe/anaconda3/lib/python3.7/site-packages/sklearn/model_selection/_validation.py\", line 681, in _fit_and_score\n",
      "    estimator.fit(X_train, y_train, **fit_params)\n",
      "  File \"/home/spkibe/anaconda3/lib/python3.7/site-packages/sklearn/linear_model/_logistic.py\", line 1514, in fit\n",
      "    accept_large_sparse=solver not in [\"liblinear\", \"sag\", \"saga\"],\n",
      "  File \"/home/spkibe/anaconda3/lib/python3.7/site-packages/sklearn/base.py\", line 576, in _validate_data\n",
      "    X, y = check_X_y(X, y, **check_params)\n",
      "  File \"/home/spkibe/anaconda3/lib/python3.7/site-packages/sklearn/utils/validation.py\", line 971, in check_X_y\n",
      "    y = _check_y(y, multi_output=multi_output, y_numeric=y_numeric)\n",
      "  File \"/home/spkibe/anaconda3/lib/python3.7/site-packages/sklearn/utils/validation.py\", line 985, in _check_y\n",
      "    y = column_or_1d(y, warn=True)\n",
      "  File \"/home/spkibe/anaconda3/lib/python3.7/site-packages/sklearn/utils/validation.py\", line 1025, in column_or_1d\n",
      "    \"y should be a 1d array, got an array of shape {} instead.\".format(shape)\n",
      "ValueError: y should be a 1d array, got an array of shape (47886, 11) instead.\n",
      "\n",
      "--------------------------------------------------------------------------------\n",
      "2 fits failed with the following error:\n",
      "Traceback (most recent call last):\n",
      "  File \"/home/spkibe/anaconda3/lib/python3.7/site-packages/sklearn/model_selection/_validation.py\", line 681, in _fit_and_score\n",
      "    estimator.fit(X_train, y_train, **fit_params)\n",
      "  File \"/home/spkibe/anaconda3/lib/python3.7/site-packages/sklearn/linear_model/_logistic.py\", line 1514, in fit\n",
      "    accept_large_sparse=solver not in [\"liblinear\", \"sag\", \"saga\"],\n",
      "  File \"/home/spkibe/anaconda3/lib/python3.7/site-packages/sklearn/base.py\", line 576, in _validate_data\n",
      "    X, y = check_X_y(X, y, **check_params)\n",
      "  File \"/home/spkibe/anaconda3/lib/python3.7/site-packages/sklearn/utils/validation.py\", line 971, in check_X_y\n",
      "    y = _check_y(y, multi_output=multi_output, y_numeric=y_numeric)\n",
      "  File \"/home/spkibe/anaconda3/lib/python3.7/site-packages/sklearn/utils/validation.py\", line 985, in _check_y\n",
      "    y = column_or_1d(y, warn=True)\n",
      "  File \"/home/spkibe/anaconda3/lib/python3.7/site-packages/sklearn/utils/validation.py\", line 1025, in column_or_1d\n",
      "    \"y should be a 1d array, got an array of shape {} instead.\".format(shape)\n",
      "ValueError: y should be a 1d array, got an array of shape (47887, 11) instead.\n",
      "\n",
      "  warnings.warn(some_fits_failed_message, FitFailedWarning)\n"
     ]
    },
    {
     "name": "stderr",
     "output_type": "stream",
     "text": [
      "/home/spkibe/anaconda3/lib/python3.7/site-packages/sklearn/model_selection/_validation.py:372: FitFailedWarning: \n",
      "5 fits failed out of a total of 5.\n",
      "The score on these train-test partitions for these parameters will be set to nan.\n",
      "If these failures are not expected, you can try to debug them by setting error_score='raise'.\n",
      "\n",
      "Below are more details about the failures:\n",
      "--------------------------------------------------------------------------------\n",
      "3 fits failed with the following error:\n",
      "Traceback (most recent call last):\n",
      "  File \"/home/spkibe/anaconda3/lib/python3.7/site-packages/sklearn/model_selection/_validation.py\", line 681, in _fit_and_score\n",
      "    estimator.fit(X_train, y_train, **fit_params)\n",
      "  File \"/home/spkibe/anaconda3/lib/python3.7/site-packages/sklearn/linear_model/_logistic.py\", line 1514, in fit\n",
      "    accept_large_sparse=solver not in [\"liblinear\", \"sag\", \"saga\"],\n",
      "  File \"/home/spkibe/anaconda3/lib/python3.7/site-packages/sklearn/base.py\", line 576, in _validate_data\n",
      "    X, y = check_X_y(X, y, **check_params)\n",
      "  File \"/home/spkibe/anaconda3/lib/python3.7/site-packages/sklearn/utils/validation.py\", line 971, in check_X_y\n",
      "    y = _check_y(y, multi_output=multi_output, y_numeric=y_numeric)\n",
      "  File \"/home/spkibe/anaconda3/lib/python3.7/site-packages/sklearn/utils/validation.py\", line 985, in _check_y\n",
      "    y = column_or_1d(y, warn=True)\n",
      "  File \"/home/spkibe/anaconda3/lib/python3.7/site-packages/sklearn/utils/validation.py\", line 1025, in column_or_1d\n",
      "    \"y should be a 1d array, got an array of shape {} instead.\".format(shape)\n",
      "ValueError: y should be a 1d array, got an array of shape (47886, 11) instead.\n",
      "\n",
      "--------------------------------------------------------------------------------\n",
      "2 fits failed with the following error:\n",
      "Traceback (most recent call last):\n",
      "  File \"/home/spkibe/anaconda3/lib/python3.7/site-packages/sklearn/model_selection/_validation.py\", line 681, in _fit_and_score\n",
      "    estimator.fit(X_train, y_train, **fit_params)\n",
      "  File \"/home/spkibe/anaconda3/lib/python3.7/site-packages/sklearn/linear_model/_logistic.py\", line 1514, in fit\n",
      "    accept_large_sparse=solver not in [\"liblinear\", \"sag\", \"saga\"],\n",
      "  File \"/home/spkibe/anaconda3/lib/python3.7/site-packages/sklearn/base.py\", line 576, in _validate_data\n",
      "    X, y = check_X_y(X, y, **check_params)\n",
      "  File \"/home/spkibe/anaconda3/lib/python3.7/site-packages/sklearn/utils/validation.py\", line 971, in check_X_y\n",
      "    y = _check_y(y, multi_output=multi_output, y_numeric=y_numeric)\n",
      "  File \"/home/spkibe/anaconda3/lib/python3.7/site-packages/sklearn/utils/validation.py\", line 985, in _check_y\n",
      "    y = column_or_1d(y, warn=True)\n",
      "  File \"/home/spkibe/anaconda3/lib/python3.7/site-packages/sklearn/utils/validation.py\", line 1025, in column_or_1d\n",
      "    \"y should be a 1d array, got an array of shape {} instead.\".format(shape)\n",
      "ValueError: y should be a 1d array, got an array of shape (47887, 11) instead.\n",
      "\n",
      "  warnings.warn(some_fits_failed_message, FitFailedWarning)\n",
      "/home/spkibe/anaconda3/lib/python3.7/site-packages/sklearn/model_selection/_validation.py:372: FitFailedWarning: \n",
      "5 fits failed out of a total of 5.\n",
      "The score on these train-test partitions for these parameters will be set to nan.\n",
      "If these failures are not expected, you can try to debug them by setting error_score='raise'.\n",
      "\n",
      "Below are more details about the failures:\n",
      "--------------------------------------------------------------------------------\n",
      "3 fits failed with the following error:\n",
      "Traceback (most recent call last):\n",
      "  File \"/home/spkibe/anaconda3/lib/python3.7/site-packages/sklearn/model_selection/_validation.py\", line 681, in _fit_and_score\n",
      "    estimator.fit(X_train, y_train, **fit_params)\n",
      "  File \"/home/spkibe/anaconda3/lib/python3.7/site-packages/sklearn/linear_model/_logistic.py\", line 1514, in fit\n",
      "    accept_large_sparse=solver not in [\"liblinear\", \"sag\", \"saga\"],\n",
      "  File \"/home/spkibe/anaconda3/lib/python3.7/site-packages/sklearn/base.py\", line 576, in _validate_data\n",
      "    X, y = check_X_y(X, y, **check_params)\n",
      "  File \"/home/spkibe/anaconda3/lib/python3.7/site-packages/sklearn/utils/validation.py\", line 971, in check_X_y\n",
      "    y = _check_y(y, multi_output=multi_output, y_numeric=y_numeric)\n",
      "  File \"/home/spkibe/anaconda3/lib/python3.7/site-packages/sklearn/utils/validation.py\", line 985, in _check_y\n",
      "    y = column_or_1d(y, warn=True)\n",
      "  File \"/home/spkibe/anaconda3/lib/python3.7/site-packages/sklearn/utils/validation.py\", line 1025, in column_or_1d\n",
      "    \"y should be a 1d array, got an array of shape {} instead.\".format(shape)\n",
      "ValueError: y should be a 1d array, got an array of shape (47886, 11) instead.\n",
      "\n",
      "--------------------------------------------------------------------------------\n",
      "2 fits failed with the following error:\n",
      "Traceback (most recent call last):\n",
      "  File \"/home/spkibe/anaconda3/lib/python3.7/site-packages/sklearn/model_selection/_validation.py\", line 681, in _fit_and_score\n",
      "    estimator.fit(X_train, y_train, **fit_params)\n",
      "  File \"/home/spkibe/anaconda3/lib/python3.7/site-packages/sklearn/linear_model/_logistic.py\", line 1514, in fit\n",
      "    accept_large_sparse=solver not in [\"liblinear\", \"sag\", \"saga\"],\n",
      "  File \"/home/spkibe/anaconda3/lib/python3.7/site-packages/sklearn/base.py\", line 576, in _validate_data\n",
      "    X, y = check_X_y(X, y, **check_params)\n",
      "  File \"/home/spkibe/anaconda3/lib/python3.7/site-packages/sklearn/utils/validation.py\", line 971, in check_X_y\n",
      "    y = _check_y(y, multi_output=multi_output, y_numeric=y_numeric)\n",
      "  File \"/home/spkibe/anaconda3/lib/python3.7/site-packages/sklearn/utils/validation.py\", line 985, in _check_y\n",
      "    y = column_or_1d(y, warn=True)\n",
      "  File \"/home/spkibe/anaconda3/lib/python3.7/site-packages/sklearn/utils/validation.py\", line 1025, in column_or_1d\n",
      "    \"y should be a 1d array, got an array of shape {} instead.\".format(shape)\n",
      "ValueError: y should be a 1d array, got an array of shape (47887, 11) instead.\n",
      "\n",
      "  warnings.warn(some_fits_failed_message, FitFailedWarning)\n",
      "/home/spkibe/anaconda3/lib/python3.7/site-packages/sklearn/model_selection/_validation.py:372: FitFailedWarning: \n",
      "5 fits failed out of a total of 5.\n",
      "The score on these train-test partitions for these parameters will be set to nan.\n",
      "If these failures are not expected, you can try to debug them by setting error_score='raise'.\n",
      "\n",
      "Below are more details about the failures:\n",
      "--------------------------------------------------------------------------------\n",
      "3 fits failed with the following error:\n",
      "Traceback (most recent call last):\n",
      "  File \"/home/spkibe/anaconda3/lib/python3.7/site-packages/sklearn/model_selection/_validation.py\", line 681, in _fit_and_score\n",
      "    estimator.fit(X_train, y_train, **fit_params)\n",
      "  File \"/home/spkibe/anaconda3/lib/python3.7/site-packages/sklearn/linear_model/_logistic.py\", line 1514, in fit\n",
      "    accept_large_sparse=solver not in [\"liblinear\", \"sag\", \"saga\"],\n",
      "  File \"/home/spkibe/anaconda3/lib/python3.7/site-packages/sklearn/base.py\", line 576, in _validate_data\n",
      "    X, y = check_X_y(X, y, **check_params)\n",
      "  File \"/home/spkibe/anaconda3/lib/python3.7/site-packages/sklearn/utils/validation.py\", line 971, in check_X_y\n",
      "    y = _check_y(y, multi_output=multi_output, y_numeric=y_numeric)\n",
      "  File \"/home/spkibe/anaconda3/lib/python3.7/site-packages/sklearn/utils/validation.py\", line 985, in _check_y\n",
      "    y = column_or_1d(y, warn=True)\n",
      "  File \"/home/spkibe/anaconda3/lib/python3.7/site-packages/sklearn/utils/validation.py\", line 1025, in column_or_1d\n",
      "    \"y should be a 1d array, got an array of shape {} instead.\".format(shape)\n",
      "ValueError: y should be a 1d array, got an array of shape (47886, 11) instead.\n",
      "\n",
      "--------------------------------------------------------------------------------\n",
      "2 fits failed with the following error:\n",
      "Traceback (most recent call last):\n",
      "  File \"/home/spkibe/anaconda3/lib/python3.7/site-packages/sklearn/model_selection/_validation.py\", line 681, in _fit_and_score\n",
      "    estimator.fit(X_train, y_train, **fit_params)\n",
      "  File \"/home/spkibe/anaconda3/lib/python3.7/site-packages/sklearn/linear_model/_logistic.py\", line 1514, in fit\n",
      "    accept_large_sparse=solver not in [\"liblinear\", \"sag\", \"saga\"],\n",
      "  File \"/home/spkibe/anaconda3/lib/python3.7/site-packages/sklearn/base.py\", line 576, in _validate_data\n",
      "    X, y = check_X_y(X, y, **check_params)\n",
      "  File \"/home/spkibe/anaconda3/lib/python3.7/site-packages/sklearn/utils/validation.py\", line 971, in check_X_y\n",
      "    y = _check_y(y, multi_output=multi_output, y_numeric=y_numeric)\n",
      "  File \"/home/spkibe/anaconda3/lib/python3.7/site-packages/sklearn/utils/validation.py\", line 985, in _check_y\n",
      "    y = column_or_1d(y, warn=True)\n",
      "  File \"/home/spkibe/anaconda3/lib/python3.7/site-packages/sklearn/utils/validation.py\", line 1025, in column_or_1d\n",
      "    \"y should be a 1d array, got an array of shape {} instead.\".format(shape)\n",
      "ValueError: y should be a 1d array, got an array of shape (47887, 11) instead.\n",
      "\n",
      "  warnings.warn(some_fits_failed_message, FitFailedWarning)\n"
     ]
    },
    {
     "name": "stderr",
     "output_type": "stream",
     "text": [
      "/home/spkibe/anaconda3/lib/python3.7/site-packages/sklearn/model_selection/_validation.py:372: FitFailedWarning: \n",
      "5 fits failed out of a total of 5.\n",
      "The score on these train-test partitions for these parameters will be set to nan.\n",
      "If these failures are not expected, you can try to debug them by setting error_score='raise'.\n",
      "\n",
      "Below are more details about the failures:\n",
      "--------------------------------------------------------------------------------\n",
      "3 fits failed with the following error:\n",
      "Traceback (most recent call last):\n",
      "  File \"/home/spkibe/anaconda3/lib/python3.7/site-packages/sklearn/model_selection/_validation.py\", line 681, in _fit_and_score\n",
      "    estimator.fit(X_train, y_train, **fit_params)\n",
      "  File \"/home/spkibe/anaconda3/lib/python3.7/site-packages/sklearn/linear_model/_logistic.py\", line 1514, in fit\n",
      "    accept_large_sparse=solver not in [\"liblinear\", \"sag\", \"saga\"],\n",
      "  File \"/home/spkibe/anaconda3/lib/python3.7/site-packages/sklearn/base.py\", line 576, in _validate_data\n",
      "    X, y = check_X_y(X, y, **check_params)\n",
      "  File \"/home/spkibe/anaconda3/lib/python3.7/site-packages/sklearn/utils/validation.py\", line 971, in check_X_y\n",
      "    y = _check_y(y, multi_output=multi_output, y_numeric=y_numeric)\n",
      "  File \"/home/spkibe/anaconda3/lib/python3.7/site-packages/sklearn/utils/validation.py\", line 985, in _check_y\n",
      "    y = column_or_1d(y, warn=True)\n",
      "  File \"/home/spkibe/anaconda3/lib/python3.7/site-packages/sklearn/utils/validation.py\", line 1025, in column_or_1d\n",
      "    \"y should be a 1d array, got an array of shape {} instead.\".format(shape)\n",
      "ValueError: y should be a 1d array, got an array of shape (47886, 11) instead.\n",
      "\n",
      "--------------------------------------------------------------------------------\n",
      "2 fits failed with the following error:\n",
      "Traceback (most recent call last):\n",
      "  File \"/home/spkibe/anaconda3/lib/python3.7/site-packages/sklearn/model_selection/_validation.py\", line 681, in _fit_and_score\n",
      "    estimator.fit(X_train, y_train, **fit_params)\n",
      "  File \"/home/spkibe/anaconda3/lib/python3.7/site-packages/sklearn/linear_model/_logistic.py\", line 1514, in fit\n",
      "    accept_large_sparse=solver not in [\"liblinear\", \"sag\", \"saga\"],\n",
      "  File \"/home/spkibe/anaconda3/lib/python3.7/site-packages/sklearn/base.py\", line 576, in _validate_data\n",
      "    X, y = check_X_y(X, y, **check_params)\n",
      "  File \"/home/spkibe/anaconda3/lib/python3.7/site-packages/sklearn/utils/validation.py\", line 971, in check_X_y\n",
      "    y = _check_y(y, multi_output=multi_output, y_numeric=y_numeric)\n",
      "  File \"/home/spkibe/anaconda3/lib/python3.7/site-packages/sklearn/utils/validation.py\", line 985, in _check_y\n",
      "    y = column_or_1d(y, warn=True)\n",
      "  File \"/home/spkibe/anaconda3/lib/python3.7/site-packages/sklearn/utils/validation.py\", line 1025, in column_or_1d\n",
      "    \"y should be a 1d array, got an array of shape {} instead.\".format(shape)\n",
      "ValueError: y should be a 1d array, got an array of shape (47887, 11) instead.\n",
      "\n",
      "  warnings.warn(some_fits_failed_message, FitFailedWarning)\n",
      "/home/spkibe/anaconda3/lib/python3.7/site-packages/sklearn/model_selection/_validation.py:372: FitFailedWarning: \n",
      "5 fits failed out of a total of 5.\n",
      "The score on these train-test partitions for these parameters will be set to nan.\n",
      "If these failures are not expected, you can try to debug them by setting error_score='raise'.\n",
      "\n",
      "Below are more details about the failures:\n",
      "--------------------------------------------------------------------------------\n",
      "3 fits failed with the following error:\n",
      "Traceback (most recent call last):\n",
      "  File \"/home/spkibe/anaconda3/lib/python3.7/site-packages/sklearn/model_selection/_validation.py\", line 681, in _fit_and_score\n",
      "    estimator.fit(X_train, y_train, **fit_params)\n",
      "  File \"/home/spkibe/anaconda3/lib/python3.7/site-packages/sklearn/linear_model/_logistic.py\", line 1514, in fit\n",
      "    accept_large_sparse=solver not in [\"liblinear\", \"sag\", \"saga\"],\n",
      "  File \"/home/spkibe/anaconda3/lib/python3.7/site-packages/sklearn/base.py\", line 576, in _validate_data\n",
      "    X, y = check_X_y(X, y, **check_params)\n",
      "  File \"/home/spkibe/anaconda3/lib/python3.7/site-packages/sklearn/utils/validation.py\", line 971, in check_X_y\n",
      "    y = _check_y(y, multi_output=multi_output, y_numeric=y_numeric)\n",
      "  File \"/home/spkibe/anaconda3/lib/python3.7/site-packages/sklearn/utils/validation.py\", line 985, in _check_y\n",
      "    y = column_or_1d(y, warn=True)\n",
      "  File \"/home/spkibe/anaconda3/lib/python3.7/site-packages/sklearn/utils/validation.py\", line 1025, in column_or_1d\n",
      "    \"y should be a 1d array, got an array of shape {} instead.\".format(shape)\n",
      "ValueError: y should be a 1d array, got an array of shape (47886, 11) instead.\n",
      "\n",
      "--------------------------------------------------------------------------------\n",
      "2 fits failed with the following error:\n",
      "Traceback (most recent call last):\n",
      "  File \"/home/spkibe/anaconda3/lib/python3.7/site-packages/sklearn/model_selection/_validation.py\", line 681, in _fit_and_score\n",
      "    estimator.fit(X_train, y_train, **fit_params)\n",
      "  File \"/home/spkibe/anaconda3/lib/python3.7/site-packages/sklearn/linear_model/_logistic.py\", line 1514, in fit\n",
      "    accept_large_sparse=solver not in [\"liblinear\", \"sag\", \"saga\"],\n",
      "  File \"/home/spkibe/anaconda3/lib/python3.7/site-packages/sklearn/base.py\", line 576, in _validate_data\n",
      "    X, y = check_X_y(X, y, **check_params)\n",
      "  File \"/home/spkibe/anaconda3/lib/python3.7/site-packages/sklearn/utils/validation.py\", line 971, in check_X_y\n",
      "    y = _check_y(y, multi_output=multi_output, y_numeric=y_numeric)\n",
      "  File \"/home/spkibe/anaconda3/lib/python3.7/site-packages/sklearn/utils/validation.py\", line 985, in _check_y\n",
      "    y = column_or_1d(y, warn=True)\n",
      "  File \"/home/spkibe/anaconda3/lib/python3.7/site-packages/sklearn/utils/validation.py\", line 1025, in column_or_1d\n",
      "    \"y should be a 1d array, got an array of shape {} instead.\".format(shape)\n",
      "ValueError: y should be a 1d array, got an array of shape (47887, 11) instead.\n",
      "\n",
      "  warnings.warn(some_fits_failed_message, FitFailedWarning)\n",
      "/home/spkibe/anaconda3/lib/python3.7/site-packages/sklearn/model_selection/_validation.py:372: FitFailedWarning: \n",
      "5 fits failed out of a total of 5.\n",
      "The score on these train-test partitions for these parameters will be set to nan.\n",
      "If these failures are not expected, you can try to debug them by setting error_score='raise'.\n",
      "\n",
      "Below are more details about the failures:\n",
      "--------------------------------------------------------------------------------\n",
      "3 fits failed with the following error:\n",
      "Traceback (most recent call last):\n",
      "  File \"/home/spkibe/anaconda3/lib/python3.7/site-packages/sklearn/model_selection/_validation.py\", line 681, in _fit_and_score\n",
      "    estimator.fit(X_train, y_train, **fit_params)\n",
      "  File \"/home/spkibe/anaconda3/lib/python3.7/site-packages/sklearn/linear_model/_logistic.py\", line 1514, in fit\n",
      "    accept_large_sparse=solver not in [\"liblinear\", \"sag\", \"saga\"],\n",
      "  File \"/home/spkibe/anaconda3/lib/python3.7/site-packages/sklearn/base.py\", line 576, in _validate_data\n",
      "    X, y = check_X_y(X, y, **check_params)\n",
      "  File \"/home/spkibe/anaconda3/lib/python3.7/site-packages/sklearn/utils/validation.py\", line 971, in check_X_y\n",
      "    y = _check_y(y, multi_output=multi_output, y_numeric=y_numeric)\n",
      "  File \"/home/spkibe/anaconda3/lib/python3.7/site-packages/sklearn/utils/validation.py\", line 985, in _check_y\n",
      "    y = column_or_1d(y, warn=True)\n",
      "  File \"/home/spkibe/anaconda3/lib/python3.7/site-packages/sklearn/utils/validation.py\", line 1025, in column_or_1d\n",
      "    \"y should be a 1d array, got an array of shape {} instead.\".format(shape)\n",
      "ValueError: y should be a 1d array, got an array of shape (47886, 11) instead.\n",
      "\n",
      "--------------------------------------------------------------------------------\n",
      "2 fits failed with the following error:\n",
      "Traceback (most recent call last):\n",
      "  File \"/home/spkibe/anaconda3/lib/python3.7/site-packages/sklearn/model_selection/_validation.py\", line 681, in _fit_and_score\n",
      "    estimator.fit(X_train, y_train, **fit_params)\n",
      "  File \"/home/spkibe/anaconda3/lib/python3.7/site-packages/sklearn/linear_model/_logistic.py\", line 1514, in fit\n",
      "    accept_large_sparse=solver not in [\"liblinear\", \"sag\", \"saga\"],\n",
      "  File \"/home/spkibe/anaconda3/lib/python3.7/site-packages/sklearn/base.py\", line 576, in _validate_data\n",
      "    X, y = check_X_y(X, y, **check_params)\n",
      "  File \"/home/spkibe/anaconda3/lib/python3.7/site-packages/sklearn/utils/validation.py\", line 971, in check_X_y\n",
      "    y = _check_y(y, multi_output=multi_output, y_numeric=y_numeric)\n",
      "  File \"/home/spkibe/anaconda3/lib/python3.7/site-packages/sklearn/utils/validation.py\", line 985, in _check_y\n",
      "    y = column_or_1d(y, warn=True)\n",
      "  File \"/home/spkibe/anaconda3/lib/python3.7/site-packages/sklearn/utils/validation.py\", line 1025, in column_or_1d\n",
      "    \"y should be a 1d array, got an array of shape {} instead.\".format(shape)\n",
      "ValueError: y should be a 1d array, got an array of shape (47887, 11) instead.\n",
      "\n",
      "  warnings.warn(some_fits_failed_message, FitFailedWarning)\n",
      "[Parallel(n_jobs=1)]: Done  10 out of  10 | elapsed:    0.7s finished\n",
      "/home/spkibe/anaconda3/lib/python3.7/site-packages/mlxtend/feature_selection/sequential_feature_selector.py:642: RuntimeWarning: Mean of empty slice\n",
      "  all_avg_scores.append(np.nanmean(cv_scores))\n",
      "Features: 9/9"
     ]
    }
   ],
   "source": [
    "sfsbackward  = sfs(logreg, k_features=9, forward=False, verbose=1, scoring='accuracy')\n",
    "\n",
    "sfsbackward = sfsbackward.fit(X_ros, X_ros)"
   ]
  },
  {
   "cell_type": "code",
   "execution_count": 73,
   "metadata": {},
   "outputs": [
    {
     "name": "stdout",
     "output_type": "stream",
     "text": [
      "['elective', 'agegroup', 'quintiles', 'sex', 'charlson', 'ec', 'pc', 'month', 'admisource']\n"
     ]
    }
   ],
   "source": [
    "feat_names = list(sfsbackward.k_feature_names_)\n",
    "print(feat_names)"
   ]
  },
  {
   "cell_type": "code",
   "execution_count": 74,
   "metadata": {},
   "outputs": [],
   "source": [
    "logreg.fit(X_ros.loc[:, feat_names], y_ros)\n",
    "\n",
    "backward_pred = logreg.predict(X_test.loc[:, feat_names])"
   ]
  },
  {
   "cell_type": "code",
   "execution_count": 75,
   "metadata": {},
   "outputs": [
    {
     "data": {
      "text/plain": [
       "0    12828\n",
       "1     1025\n",
       "Name: death, dtype: int64"
      ]
     },
     "execution_count": 75,
     "metadata": {},
     "output_type": "execute_result"
    }
   ],
   "source": [
    "y_test.value_counts()"
   ]
  },
  {
   "cell_type": "code",
   "execution_count": 76,
   "metadata": {},
   "outputs": [
    {
     "data": {
      "text/plain": [
       "0.6472966144517434"
      ]
     },
     "execution_count": 76,
     "metadata": {},
     "output_type": "execute_result"
    }
   ],
   "source": [
    "accuracy_score(y_test, backward_pred)"
   ]
  },
  {
   "cell_type": "code",
   "execution_count": 77,
   "metadata": {},
   "outputs": [
    {
     "data": {
      "text/plain": [
       "array([[8286, 4542],\n",
       "       [ 344,  681]])"
      ]
     },
     "execution_count": 77,
     "metadata": {},
     "output_type": "execute_result"
    }
   ],
   "source": [
    "confusion_matrix(y_test, backward_pred)"
   ]
  },
  {
   "cell_type": "code",
   "execution_count": 78,
   "metadata": {},
   "outputs": [
    {
     "name": "stdout",
     "output_type": "stream",
     "text": [
      "              precision    recall  f1-score   support\n",
      "\n",
      "           0       0.96      0.65      0.77     12828\n",
      "           1       0.13      0.66      0.22      1025\n",
      "\n",
      "    accuracy                           0.65     13853\n",
      "   macro avg       0.55      0.66      0.50     13853\n",
      "weighted avg       0.90      0.65      0.73     13853\n",
      "\n"
     ]
    }
   ],
   "source": [
    "print(classification_report(y_test, backward_pred))"
   ]
  },
  {
   "cell_type": "markdown",
   "metadata": {},
   "source": [
    "### forward-selection on over sampled data"
   ]
  },
  {
   "cell_type": "code",
   "execution_count": 79,
   "metadata": {},
   "outputs": [
    {
     "name": "stderr",
     "output_type": "stream",
     "text": [
      "[Parallel(n_jobs=1)]: Using backend SequentialBackend with 1 concurrent workers.\n",
      "[Parallel(n_jobs=1)]: Done   1 out of   1 | elapsed:    0.1s remaining:    0.0s\n",
      "[Parallel(n_jobs=1)]: Done  11 out of  11 | elapsed:    1.5s finished\n",
      "\n",
      "[2022-05-28 14:03:48] Features: 1/7 -- score: 0.6120317887059893[Parallel(n_jobs=1)]: Using backend SequentialBackend with 1 concurrent workers.\n",
      "[Parallel(n_jobs=1)]: Done   1 out of   1 | elapsed:    0.2s remaining:    0.0s\n",
      "[Parallel(n_jobs=1)]: Done  10 out of  10 | elapsed:    2.4s finished\n",
      "\n",
      "[2022-05-28 14:03:50] Features: 2/7 -- score: 0.6302582588845194[Parallel(n_jobs=1)]: Using backend SequentialBackend with 1 concurrent workers.\n",
      "[Parallel(n_jobs=1)]: Done   1 out of   1 | elapsed:    0.2s remaining:    0.0s\n",
      "[Parallel(n_jobs=1)]: Done   9 out of   9 | elapsed:    2.3s finished\n",
      "\n",
      "[2022-05-28 14:03:53] Features: 3/7 -- score: 0.6433392127086947[Parallel(n_jobs=1)]: Using backend SequentialBackend with 1 concurrent workers.\n",
      "[Parallel(n_jobs=1)]: Done   1 out of   1 | elapsed:    0.2s remaining:    0.0s\n",
      "[Parallel(n_jobs=1)]: Done   8 out of   8 | elapsed:    1.7s finished\n",
      "\n",
      "[2022-05-28 14:03:54] Features: 4/7 -- score: 0.6549833288225809[Parallel(n_jobs=1)]: Using backend SequentialBackend with 1 concurrent workers.\n",
      "[Parallel(n_jobs=1)]: Done   1 out of   1 | elapsed:    0.3s remaining:    0.0s\n",
      "[Parallel(n_jobs=1)]: Done   7 out of   7 | elapsed:    1.9s finished\n",
      "\n",
      "[2022-05-28 14:03:56] Features: 5/7 -- score: 0.6613985943254166[Parallel(n_jobs=1)]: Using backend SequentialBackend with 1 concurrent workers.\n",
      "[Parallel(n_jobs=1)]: Done   1 out of   1 | elapsed:    0.3s remaining:    0.0s\n",
      "[Parallel(n_jobs=1)]: Done   6 out of   6 | elapsed:    2.0s finished\n",
      "\n",
      "[2022-05-28 14:03:58] Features: 6/7 -- score: 0.6721406376245657[Parallel(n_jobs=1)]: Using backend SequentialBackend with 1 concurrent workers.\n",
      "[Parallel(n_jobs=1)]: Done   1 out of   1 | elapsed:    0.4s remaining:    0.0s\n",
      "[Parallel(n_jobs=1)]: Done   5 out of   5 | elapsed:    2.0s finished\n",
      "\n",
      "[2022-05-28 14:04:00] Features: 7/7 -- score: 0.6749305489714632"
     ]
    }
   ],
   "source": [
    "# Perform SFFS\n",
    "sfs1 = sfs1.fit(X_ros, y_ros)"
   ]
  },
  {
   "cell_type": "code",
   "execution_count": 80,
   "metadata": {},
   "outputs": [
    {
     "name": "stdout",
     "output_type": "stream",
     "text": [
      "['elective', 'agegroup', 'charlson', 'ec', 'pc', 'year', 'diagnosis']\n"
     ]
    }
   ],
   "source": [
    "# Which features?\n",
    "feat_cols = list(sfs1.k_feature_names_)\n",
    "print(feat_cols)"
   ]
  },
  {
   "cell_type": "code",
   "execution_count": 81,
   "metadata": {},
   "outputs": [
    {
     "data": {
      "text/plain": [
       "LogisticRegression(random_state=0, solver='liblinear')"
      ]
     },
     "execution_count": 81,
     "metadata": {},
     "output_type": "execute_result"
    }
   ],
   "source": [
    "logreg.fit(X_ros.loc[:, feat_cols], y_ros)"
   ]
  },
  {
   "cell_type": "code",
   "execution_count": 82,
   "metadata": {},
   "outputs": [
    {
     "name": "stdout",
     "output_type": "stream",
     "text": [
      "Testing accuracy on selected features: 0.662\n"
     ]
    }
   ],
   "source": [
    "y_test_pred = logreg.predict(X_test.loc[:, feat_cols])\n",
    "print('Testing accuracy on selected features: %.3f' % accuracy_score(y_test, y_test_pred))"
   ]
  },
  {
   "cell_type": "code",
   "execution_count": 83,
   "metadata": {},
   "outputs": [
    {
     "data": {
      "text/plain": [
       "array([[8472,  321],\n",
       "       [4356,  704]])"
      ]
     },
     "execution_count": 83,
     "metadata": {},
     "output_type": "execute_result"
    }
   ],
   "source": [
    "confusion_matrix(y_test_pred, y_test)"
   ]
  },
  {
   "cell_type": "code",
   "execution_count": 84,
   "metadata": {},
   "outputs": [
    {
     "name": "stdout",
     "output_type": "stream",
     "text": [
      "              precision    recall  f1-score   support\n",
      "\n",
      "           0       0.66      0.96      0.78      8793\n",
      "           1       0.69      0.14      0.23      5060\n",
      "\n",
      "    accuracy                           0.66     13853\n",
      "   macro avg       0.67      0.55      0.51     13853\n",
      "weighted avg       0.67      0.66      0.58     13853\n",
      "\n"
     ]
    }
   ],
   "source": [
    "print(classification_report(y_test_pred, y_test))"
   ]
  },
  {
   "cell_type": "code",
   "execution_count": null,
   "metadata": {},
   "outputs": [],
   "source": []
  }
 ],
 "metadata": {
  "kernelspec": {
   "display_name": "Python 3 (ipykernel)",
   "language": "python",
   "name": "python3"
  },
  "language_info": {
   "codemirror_mode": {
    "name": "ipython",
    "version": 3
   },
   "file_extension": ".py",
   "mimetype": "text/x-python",
   "name": "python",
   "nbconvert_exporter": "python",
   "pygments_lexer": "ipython3",
   "version": "3.7.4"
  }
 },
 "nbformat": 4,
 "nbformat_minor": 4
}
