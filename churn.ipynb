{
 "cells": [
  {
   "cell_type": "code",
   "execution_count": 1,
   "metadata": {},
   "outputs": [],
   "source": [
    "import pandas as pd\n",
    "import numpy as np\n",
    "import seaborn as sns\n",
    "import matplotlib.pyplot as plt\n",
    "sns.set_theme(style=\"darkgrid\")\n",
    "%matplotlib inline\n",
    "\n",
    "import warnings\n",
    "warnings.filterwarnings('ignore')"
   ]
  },
  {
   "cell_type": "code",
   "execution_count": 2,
   "metadata": {},
   "outputs": [],
   "source": [
    "df = pd.read_csv('train (1).csv')"
   ]
  },
  {
   "cell_type": "code",
   "execution_count": 3,
   "metadata": {},
   "outputs": [
    {
     "data": {
      "text/html": [
       "<div>\n",
       "<style scoped>\n",
       "    .dataframe tbody tr th:only-of-type {\n",
       "        vertical-align: middle;\n",
       "    }\n",
       "\n",
       "    .dataframe tbody tr th {\n",
       "        vertical-align: top;\n",
       "    }\n",
       "\n",
       "    .dataframe thead th {\n",
       "        text-align: right;\n",
       "    }\n",
       "</style>\n",
       "<table border=\"1\" class=\"dataframe\">\n",
       "  <thead>\n",
       "    <tr style=\"text-align: right;\">\n",
       "      <th></th>\n",
       "      <th>state</th>\n",
       "      <th>account_length</th>\n",
       "      <th>area_code</th>\n",
       "      <th>international_plan</th>\n",
       "      <th>voice_mail_plan</th>\n",
       "      <th>number_vmail_messages</th>\n",
       "      <th>total_day_minutes</th>\n",
       "      <th>total_day_calls</th>\n",
       "      <th>total_day_charge</th>\n",
       "      <th>total_eve_minutes</th>\n",
       "      <th>total_eve_calls</th>\n",
       "      <th>total_eve_charge</th>\n",
       "      <th>total_night_minutes</th>\n",
       "      <th>total_night_calls</th>\n",
       "      <th>total_night_charge</th>\n",
       "      <th>total_intl_minutes</th>\n",
       "      <th>total_intl_calls</th>\n",
       "      <th>total_intl_charge</th>\n",
       "      <th>number_customer_service_calls</th>\n",
       "      <th>churn</th>\n",
       "    </tr>\n",
       "  </thead>\n",
       "  <tbody>\n",
       "    <tr>\n",
       "      <th>0</th>\n",
       "      <td>OH</td>\n",
       "      <td>107</td>\n",
       "      <td>area_code_415</td>\n",
       "      <td>no</td>\n",
       "      <td>yes</td>\n",
       "      <td>26</td>\n",
       "      <td>161.6</td>\n",
       "      <td>123</td>\n",
       "      <td>27.47</td>\n",
       "      <td>195.5</td>\n",
       "      <td>103</td>\n",
       "      <td>16.62</td>\n",
       "      <td>254.4</td>\n",
       "      <td>103</td>\n",
       "      <td>11.45</td>\n",
       "      <td>13.7</td>\n",
       "      <td>3</td>\n",
       "      <td>3.70</td>\n",
       "      <td>1</td>\n",
       "      <td>no</td>\n",
       "    </tr>\n",
       "    <tr>\n",
       "      <th>1</th>\n",
       "      <td>NJ</td>\n",
       "      <td>137</td>\n",
       "      <td>area_code_415</td>\n",
       "      <td>no</td>\n",
       "      <td>no</td>\n",
       "      <td>0</td>\n",
       "      <td>243.4</td>\n",
       "      <td>114</td>\n",
       "      <td>41.38</td>\n",
       "      <td>121.2</td>\n",
       "      <td>110</td>\n",
       "      <td>10.30</td>\n",
       "      <td>162.6</td>\n",
       "      <td>104</td>\n",
       "      <td>7.32</td>\n",
       "      <td>12.2</td>\n",
       "      <td>5</td>\n",
       "      <td>3.29</td>\n",
       "      <td>0</td>\n",
       "      <td>no</td>\n",
       "    </tr>\n",
       "    <tr>\n",
       "      <th>2</th>\n",
       "      <td>OH</td>\n",
       "      <td>84</td>\n",
       "      <td>area_code_408</td>\n",
       "      <td>yes</td>\n",
       "      <td>no</td>\n",
       "      <td>0</td>\n",
       "      <td>299.4</td>\n",
       "      <td>71</td>\n",
       "      <td>50.90</td>\n",
       "      <td>61.9</td>\n",
       "      <td>88</td>\n",
       "      <td>5.26</td>\n",
       "      <td>196.9</td>\n",
       "      <td>89</td>\n",
       "      <td>8.86</td>\n",
       "      <td>6.6</td>\n",
       "      <td>7</td>\n",
       "      <td>1.78</td>\n",
       "      <td>2</td>\n",
       "      <td>no</td>\n",
       "    </tr>\n",
       "    <tr>\n",
       "      <th>3</th>\n",
       "      <td>OK</td>\n",
       "      <td>75</td>\n",
       "      <td>area_code_415</td>\n",
       "      <td>yes</td>\n",
       "      <td>no</td>\n",
       "      <td>0</td>\n",
       "      <td>166.7</td>\n",
       "      <td>113</td>\n",
       "      <td>28.34</td>\n",
       "      <td>148.3</td>\n",
       "      <td>122</td>\n",
       "      <td>12.61</td>\n",
       "      <td>186.9</td>\n",
       "      <td>121</td>\n",
       "      <td>8.41</td>\n",
       "      <td>10.1</td>\n",
       "      <td>3</td>\n",
       "      <td>2.73</td>\n",
       "      <td>3</td>\n",
       "      <td>no</td>\n",
       "    </tr>\n",
       "    <tr>\n",
       "      <th>4</th>\n",
       "      <td>MA</td>\n",
       "      <td>121</td>\n",
       "      <td>area_code_510</td>\n",
       "      <td>no</td>\n",
       "      <td>yes</td>\n",
       "      <td>24</td>\n",
       "      <td>218.2</td>\n",
       "      <td>88</td>\n",
       "      <td>37.09</td>\n",
       "      <td>348.5</td>\n",
       "      <td>108</td>\n",
       "      <td>29.62</td>\n",
       "      <td>212.6</td>\n",
       "      <td>118</td>\n",
       "      <td>9.57</td>\n",
       "      <td>7.5</td>\n",
       "      <td>7</td>\n",
       "      <td>2.03</td>\n",
       "      <td>3</td>\n",
       "      <td>no</td>\n",
       "    </tr>\n",
       "  </tbody>\n",
       "</table>\n",
       "</div>"
      ],
      "text/plain": [
       "  state  account_length      area_code international_plan voice_mail_plan  \\\n",
       "0    OH             107  area_code_415                 no             yes   \n",
       "1    NJ             137  area_code_415                 no              no   \n",
       "2    OH              84  area_code_408                yes              no   \n",
       "3    OK              75  area_code_415                yes              no   \n",
       "4    MA             121  area_code_510                 no             yes   \n",
       "\n",
       "   number_vmail_messages  total_day_minutes  total_day_calls  \\\n",
       "0                     26              161.6              123   \n",
       "1                      0              243.4              114   \n",
       "2                      0              299.4               71   \n",
       "3                      0              166.7              113   \n",
       "4                     24              218.2               88   \n",
       "\n",
       "   total_day_charge  total_eve_minutes  total_eve_calls  total_eve_charge  \\\n",
       "0             27.47              195.5              103             16.62   \n",
       "1             41.38              121.2              110             10.30   \n",
       "2             50.90               61.9               88              5.26   \n",
       "3             28.34              148.3              122             12.61   \n",
       "4             37.09              348.5              108             29.62   \n",
       "\n",
       "   total_night_minutes  total_night_calls  total_night_charge  \\\n",
       "0                254.4                103               11.45   \n",
       "1                162.6                104                7.32   \n",
       "2                196.9                 89                8.86   \n",
       "3                186.9                121                8.41   \n",
       "4                212.6                118                9.57   \n",
       "\n",
       "   total_intl_minutes  total_intl_calls  total_intl_charge  \\\n",
       "0                13.7                 3               3.70   \n",
       "1                12.2                 5               3.29   \n",
       "2                 6.6                 7               1.78   \n",
       "3                10.1                 3               2.73   \n",
       "4                 7.5                 7               2.03   \n",
       "\n",
       "   number_customer_service_calls churn  \n",
       "0                              1    no  \n",
       "1                              0    no  \n",
       "2                              2    no  \n",
       "3                              3    no  \n",
       "4                              3    no  "
      ]
     },
     "execution_count": 3,
     "metadata": {},
     "output_type": "execute_result"
    }
   ],
   "source": [
    "df.head()"
   ]
  },
  {
   "cell_type": "code",
   "execution_count": 4,
   "metadata": {},
   "outputs": [
    {
     "data": {
      "text/plain": [
       "(4250, 20)"
      ]
     },
     "execution_count": 4,
     "metadata": {},
     "output_type": "execute_result"
    }
   ],
   "source": [
    "df.shape"
   ]
  },
  {
   "cell_type": "code",
   "execution_count": 5,
   "metadata": {},
   "outputs": [
    {
     "name": "stdout",
     "output_type": "stream",
     "text": [
      "<class 'pandas.core.frame.DataFrame'>\n",
      "RangeIndex: 4250 entries, 0 to 4249\n",
      "Data columns (total 20 columns):\n",
      " #   Column                         Non-Null Count  Dtype  \n",
      "---  ------                         --------------  -----  \n",
      " 0   state                          4250 non-null   object \n",
      " 1   account_length                 4250 non-null   int64  \n",
      " 2   area_code                      4250 non-null   object \n",
      " 3   international_plan             4250 non-null   object \n",
      " 4   voice_mail_plan                4250 non-null   object \n",
      " 5   number_vmail_messages          4250 non-null   int64  \n",
      " 6   total_day_minutes              4250 non-null   float64\n",
      " 7   total_day_calls                4250 non-null   int64  \n",
      " 8   total_day_charge               4250 non-null   float64\n",
      " 9   total_eve_minutes              4250 non-null   float64\n",
      " 10  total_eve_calls                4250 non-null   int64  \n",
      " 11  total_eve_charge               4250 non-null   float64\n",
      " 12  total_night_minutes            4250 non-null   float64\n",
      " 13  total_night_calls              4250 non-null   int64  \n",
      " 14  total_night_charge             4250 non-null   float64\n",
      " 15  total_intl_minutes             4250 non-null   float64\n",
      " 16  total_intl_calls               4250 non-null   int64  \n",
      " 17  total_intl_charge              4250 non-null   float64\n",
      " 18  number_customer_service_calls  4250 non-null   int64  \n",
      " 19  churn                          4250 non-null   object \n",
      "dtypes: float64(8), int64(7), object(5)\n",
      "memory usage: 664.2+ KB\n"
     ]
    }
   ],
   "source": [
    "df.info()"
   ]
  },
  {
   "cell_type": "code",
   "execution_count": 6,
   "metadata": {},
   "outputs": [
    {
     "data": {
      "text/html": [
       "<div>\n",
       "<style scoped>\n",
       "    .dataframe tbody tr th:only-of-type {\n",
       "        vertical-align: middle;\n",
       "    }\n",
       "\n",
       "    .dataframe tbody tr th {\n",
       "        vertical-align: top;\n",
       "    }\n",
       "\n",
       "    .dataframe thead th {\n",
       "        text-align: right;\n",
       "    }\n",
       "</style>\n",
       "<table border=\"1\" class=\"dataframe\">\n",
       "  <thead>\n",
       "    <tr style=\"text-align: right;\">\n",
       "      <th></th>\n",
       "      <th>account_length</th>\n",
       "      <th>number_vmail_messages</th>\n",
       "      <th>total_day_minutes</th>\n",
       "      <th>total_day_calls</th>\n",
       "      <th>total_day_charge</th>\n",
       "      <th>total_eve_minutes</th>\n",
       "      <th>total_eve_calls</th>\n",
       "      <th>total_eve_charge</th>\n",
       "      <th>total_night_minutes</th>\n",
       "      <th>total_night_calls</th>\n",
       "      <th>total_night_charge</th>\n",
       "      <th>total_intl_minutes</th>\n",
       "      <th>total_intl_calls</th>\n",
       "      <th>total_intl_charge</th>\n",
       "      <th>number_customer_service_calls</th>\n",
       "    </tr>\n",
       "  </thead>\n",
       "  <tbody>\n",
       "    <tr>\n",
       "      <th>count</th>\n",
       "      <td>4250.000000</td>\n",
       "      <td>4250.000000</td>\n",
       "      <td>4250.000000</td>\n",
       "      <td>4250.000000</td>\n",
       "      <td>4250.000000</td>\n",
       "      <td>4250.000000</td>\n",
       "      <td>4250.000000</td>\n",
       "      <td>4250.000000</td>\n",
       "      <td>4250.000000</td>\n",
       "      <td>4250.000000</td>\n",
       "      <td>4250.000000</td>\n",
       "      <td>4250.000000</td>\n",
       "      <td>4250.000000</td>\n",
       "      <td>4250.000000</td>\n",
       "      <td>4250.000000</td>\n",
       "    </tr>\n",
       "    <tr>\n",
       "      <th>mean</th>\n",
       "      <td>100.236235</td>\n",
       "      <td>7.631765</td>\n",
       "      <td>180.259600</td>\n",
       "      <td>99.907294</td>\n",
       "      <td>30.644682</td>\n",
       "      <td>200.173906</td>\n",
       "      <td>100.176471</td>\n",
       "      <td>17.015012</td>\n",
       "      <td>200.527882</td>\n",
       "      <td>99.839529</td>\n",
       "      <td>9.023892</td>\n",
       "      <td>10.256071</td>\n",
       "      <td>4.426353</td>\n",
       "      <td>2.769654</td>\n",
       "      <td>1.559059</td>\n",
       "    </tr>\n",
       "    <tr>\n",
       "      <th>std</th>\n",
       "      <td>39.698401</td>\n",
       "      <td>13.439882</td>\n",
       "      <td>54.012373</td>\n",
       "      <td>19.850817</td>\n",
       "      <td>9.182096</td>\n",
       "      <td>50.249518</td>\n",
       "      <td>19.908591</td>\n",
       "      <td>4.271212</td>\n",
       "      <td>50.353548</td>\n",
       "      <td>20.093220</td>\n",
       "      <td>2.265922</td>\n",
       "      <td>2.760102</td>\n",
       "      <td>2.463069</td>\n",
       "      <td>0.745204</td>\n",
       "      <td>1.311434</td>\n",
       "    </tr>\n",
       "    <tr>\n",
       "      <th>min</th>\n",
       "      <td>1.000000</td>\n",
       "      <td>0.000000</td>\n",
       "      <td>0.000000</td>\n",
       "      <td>0.000000</td>\n",
       "      <td>0.000000</td>\n",
       "      <td>0.000000</td>\n",
       "      <td>0.000000</td>\n",
       "      <td>0.000000</td>\n",
       "      <td>0.000000</td>\n",
       "      <td>0.000000</td>\n",
       "      <td>0.000000</td>\n",
       "      <td>0.000000</td>\n",
       "      <td>0.000000</td>\n",
       "      <td>0.000000</td>\n",
       "      <td>0.000000</td>\n",
       "    </tr>\n",
       "    <tr>\n",
       "      <th>25%</th>\n",
       "      <td>73.000000</td>\n",
       "      <td>0.000000</td>\n",
       "      <td>143.325000</td>\n",
       "      <td>87.000000</td>\n",
       "      <td>24.365000</td>\n",
       "      <td>165.925000</td>\n",
       "      <td>87.000000</td>\n",
       "      <td>14.102500</td>\n",
       "      <td>167.225000</td>\n",
       "      <td>86.000000</td>\n",
       "      <td>7.522500</td>\n",
       "      <td>8.500000</td>\n",
       "      <td>3.000000</td>\n",
       "      <td>2.300000</td>\n",
       "      <td>1.000000</td>\n",
       "    </tr>\n",
       "    <tr>\n",
       "      <th>50%</th>\n",
       "      <td>100.000000</td>\n",
       "      <td>0.000000</td>\n",
       "      <td>180.450000</td>\n",
       "      <td>100.000000</td>\n",
       "      <td>30.680000</td>\n",
       "      <td>200.700000</td>\n",
       "      <td>100.000000</td>\n",
       "      <td>17.060000</td>\n",
       "      <td>200.450000</td>\n",
       "      <td>100.000000</td>\n",
       "      <td>9.020000</td>\n",
       "      <td>10.300000</td>\n",
       "      <td>4.000000</td>\n",
       "      <td>2.780000</td>\n",
       "      <td>1.000000</td>\n",
       "    </tr>\n",
       "    <tr>\n",
       "      <th>75%</th>\n",
       "      <td>127.000000</td>\n",
       "      <td>16.000000</td>\n",
       "      <td>216.200000</td>\n",
       "      <td>113.000000</td>\n",
       "      <td>36.750000</td>\n",
       "      <td>233.775000</td>\n",
       "      <td>114.000000</td>\n",
       "      <td>19.867500</td>\n",
       "      <td>234.700000</td>\n",
       "      <td>113.000000</td>\n",
       "      <td>10.560000</td>\n",
       "      <td>12.000000</td>\n",
       "      <td>6.000000</td>\n",
       "      <td>3.240000</td>\n",
       "      <td>2.000000</td>\n",
       "    </tr>\n",
       "    <tr>\n",
       "      <th>max</th>\n",
       "      <td>243.000000</td>\n",
       "      <td>52.000000</td>\n",
       "      <td>351.500000</td>\n",
       "      <td>165.000000</td>\n",
       "      <td>59.760000</td>\n",
       "      <td>359.300000</td>\n",
       "      <td>170.000000</td>\n",
       "      <td>30.540000</td>\n",
       "      <td>395.000000</td>\n",
       "      <td>175.000000</td>\n",
       "      <td>17.770000</td>\n",
       "      <td>20.000000</td>\n",
       "      <td>20.000000</td>\n",
       "      <td>5.400000</td>\n",
       "      <td>9.000000</td>\n",
       "    </tr>\n",
       "  </tbody>\n",
       "</table>\n",
       "</div>"
      ],
      "text/plain": [
       "       account_length  number_vmail_messages  total_day_minutes  \\\n",
       "count     4250.000000            4250.000000        4250.000000   \n",
       "mean       100.236235               7.631765         180.259600   \n",
       "std         39.698401              13.439882          54.012373   \n",
       "min          1.000000               0.000000           0.000000   \n",
       "25%         73.000000               0.000000         143.325000   \n",
       "50%        100.000000               0.000000         180.450000   \n",
       "75%        127.000000              16.000000         216.200000   \n",
       "max        243.000000              52.000000         351.500000   \n",
       "\n",
       "       total_day_calls  total_day_charge  total_eve_minutes  total_eve_calls  \\\n",
       "count      4250.000000       4250.000000        4250.000000      4250.000000   \n",
       "mean         99.907294         30.644682         200.173906       100.176471   \n",
       "std          19.850817          9.182096          50.249518        19.908591   \n",
       "min           0.000000          0.000000           0.000000         0.000000   \n",
       "25%          87.000000         24.365000         165.925000        87.000000   \n",
       "50%         100.000000         30.680000         200.700000       100.000000   \n",
       "75%         113.000000         36.750000         233.775000       114.000000   \n",
       "max         165.000000         59.760000         359.300000       170.000000   \n",
       "\n",
       "       total_eve_charge  total_night_minutes  total_night_calls  \\\n",
       "count       4250.000000          4250.000000        4250.000000   \n",
       "mean          17.015012           200.527882          99.839529   \n",
       "std            4.271212            50.353548          20.093220   \n",
       "min            0.000000             0.000000           0.000000   \n",
       "25%           14.102500           167.225000          86.000000   \n",
       "50%           17.060000           200.450000         100.000000   \n",
       "75%           19.867500           234.700000         113.000000   \n",
       "max           30.540000           395.000000         175.000000   \n",
       "\n",
       "       total_night_charge  total_intl_minutes  total_intl_calls  \\\n",
       "count         4250.000000         4250.000000       4250.000000   \n",
       "mean             9.023892           10.256071          4.426353   \n",
       "std              2.265922            2.760102          2.463069   \n",
       "min              0.000000            0.000000          0.000000   \n",
       "25%              7.522500            8.500000          3.000000   \n",
       "50%              9.020000           10.300000          4.000000   \n",
       "75%             10.560000           12.000000          6.000000   \n",
       "max             17.770000           20.000000         20.000000   \n",
       "\n",
       "       total_intl_charge  number_customer_service_calls  \n",
       "count        4250.000000                    4250.000000  \n",
       "mean            2.769654                       1.559059  \n",
       "std             0.745204                       1.311434  \n",
       "min             0.000000                       0.000000  \n",
       "25%             2.300000                       1.000000  \n",
       "50%             2.780000                       1.000000  \n",
       "75%             3.240000                       2.000000  \n",
       "max             5.400000                       9.000000  "
      ]
     },
     "execution_count": 6,
     "metadata": {},
     "output_type": "execute_result"
    }
   ],
   "source": [
    "df.describe()"
   ]
  },
  {
   "cell_type": "markdown",
   "metadata": {},
   "source": [
    "#### Check for missing data"
   ]
  },
  {
   "cell_type": "code",
   "execution_count": 7,
   "metadata": {},
   "outputs": [
    {
     "data": {
      "text/plain": [
       "state                            0\n",
       "account_length                   0\n",
       "area_code                        0\n",
       "international_plan               0\n",
       "voice_mail_plan                  0\n",
       "number_vmail_messages            0\n",
       "total_day_minutes                0\n",
       "total_day_calls                  0\n",
       "total_day_charge                 0\n",
       "total_eve_minutes                0\n",
       "total_eve_calls                  0\n",
       "total_eve_charge                 0\n",
       "total_night_minutes              0\n",
       "total_night_calls                0\n",
       "total_night_charge               0\n",
       "total_intl_minutes               0\n",
       "total_intl_calls                 0\n",
       "total_intl_charge                0\n",
       "number_customer_service_calls    0\n",
       "churn                            0\n",
       "dtype: int64"
      ]
     },
     "execution_count": 7,
     "metadata": {},
     "output_type": "execute_result"
    }
   ],
   "source": [
    "df.isna().sum()"
   ]
  },
  {
   "cell_type": "markdown",
   "metadata": {},
   "source": [
    "### Plot Histograms to get view of numerical variables"
   ]
  },
  {
   "cell_type": "code",
   "execution_count": 8,
   "metadata": {},
   "outputs": [
    {
     "data": {
      "image/png": "[encoded data removed]",
      "text/plain": [
       "<Figure size 1440x1440 with 16 Axes>"
      ]
     },
     "metadata": {
      "needs_background": "light"
     },
     "output_type": "display_data"
    }
   ],
   "source": [
    "df.hist(bins=50,figsize=(20,20),color='navy');"
   ]
  },
  {
   "cell_type": "markdown",
   "metadata": {},
   "source": [
    "**Most of the variables looks to have normal distribution except number_customer_service_calls, number_vmail_messages and total_intl_calls. we have to look into this variables individually.**"
   ]
  },
  {
   "cell_type": "markdown",
   "metadata": {},
   "source": [
    "### number_customer_service_calls"
   ]
  },
  {
   "cell_type": "code",
   "execution_count": 9,
   "metadata": {},
   "outputs": [
    {
     "data": {
      "text/plain": [
       "10"
      ]
     },
     "execution_count": 9,
     "metadata": {},
     "output_type": "execute_result"
    }
   ],
   "source": [
    "df['number_customer_service_calls'].nunique()"
   ]
  },
  {
   "cell_type": "markdown",
   "metadata": {},
   "source": [
    "### number_vmail_messages"
   ]
  },
  {
   "cell_type": "code",
   "execution_count": 10,
   "metadata": {},
   "outputs": [
    {
     "data": {
      "text/plain": [
       "46"
      ]
     },
     "execution_count": 10,
     "metadata": {},
     "output_type": "execute_result"
    }
   ],
   "source": [
    "df['number_vmail_messages'].nunique()"
   ]
  },
  {
   "cell_type": "markdown",
   "metadata": {},
   "source": [
    "### total_intl_calls"
   ]
  },
  {
   "cell_type": "code",
   "execution_count": 11,
   "metadata": {},
   "outputs": [
    {
     "data": {
      "text/plain": [
       "21"
      ]
     },
     "execution_count": 11,
     "metadata": {},
     "output_type": "execute_result"
    }
   ],
   "source": [
    "df['total_intl_calls'].nunique()"
   ]
  },
  {
   "cell_type": "code",
   "execution_count": 12,
   "metadata": {},
   "outputs": [
    {
     "data": {
      "image/png": "[encoded data removed]",
      "text/plain": [
       "<Figure size 432x288 with 1 Axes>"
      ]
     },
     "metadata": {
      "needs_background": "light"
     },
     "output_type": "display_data"
    },
    {
     "data": {
      "image/png": "[encoded data removed]",
      "text/plain": [
       "<Figure size 432x288 with 1 Axes>"
      ]
     },
     "metadata": {
      "needs_background": "light"
     },
     "output_type": "display_data"
    },
    {
     "data": {
      "image/png": "[encoded data removed]",
      "text/plain": [
       "<Figure size 432x288 with 1 Axes>"
      ]
     },
     "metadata": {
      "needs_background": "light"
     },
     "output_type": "display_data"
    },
    {
     "data": {
      "image/png": "[encoded data removed]",
      "text/plain": [
       "<Figure size 432x288 with 1 Axes>"
      ]
     },
     "metadata": {
      "needs_background": "light"
     },
     "output_type": "display_data"
    },
    {
     "data": {
      "image/png": "[encoded data removed]",
      "text/plain": [
       "<Figure size 432x288 with 1 Axes>"
      ]
     },
     "metadata": {
      "needs_background": "light"
     },
     "output_type": "display_data"
    },
    {
     "data": {
      "image/png": "[encoded data removed]",
      "text/plain": [
       "<Figure size 432x288 with 1 Axes>"
      ]
     },
     "metadata": {
      "needs_background": "light"
     },
     "output_type": "display_data"
    },
    {
     "data": {
      "image/png": "[encoded data removed]",
      "text/plain": [
       "<Figure size 432x288 with 1 Axes>"
      ]
     },
     "metadata": {
      "needs_background": "light"
     },
     "output_type": "display_data"
    },
    {
     "data": {
      "image/png": "[encoded data removed]",
      "text/plain": [
       "<Figure size 432x288 with 1 Axes>"
      ]
     },
     "metadata": {
      "needs_background": "light"
     },
     "output_type": "display_data"
    },
    {
     "data": {
      "image/png": "[encoded data removed]",
      "text/plain": [
       "<Figure size 432x288 with 1 Axes>"
      ]
     },
     "metadata": {
      "needs_background": "light"
     },
     "output_type": "display_data"
    },
    {
     "data": {
      "image/png": "[encoded data removed]",
      "text/plain": [
       "<Figure size 432x288 with 1 Axes>"
      ]
     },
     "metadata": {
      "needs_background": "light"
     },
     "output_type": "display_data"
    },
    {
     "data": {
      "image/png": "[encoded data removed]",
      "text/plain": [
       "<Figure size 432x288 with 1 Axes>"
      ]
     },
     "metadata": {
      "needs_background": "light"
     },
     "output_type": "display_data"
    },
    {
     "data": {
      "image/png": "[encoded data removed]",
      "text/plain": [
       "<Figure size 432x288 with 1 Axes>"
      ]
     },
     "metadata": {
      "needs_background": "light"
     },
     "output_type": "display_data"
    },
    {
     "data": {
      "image/png": "[encoded data removed]",
      "text/plain": [
       "<Figure size 432x288 with 1 Axes>"
      ]
     },
     "metadata": {
      "needs_background": "light"
     },
     "output_type": "display_data"
    },
    {
     "data": {
      "image/png": "[encoded data removed]",
      "text/plain": [
       "<Figure size 432x288 with 1 Axes>"
      ]
     },
     "metadata": {
      "needs_background": "light"
     },
     "output_type": "display_data"
    },
    {
     "data": {
      "image/png": "[encoded data removed]",
      "text/plain": [
       "<Figure size 432x288 with 1 Axes>"
      ]
     },
     "metadata": {
      "needs_background": "light"
     },
     "output_type": "display_data"
    }
   ],
   "source": [
    "num_df = df.select_dtypes(include='number')\n",
    "for col in num_df.columns:\n",
    "    #num_df[col].plot(kind='box')\n",
    "    plt.subplots()\n",
    "    plt.boxplot(num_df[col])\n",
    "    plt.title(col)\n",
    "    plt.show"
   ]
  },
  {
   "cell_type": "markdown",
   "metadata": {},
   "source": [
    "### Target Variable"
   ]
  },
  {
   "cell_type": "code",
   "execution_count": 13,
   "metadata": {},
   "outputs": [
    {
     "data": {
      "text/plain": [
       "no     3652\n",
       "yes     598\n",
       "Name: churn, dtype: int64"
      ]
     },
     "execution_count": 13,
     "metadata": {},
     "output_type": "execute_result"
    }
   ],
   "source": [
    "df['churn'].value_counts()"
   ]
  },
  {
   "cell_type": "code",
   "execution_count": 14,
   "metadata": {},
   "outputs": [
    {
     "data": {
      "text/plain": [
       "no     0.859294\n",
       "yes    0.140706\n",
       "Name: churn, dtype: float64"
      ]
     },
     "execution_count": 14,
     "metadata": {},
     "output_type": "execute_result"
    }
   ],
   "source": [
    "df['churn'].value_counts(normalize=True)"
   ]
  },
  {
   "cell_type": "code",
   "execution_count": 15,
   "metadata": {},
   "outputs": [
    {
     "data": {
      "image/png": "[encoded data removed]",
      "text/plain": [
       "<Figure size 432x288 with 1 Axes>"
      ]
     },
     "metadata": {
      "needs_background": "light"
     },
     "output_type": "display_data"
    }
   ],
   "source": [
    "sns.countplot(x='churn', data=df);"
   ]
  },
  {
   "cell_type": "markdown",
   "metadata": {},
   "source": [
    "**Target variable looks imbalance**"
   ]
  },
  {
   "cell_type": "markdown",
   "metadata": {},
   "source": [
    "### Look at Categorical variables"
   ]
  },
  {
   "cell_type": "code",
   "execution_count": 16,
   "metadata": {},
   "outputs": [
    {
     "data": {
      "text/html": [
       "<div>\n",
       "<style scoped>\n",
       "    .dataframe tbody tr th:only-of-type {\n",
       "        vertical-align: middle;\n",
       "    }\n",
       "\n",
       "    .dataframe tbody tr th {\n",
       "        vertical-align: top;\n",
       "    }\n",
       "\n",
       "    .dataframe thead th {\n",
       "        text-align: right;\n",
       "    }\n",
       "</style>\n",
       "<table border=\"1\" class=\"dataframe\">\n",
       "  <thead>\n",
       "    <tr style=\"text-align: right;\">\n",
       "      <th></th>\n",
       "      <th>state</th>\n",
       "      <th>area_code</th>\n",
       "      <th>international_plan</th>\n",
       "      <th>voice_mail_plan</th>\n",
       "      <th>churn</th>\n",
       "    </tr>\n",
       "  </thead>\n",
       "  <tbody>\n",
       "    <tr>\n",
       "      <th>0</th>\n",
       "      <td>OH</td>\n",
       "      <td>area_code_415</td>\n",
       "      <td>no</td>\n",
       "      <td>yes</td>\n",
       "      <td>no</td>\n",
       "    </tr>\n",
       "    <tr>\n",
       "      <th>1</th>\n",
       "      <td>NJ</td>\n",
       "      <td>area_code_415</td>\n",
       "      <td>no</td>\n",
       "      <td>no</td>\n",
       "      <td>no</td>\n",
       "    </tr>\n",
       "    <tr>\n",
       "      <th>2</th>\n",
       "      <td>OH</td>\n",
       "      <td>area_code_408</td>\n",
       "      <td>yes</td>\n",
       "      <td>no</td>\n",
       "      <td>no</td>\n",
       "    </tr>\n",
       "    <tr>\n",
       "      <th>3</th>\n",
       "      <td>OK</td>\n",
       "      <td>area_code_415</td>\n",
       "      <td>yes</td>\n",
       "      <td>no</td>\n",
       "      <td>no</td>\n",
       "    </tr>\n",
       "    <tr>\n",
       "      <th>4</th>\n",
       "      <td>MA</td>\n",
       "      <td>area_code_510</td>\n",
       "      <td>no</td>\n",
       "      <td>yes</td>\n",
       "      <td>no</td>\n",
       "    </tr>\n",
       "  </tbody>\n",
       "</table>\n",
       "</div>"
      ],
      "text/plain": [
       "  state      area_code international_plan voice_mail_plan churn\n",
       "0    OH  area_code_415                 no             yes    no\n",
       "1    NJ  area_code_415                 no              no    no\n",
       "2    OH  area_code_408                yes              no    no\n",
       "3    OK  area_code_415                yes              no    no\n",
       "4    MA  area_code_510                 no             yes    no"
      ]
     },
     "execution_count": 16,
     "metadata": {},
     "output_type": "execute_result"
    }
   ],
   "source": [
    "cat_df = df.select_dtypes(include='object')\n",
    "cat_df.head()"
   ]
  },
  {
   "cell_type": "code",
   "execution_count": 17,
   "metadata": {},
   "outputs": [
    {
     "data": {
      "text/plain": [
       "state                 51\n",
       "area_code              3\n",
       "international_plan     2\n",
       "voice_mail_plan        2\n",
       "churn                  2\n",
       "dtype: int64"
      ]
     },
     "execution_count": 17,
     "metadata": {},
     "output_type": "execute_result"
    }
   ],
   "source": [
    "cat_df.nunique()"
   ]
  },
  {
   "cell_type": "markdown",
   "metadata": {},
   "source": [
    "#### Comparison of international_plan variable with churn variable"
   ]
  },
  {
   "cell_type": "code",
   "execution_count": 18,
   "metadata": {},
   "outputs": [
    {
     "data": {
      "text/plain": [
       "international_plan\n",
       "no     3854\n",
       "yes     396\n",
       "Name: churn, dtype: int64"
      ]
     },
     "execution_count": 18,
     "metadata": {},
     "output_type": "execute_result"
    }
   ],
   "source": [
    "df.groupby('international_plan')['churn'].count()"
   ]
  },
  {
   "cell_type": "code",
   "execution_count": 19,
   "metadata": {
    "scrolled": true
   },
   "outputs": [
    {
     "data": {
      "image/png": "[encoded data removed]",
      "text/plain": [
       "<Figure size 432x288 with 1 Axes>"
      ]
     },
     "metadata": {
      "needs_background": "light"
     },
     "output_type": "display_data"
    }
   ],
   "source": [
    " sns.countplot(x=\"international_plan\", hue=\"churn\", data=df);"
   ]
  },
  {
   "cell_type": "markdown",
   "metadata": {},
   "source": []
  },
  {
   "cell_type": "markdown",
   "metadata": {},
   "source": [
    "### Comparison of area code with churn"
   ]
  },
  {
   "cell_type": "code",
   "execution_count": 20,
   "metadata": {},
   "outputs": [
    {
     "data": {
      "image/png": "[encoded data removed]",
      "text/plain": [
       "<Figure size 432x288 with 1 Axes>"
      ]
     },
     "metadata": {
      "needs_background": "light"
     },
     "output_type": "display_data"
    }
   ],
   "source": [
    " sns.countplot(x=\"area_code\", hue=\"churn\", data=df);"
   ]
  },
  {
   "cell_type": "markdown",
   "metadata": {},
   "source": [
    "### Comparison of voice_mail_plan vs churn"
   ]
  },
  {
   "cell_type": "code",
   "execution_count": 21,
   "metadata": {},
   "outputs": [
    {
     "data": {
      "image/png": "[encoded data removed]",
      "text/plain": [
       "<Figure size 432x288 with 1 Axes>"
      ]
     },
     "metadata": {
      "needs_background": "light"
     },
     "output_type": "display_data"
    }
   ],
   "source": [
    " sns.countplot(x=\"voice_mail_plan\", hue=\"churn\", data=df);"
   ]
  },
  {
   "cell_type": "code",
   "execution_count": 22,
   "metadata": {},
   "outputs": [
    {
     "data": {
      "image/png": "[encoded data removed]",
      "text/plain": [
       "<Figure size 1296x720 with 1 Axes>"
      ]
     },
     "metadata": {
      "needs_background": "light"
     },
     "output_type": "display_data"
    }
   ],
   "source": [
    "fig,ax = plt.subplots(figsize = (18,10)) \n",
    "x = df.groupby('state')[['churn']].size()\n",
    "x.plot.bar()\n",
    "plt.show()"
   ]
  },
  {
   "cell_type": "code",
   "execution_count": 23,
   "metadata": {},
   "outputs": [],
   "source": [
    "def facetgrid(data,y):\n",
    "    g = sns.FacetGrid(data,col = 'churn',height = 5)\n",
    "    g.map(plt.hist,y,alpha = 0.5)\n",
    "    g.add_legend()\n",
    "    plt.show()"
   ]
  },
  {
   "cell_type": "code",
   "execution_count": 24,
   "metadata": {},
   "outputs": [
    {
     "data": {
      "image/png": "[encoded data removed]",
      "text/plain": [
       "<Figure size 728.8x360 with 2 Axes>"
      ]
     },
     "metadata": {
      "needs_background": "light"
     },
     "output_type": "display_data"
    }
   ],
   "source": [
    "facetgrid(df, 'number_customer_service_calls')"
   ]
  },
  {
   "cell_type": "code",
   "execution_count": 25,
   "metadata": {},
   "outputs": [
    {
     "data": {
      "image/png": "[encoded data removed]",
      "text/plain": [
       "<Figure size 728.8x360 with 2 Axes>"
      ]
     },
     "metadata": {
      "needs_background": "light"
     },
     "output_type": "display_data"
    }
   ],
   "source": [
    "facetgrid(df, 'total_day_calls')"
   ]
  },
  {
   "cell_type": "code",
   "execution_count": 26,
   "metadata": {},
   "outputs": [
    {
     "data": {
      "image/png": "[encoded data removed]",
      "text/plain": [
       "<Figure size 728.8x360 with 2 Axes>"
      ]
     },
     "metadata": {
      "needs_background": "light"
     },
     "output_type": "display_data"
    }
   ],
   "source": [
    "facetgrid(df, 'total_eve_calls')"
   ]
  },
  {
   "cell_type": "code",
   "execution_count": 27,
   "metadata": {},
   "outputs": [
    {
     "data": {
      "image/png": "[encoded data removed]",
      "text/plain": [
       "<Figure size 728.8x360 with 2 Axes>"
      ]
     },
     "metadata": {
      "needs_background": "light"
     },
     "output_type": "display_data"
    }
   ],
   "source": [
    "facetgrid(df, 'number_vmail_messages')"
   ]
  },
  {
   "cell_type": "code",
   "execution_count": 28,
   "metadata": {},
   "outputs": [
    {
     "data": {
      "image/png": "[encoded data removed]",
      "text/plain": [
       "<Figure size 728.8x360 with 2 Axes>"
      ]
     },
     "metadata": {
      "needs_background": "light"
     },
     "output_type": "display_data"
    }
   ],
   "source": [
    "facetgrid(df, 'voice_mail_plan')"
   ]
  },
  {
   "cell_type": "code",
   "execution_count": null,
   "metadata": {},
   "outputs": [],
   "source": []
  },
  {
   "cell_type": "markdown",
   "metadata": {},
   "source": [
    "### Correlation of features compared to churn column"
   ]
  },
  {
   "cell_type": "code",
   "execution_count": 29,
   "metadata": {},
   "outputs": [],
   "source": [
    "#convert object to categorical data\n",
    "df.state = pd.Categorical(df.state).codes\n",
    "df.area_code = pd.Categorical(df.area_code).codes\n",
    "df.international_plan = pd.Categorical(df.international_plan).codes\n",
    "df.voice_mail_plan = pd.Categorical(df.voice_mail_plan).codes\n",
    "df.churn = pd.Categorical(df.churn).codes"
   ]
  },
  {
   "cell_type": "code",
   "execution_count": 30,
   "metadata": {},
   "outputs": [
    {
     "data": {
      "text/plain": [
       "0    3652\n",
       "1     598\n",
       "Name: churn, dtype: int64"
      ]
     },
     "execution_count": 30,
     "metadata": {},
     "output_type": "execute_result"
    }
   ],
   "source": [
    "df.churn.value_counts()"
   ]
  },
  {
   "cell_type": "code",
   "execution_count": 31,
   "metadata": {},
   "outputs": [
    {
     "data": {
      "text/html": [
       "<div>\n",
       "<style scoped>\n",
       "    .dataframe tbody tr th:only-of-type {\n",
       "        vertical-align: middle;\n",
       "    }\n",
       "\n",
       "    .dataframe tbody tr th {\n",
       "        vertical-align: top;\n",
       "    }\n",
       "\n",
       "    .dataframe thead th {\n",
       "        text-align: right;\n",
       "    }\n",
       "</style>\n",
       "<table border=\"1\" class=\"dataframe\">\n",
       "  <thead>\n",
       "    <tr style=\"text-align: right;\">\n",
       "      <th></th>\n",
       "      <th>state</th>\n",
       "      <th>account_length</th>\n",
       "      <th>area_code</th>\n",
       "      <th>international_plan</th>\n",
       "      <th>voice_mail_plan</th>\n",
       "      <th>number_vmail_messages</th>\n",
       "      <th>total_day_minutes</th>\n",
       "      <th>total_day_calls</th>\n",
       "      <th>total_day_charge</th>\n",
       "      <th>total_eve_minutes</th>\n",
       "      <th>total_eve_calls</th>\n",
       "      <th>total_eve_charge</th>\n",
       "      <th>total_night_minutes</th>\n",
       "      <th>total_night_calls</th>\n",
       "      <th>total_night_charge</th>\n",
       "      <th>total_intl_minutes</th>\n",
       "      <th>total_intl_calls</th>\n",
       "      <th>total_intl_charge</th>\n",
       "      <th>number_customer_service_calls</th>\n",
       "      <th>churn</th>\n",
       "    </tr>\n",
       "  </thead>\n",
       "  <tbody>\n",
       "    <tr>\n",
       "      <th>churn</th>\n",
       "      <td>0.007181</td>\n",
       "      <td>0.019378</td>\n",
       "      <td>0.010696</td>\n",
       "      <td>0.259053</td>\n",
       "      <td>-0.114643</td>\n",
       "      <td>-0.100347</td>\n",
       "      <td>0.215272</td>\n",
       "      <td>0.011640</td>\n",
       "      <td>0.215263</td>\n",
       "      <td>0.078855</td>\n",
       "      <td>-0.006817</td>\n",
       "      <td>0.078852</td>\n",
       "      <td>0.046647</td>\n",
       "      <td>-0.012699</td>\n",
       "      <td>0.046641</td>\n",
       "      <td>0.055186</td>\n",
       "      <td>-0.034334</td>\n",
       "      <td>0.055177</td>\n",
       "      <td>0.221220</td>\n",
       "      <td>1.000000</td>\n",
       "    </tr>\n",
       "    <tr>\n",
       "      <th>international_plan</th>\n",
       "      <td>0.003822</td>\n",
       "      <td>0.027050</td>\n",
       "      <td>0.027133</td>\n",
       "      <td>1.000000</td>\n",
       "      <td>0.000714</td>\n",
       "      <td>0.004808</td>\n",
       "      <td>0.040059</td>\n",
       "      <td>0.009776</td>\n",
       "      <td>0.040061</td>\n",
       "      <td>0.023484</td>\n",
       "      <td>-0.003004</td>\n",
       "      <td>0.023479</td>\n",
       "      <td>-0.020694</td>\n",
       "      <td>0.007153</td>\n",
       "      <td>-0.020694</td>\n",
       "      <td>0.023815</td>\n",
       "      <td>0.006956</td>\n",
       "      <td>0.023799</td>\n",
       "      <td>-0.008881</td>\n",
       "      <td>0.259053</td>\n",
       "    </tr>\n",
       "    <tr>\n",
       "      <th>number_customer_service_calls</th>\n",
       "      <td>-0.020421</td>\n",
       "      <td>0.001002</td>\n",
       "      <td>0.011064</td>\n",
       "      <td>-0.008881</td>\n",
       "      <td>-0.021504</td>\n",
       "      <td>-0.015303</td>\n",
       "      <td>-0.002925</td>\n",
       "      <td>-0.015845</td>\n",
       "      <td>-0.002932</td>\n",
       "      <td>-0.010063</td>\n",
       "      <td>0.006956</td>\n",
       "      <td>-0.010071</td>\n",
       "      <td>-0.013771</td>\n",
       "      <td>-0.008893</td>\n",
       "      <td>-0.013761</td>\n",
       "      <td>-0.013994</td>\n",
       "      <td>-0.015302</td>\n",
       "      <td>-0.014051</td>\n",
       "      <td>1.000000</td>\n",
       "      <td>0.221220</td>\n",
       "    </tr>\n",
       "    <tr>\n",
       "      <th>total_day_minutes</th>\n",
       "      <td>0.014263</td>\n",
       "      <td>-0.001612</td>\n",
       "      <td>0.006344</td>\n",
       "      <td>0.040059</td>\n",
       "      <td>-0.000653</td>\n",
       "      <td>0.002000</td>\n",
       "      <td>1.000000</td>\n",
       "      <td>0.000747</td>\n",
       "      <td>1.000000</td>\n",
       "      <td>-0.013248</td>\n",
       "      <td>0.005986</td>\n",
       "      <td>-0.013258</td>\n",
       "      <td>0.010049</td>\n",
       "      <td>-0.004812</td>\n",
       "      <td>0.010036</td>\n",
       "      <td>-0.021369</td>\n",
       "      <td>0.003859</td>\n",
       "      <td>-0.021291</td>\n",
       "      <td>-0.002925</td>\n",
       "      <td>0.215272</td>\n",
       "    </tr>\n",
       "    <tr>\n",
       "      <th>total_day_charge</th>\n",
       "      <td>0.014262</td>\n",
       "      <td>-0.001613</td>\n",
       "      <td>0.006342</td>\n",
       "      <td>0.040061</td>\n",
       "      <td>-0.000658</td>\n",
       "      <td>0.001994</td>\n",
       "      <td>1.000000</td>\n",
       "      <td>0.000751</td>\n",
       "      <td>1.000000</td>\n",
       "      <td>-0.013247</td>\n",
       "      <td>0.005985</td>\n",
       "      <td>-0.013257</td>\n",
       "      <td>0.010053</td>\n",
       "      <td>-0.004816</td>\n",
       "      <td>0.010040</td>\n",
       "      <td>-0.021374</td>\n",
       "      <td>0.003853</td>\n",
       "      <td>-0.021296</td>\n",
       "      <td>-0.002932</td>\n",
       "      <td>0.215263</td>\n",
       "    </tr>\n",
       "    <tr>\n",
       "      <th>total_eve_minutes</th>\n",
       "      <td>0.001603</td>\n",
       "      <td>-0.010326</td>\n",
       "      <td>-0.000244</td>\n",
       "      <td>0.023484</td>\n",
       "      <td>0.011982</td>\n",
       "      <td>0.010725</td>\n",
       "      <td>-0.013248</td>\n",
       "      <td>0.008661</td>\n",
       "      <td>-0.013247</td>\n",
       "      <td>1.000000</td>\n",
       "      <td>0.003101</td>\n",
       "      <td>1.000000</td>\n",
       "      <td>-0.014018</td>\n",
       "      <td>0.011973</td>\n",
       "      <td>-0.014031</td>\n",
       "      <td>-0.003509</td>\n",
       "      <td>0.012239</td>\n",
       "      <td>-0.003460</td>\n",
       "      <td>-0.010063</td>\n",
       "      <td>0.078855</td>\n",
       "    </tr>\n",
       "    <tr>\n",
       "      <th>total_eve_charge</th>\n",
       "      <td>0.001603</td>\n",
       "      <td>-0.010322</td>\n",
       "      <td>-0.000229</td>\n",
       "      <td>0.023479</td>\n",
       "      <td>0.011989</td>\n",
       "      <td>0.010736</td>\n",
       "      <td>-0.013258</td>\n",
       "      <td>0.008663</td>\n",
       "      <td>-0.013257</td>\n",
       "      <td>1.000000</td>\n",
       "      <td>0.003120</td>\n",
       "      <td>1.000000</td>\n",
       "      <td>-0.014022</td>\n",
       "      <td>0.011971</td>\n",
       "      <td>-0.014035</td>\n",
       "      <td>-0.003512</td>\n",
       "      <td>0.012239</td>\n",
       "      <td>-0.003463</td>\n",
       "      <td>-0.010071</td>\n",
       "      <td>0.078852</td>\n",
       "    </tr>\n",
       "    <tr>\n",
       "      <th>total_intl_minutes</th>\n",
       "      <td>-0.010260</td>\n",
       "      <td>0.004539</td>\n",
       "      <td>0.013641</td>\n",
       "      <td>0.023815</td>\n",
       "      <td>0.008098</td>\n",
       "      <td>0.005220</td>\n",
       "      <td>-0.021369</td>\n",
       "      <td>0.008834</td>\n",
       "      <td>-0.021374</td>\n",
       "      <td>-0.003509</td>\n",
       "      <td>-0.013096</td>\n",
       "      <td>-0.003512</td>\n",
       "      <td>-0.000113</td>\n",
       "      <td>0.001093</td>\n",
       "      <td>-0.000103</td>\n",
       "      <td>1.000000</td>\n",
       "      <td>0.019328</td>\n",
       "      <td>0.999993</td>\n",
       "      <td>-0.013994</td>\n",
       "      <td>0.055186</td>\n",
       "    </tr>\n",
       "    <tr>\n",
       "      <th>total_intl_charge</th>\n",
       "      <td>-0.010284</td>\n",
       "      <td>0.004494</td>\n",
       "      <td>0.013518</td>\n",
       "      <td>0.023799</td>\n",
       "      <td>0.008129</td>\n",
       "      <td>0.005249</td>\n",
       "      <td>-0.021291</td>\n",
       "      <td>0.008909</td>\n",
       "      <td>-0.021296</td>\n",
       "      <td>-0.003460</td>\n",
       "      <td>-0.013145</td>\n",
       "      <td>-0.003463</td>\n",
       "      <td>-0.000047</td>\n",
       "      <td>0.001054</td>\n",
       "      <td>-0.000037</td>\n",
       "      <td>0.999993</td>\n",
       "      <td>0.019414</td>\n",
       "      <td>1.000000</td>\n",
       "      <td>-0.014051</td>\n",
       "      <td>0.055177</td>\n",
       "    </tr>\n",
       "    <tr>\n",
       "      <th>total_night_minutes</th>\n",
       "      <td>0.004827</td>\n",
       "      <td>-0.009916</td>\n",
       "      <td>0.019034</td>\n",
       "      <td>-0.020694</td>\n",
       "      <td>0.017884</td>\n",
       "      <td>0.018308</td>\n",
       "      <td>0.010049</td>\n",
       "      <td>0.002206</td>\n",
       "      <td>0.010053</td>\n",
       "      <td>-0.014018</td>\n",
       "      <td>0.008425</td>\n",
       "      <td>-0.014022</td>\n",
       "      <td>1.000000</td>\n",
       "      <td>0.023815</td>\n",
       "      <td>0.999999</td>\n",
       "      <td>-0.000113</td>\n",
       "      <td>-0.024280</td>\n",
       "      <td>-0.000047</td>\n",
       "      <td>-0.013771</td>\n",
       "      <td>0.046647</td>\n",
       "    </tr>\n",
       "    <tr>\n",
       "      <th>total_night_charge</th>\n",
       "      <td>0.004815</td>\n",
       "      <td>-0.009942</td>\n",
       "      <td>0.019031</td>\n",
       "      <td>-0.020694</td>\n",
       "      <td>0.017875</td>\n",
       "      <td>0.018300</td>\n",
       "      <td>0.010036</td>\n",
       "      <td>0.002200</td>\n",
       "      <td>0.010040</td>\n",
       "      <td>-0.014031</td>\n",
       "      <td>0.008441</td>\n",
       "      <td>-0.014035</td>\n",
       "      <td>0.999999</td>\n",
       "      <td>0.023798</td>\n",
       "      <td>1.000000</td>\n",
       "      <td>-0.000103</td>\n",
       "      <td>-0.024260</td>\n",
       "      <td>-0.000037</td>\n",
       "      <td>-0.013761</td>\n",
       "      <td>0.046641</td>\n",
       "    </tr>\n",
       "    <tr>\n",
       "      <th>account_length</th>\n",
       "      <td>0.008818</td>\n",
       "      <td>1.000000</td>\n",
       "      <td>-0.023530</td>\n",
       "      <td>0.027050</td>\n",
       "      <td>0.001663</td>\n",
       "      <td>-0.006626</td>\n",
       "      <td>-0.001612</td>\n",
       "      <td>0.023002</td>\n",
       "      <td>-0.001613</td>\n",
       "      <td>-0.010326</td>\n",
       "      <td>0.005535</td>\n",
       "      <td>-0.010322</td>\n",
       "      <td>-0.009916</td>\n",
       "      <td>-0.001846</td>\n",
       "      <td>-0.009942</td>\n",
       "      <td>0.004539</td>\n",
       "      <td>0.013690</td>\n",
       "      <td>0.004494</td>\n",
       "      <td>0.001002</td>\n",
       "      <td>0.019378</td>\n",
       "    </tr>\n",
       "    <tr>\n",
       "      <th>total_day_calls</th>\n",
       "      <td>-0.009890</td>\n",
       "      <td>0.023002</td>\n",
       "      <td>-0.009064</td>\n",
       "      <td>0.009776</td>\n",
       "      <td>-0.010004</td>\n",
       "      <td>-0.006920</td>\n",
       "      <td>0.000747</td>\n",
       "      <td>1.000000</td>\n",
       "      <td>0.000751</td>\n",
       "      <td>0.008661</td>\n",
       "      <td>0.003739</td>\n",
       "      <td>0.008663</td>\n",
       "      <td>0.002206</td>\n",
       "      <td>-0.004815</td>\n",
       "      <td>0.002200</td>\n",
       "      <td>0.008834</td>\n",
       "      <td>0.009377</td>\n",
       "      <td>0.008909</td>\n",
       "      <td>-0.015845</td>\n",
       "      <td>0.011640</td>\n",
       "    </tr>\n",
       "    <tr>\n",
       "      <th>area_code</th>\n",
       "      <td>0.020713</td>\n",
       "      <td>-0.023530</td>\n",
       "      <td>1.000000</td>\n",
       "      <td>0.027133</td>\n",
       "      <td>-0.001622</td>\n",
       "      <td>-0.002468</td>\n",
       "      <td>0.006344</td>\n",
       "      <td>-0.009064</td>\n",
       "      <td>0.006342</td>\n",
       "      <td>-0.000244</td>\n",
       "      <td>-0.014031</td>\n",
       "      <td>-0.000229</td>\n",
       "      <td>0.019034</td>\n",
       "      <td>0.022869</td>\n",
       "      <td>0.019031</td>\n",
       "      <td>0.013641</td>\n",
       "      <td>-0.007027</td>\n",
       "      <td>0.013518</td>\n",
       "      <td>0.011064</td>\n",
       "      <td>0.010696</td>\n",
       "    </tr>\n",
       "    <tr>\n",
       "      <th>state</th>\n",
       "      <td>1.000000</td>\n",
       "      <td>0.008818</td>\n",
       "      <td>0.020713</td>\n",
       "      <td>0.003822</td>\n",
       "      <td>-0.034752</td>\n",
       "      <td>-0.030857</td>\n",
       "      <td>0.014263</td>\n",
       "      <td>-0.009890</td>\n",
       "      <td>0.014262</td>\n",
       "      <td>0.001603</td>\n",
       "      <td>-0.009116</td>\n",
       "      <td>0.001603</td>\n",
       "      <td>0.004827</td>\n",
       "      <td>-0.006597</td>\n",
       "      <td>0.004815</td>\n",
       "      <td>-0.010260</td>\n",
       "      <td>0.007469</td>\n",
       "      <td>-0.010284</td>\n",
       "      <td>-0.020421</td>\n",
       "      <td>0.007181</td>\n",
       "    </tr>\n",
       "    <tr>\n",
       "      <th>total_eve_calls</th>\n",
       "      <td>-0.009116</td>\n",
       "      <td>0.005535</td>\n",
       "      <td>-0.014031</td>\n",
       "      <td>-0.003004</td>\n",
       "      <td>0.000263</td>\n",
       "      <td>0.003593</td>\n",
       "      <td>0.005986</td>\n",
       "      <td>0.003739</td>\n",
       "      <td>0.005985</td>\n",
       "      <td>0.003101</td>\n",
       "      <td>1.000000</td>\n",
       "      <td>0.003120</td>\n",
       "      <td>0.008425</td>\n",
       "      <td>-0.011929</td>\n",
       "      <td>0.008441</td>\n",
       "      <td>-0.013096</td>\n",
       "      <td>0.004949</td>\n",
       "      <td>-0.013145</td>\n",
       "      <td>0.006956</td>\n",
       "      <td>-0.006817</td>\n",
       "    </tr>\n",
       "    <tr>\n",
       "      <th>total_night_calls</th>\n",
       "      <td>-0.006597</td>\n",
       "      <td>-0.001846</td>\n",
       "      <td>0.022869</td>\n",
       "      <td>0.007153</td>\n",
       "      <td>0.007872</td>\n",
       "      <td>0.001977</td>\n",
       "      <td>-0.004812</td>\n",
       "      <td>-0.004815</td>\n",
       "      <td>-0.004816</td>\n",
       "      <td>0.011973</td>\n",
       "      <td>-0.011929</td>\n",
       "      <td>0.011971</td>\n",
       "      <td>0.023815</td>\n",
       "      <td>1.000000</td>\n",
       "      <td>0.023798</td>\n",
       "      <td>0.001093</td>\n",
       "      <td>0.003851</td>\n",
       "      <td>0.001054</td>\n",
       "      <td>-0.008893</td>\n",
       "      <td>-0.012699</td>\n",
       "    </tr>\n",
       "    <tr>\n",
       "      <th>total_intl_calls</th>\n",
       "      <td>0.007469</td>\n",
       "      <td>0.013690</td>\n",
       "      <td>-0.007027</td>\n",
       "      <td>0.006956</td>\n",
       "      <td>-0.005674</td>\n",
       "      <td>0.006585</td>\n",
       "      <td>0.003859</td>\n",
       "      <td>0.009377</td>\n",
       "      <td>0.003853</td>\n",
       "      <td>0.012239</td>\n",
       "      <td>0.004949</td>\n",
       "      <td>0.012239</td>\n",
       "      <td>-0.024280</td>\n",
       "      <td>0.003851</td>\n",
       "      <td>-0.024260</td>\n",
       "      <td>0.019328</td>\n",
       "      <td>1.000000</td>\n",
       "      <td>0.019414</td>\n",
       "      <td>-0.015302</td>\n",
       "      <td>-0.034334</td>\n",
       "    </tr>\n",
       "    <tr>\n",
       "      <th>number_vmail_messages</th>\n",
       "      <td>-0.030857</td>\n",
       "      <td>-0.006626</td>\n",
       "      <td>-0.002468</td>\n",
       "      <td>0.004808</td>\n",
       "      <td>0.954014</td>\n",
       "      <td>1.000000</td>\n",
       "      <td>0.002000</td>\n",
       "      <td>-0.006920</td>\n",
       "      <td>0.001994</td>\n",
       "      <td>0.010725</td>\n",
       "      <td>0.003593</td>\n",
       "      <td>0.010736</td>\n",
       "      <td>0.018308</td>\n",
       "      <td>0.001977</td>\n",
       "      <td>0.018300</td>\n",
       "      <td>0.005220</td>\n",
       "      <td>0.006585</td>\n",
       "      <td>0.005249</td>\n",
       "      <td>-0.015303</td>\n",
       "      <td>-0.100347</td>\n",
       "    </tr>\n",
       "    <tr>\n",
       "      <th>voice_mail_plan</th>\n",
       "      <td>-0.034752</td>\n",
       "      <td>0.001663</td>\n",
       "      <td>-0.001622</td>\n",
       "      <td>0.000714</td>\n",
       "      <td>1.000000</td>\n",
       "      <td>0.954014</td>\n",
       "      <td>-0.000653</td>\n",
       "      <td>-0.010004</td>\n",
       "      <td>-0.000658</td>\n",
       "      <td>0.011982</td>\n",
       "      <td>0.000263</td>\n",
       "      <td>0.011989</td>\n",
       "      <td>0.017884</td>\n",
       "      <td>0.007872</td>\n",
       "      <td>0.017875</td>\n",
       "      <td>0.008098</td>\n",
       "      <td>-0.005674</td>\n",
       "      <td>0.008129</td>\n",
       "      <td>-0.021504</td>\n",
       "      <td>-0.114643</td>\n",
       "    </tr>\n",
       "  </tbody>\n",
       "</table>\n",
       "</div>"
      ],
      "text/plain": [
       "                                  state  account_length  area_code  \\\n",
       "churn                          0.007181        0.019378   0.010696   \n",
       "international_plan             0.003822        0.027050   0.027133   \n",
       "number_customer_service_calls -0.020421        0.001002   0.011064   \n",
       "total_day_minutes              0.014263       -0.001612   0.006344   \n",
       "total_day_charge               0.014262       -0.001613   0.006342   \n",
       "total_eve_minutes              0.001603       -0.010326  -0.000244   \n",
       "total_eve_charge               0.001603       -0.010322  -0.000229   \n",
       "total_intl_minutes            -0.010260        0.004539   0.013641   \n",
       "total_intl_charge             -0.010284        0.004494   0.013518   \n",
       "total_night_minutes            0.004827       -0.009916   0.019034   \n",
       "total_night_charge             0.004815       -0.009942   0.019031   \n",
       "account_length                 0.008818        1.000000  -0.023530   \n",
       "total_day_calls               -0.009890        0.023002  -0.009064   \n",
       "area_code                      0.020713       -0.023530   1.000000   \n",
       "state                          1.000000        0.008818   0.020713   \n",
       "total_eve_calls               -0.009116        0.005535  -0.014031   \n",
       "total_night_calls             -0.006597       -0.001846   0.022869   \n",
       "total_intl_calls               0.007469        0.013690  -0.007027   \n",
       "number_vmail_messages         -0.030857       -0.006626  -0.002468   \n",
       "voice_mail_plan               -0.034752        0.001663  -0.001622   \n",
       "\n",
       "                               international_plan  voice_mail_plan  \\\n",
       "churn                                    0.259053        -0.114643   \n",
       "international_plan                       1.000000         0.000714   \n",
       "number_customer_service_calls           -0.008881        -0.021504   \n",
       "total_day_minutes                        0.040059        -0.000653   \n",
       "total_day_charge                         0.040061        -0.000658   \n",
       "total_eve_minutes                        0.023484         0.011982   \n",
       "total_eve_charge                         0.023479         0.011989   \n",
       "total_intl_minutes                       0.023815         0.008098   \n",
       "total_intl_charge                        0.023799         0.008129   \n",
       "total_night_minutes                     -0.020694         0.017884   \n",
       "total_night_charge                      -0.020694         0.017875   \n",
       "account_length                           0.027050         0.001663   \n",
       "total_day_calls                          0.009776        -0.010004   \n",
       "area_code                                0.027133        -0.001622   \n",
       "state                                    0.003822        -0.034752   \n",
       "total_eve_calls                         -0.003004         0.000263   \n",
       "total_night_calls                        0.007153         0.007872   \n",
       "total_intl_calls                         0.006956        -0.005674   \n",
       "number_vmail_messages                    0.004808         0.954014   \n",
       "voice_mail_plan                          0.000714         1.000000   \n",
       "\n",
       "                               number_vmail_messages  total_day_minutes  \\\n",
       "churn                                      -0.100347           0.215272   \n",
       "international_plan                          0.004808           0.040059   \n",
       "number_customer_service_calls              -0.015303          -0.002925   \n",
       "total_day_minutes                           0.002000           1.000000   \n",
       "total_day_charge                            0.001994           1.000000   \n",
       "total_eve_minutes                           0.010725          -0.013248   \n",
       "total_eve_charge                            0.010736          -0.013258   \n",
       "total_intl_minutes                          0.005220          -0.021369   \n",
       "total_intl_charge                           0.005249          -0.021291   \n",
       "total_night_minutes                         0.018308           0.010049   \n",
       "total_night_charge                          0.018300           0.010036   \n",
       "account_length                             -0.006626          -0.001612   \n",
       "total_day_calls                            -0.006920           0.000747   \n",
       "area_code                                  -0.002468           0.006344   \n",
       "state                                      -0.030857           0.014263   \n",
       "total_eve_calls                             0.003593           0.005986   \n",
       "total_night_calls                           0.001977          -0.004812   \n",
       "total_intl_calls                            0.006585           0.003859   \n",
       "number_vmail_messages                       1.000000           0.002000   \n",
       "voice_mail_plan                             0.954014          -0.000653   \n",
       "\n",
       "                               total_day_calls  total_day_charge  \\\n",
       "churn                                 0.011640          0.215263   \n",
       "international_plan                    0.009776          0.040061   \n",
       "number_customer_service_calls        -0.015845         -0.002932   \n",
       "total_day_minutes                     0.000747          1.000000   \n",
       "total_day_charge                      0.000751          1.000000   \n",
       "total_eve_minutes                     0.008661         -0.013247   \n",
       "total_eve_charge                      0.008663         -0.013257   \n",
       "total_intl_minutes                    0.008834         -0.021374   \n",
       "total_intl_charge                     0.008909         -0.021296   \n",
       "total_night_minutes                   0.002206          0.010053   \n",
       "total_night_charge                    0.002200          0.010040   \n",
       "account_length                        0.023002         -0.001613   \n",
       "total_day_calls                       1.000000          0.000751   \n",
       "area_code                            -0.009064          0.006342   \n",
       "state                                -0.009890          0.014262   \n",
       "total_eve_calls                       0.003739          0.005985   \n",
       "total_night_calls                    -0.004815         -0.004816   \n",
       "total_intl_calls                      0.009377          0.003853   \n",
       "number_vmail_messages                -0.006920          0.001994   \n",
       "voice_mail_plan                      -0.010004         -0.000658   \n",
       "\n",
       "                               total_eve_minutes  total_eve_calls  \\\n",
       "churn                                   0.078855        -0.006817   \n",
       "international_plan                      0.023484        -0.003004   \n",
       "number_customer_service_calls          -0.010063         0.006956   \n",
       "total_day_minutes                      -0.013248         0.005986   \n",
       "total_day_charge                       -0.013247         0.005985   \n",
       "total_eve_minutes                       1.000000         0.003101   \n",
       "total_eve_charge                        1.000000         0.003120   \n",
       "total_intl_minutes                     -0.003509        -0.013096   \n",
       "total_intl_charge                      -0.003460        -0.013145   \n",
       "total_night_minutes                    -0.014018         0.008425   \n",
       "total_night_charge                     -0.014031         0.008441   \n",
       "account_length                         -0.010326         0.005535   \n",
       "total_day_calls                         0.008661         0.003739   \n",
       "area_code                              -0.000244        -0.014031   \n",
       "state                                   0.001603        -0.009116   \n",
       "total_eve_calls                         0.003101         1.000000   \n",
       "total_night_calls                       0.011973        -0.011929   \n",
       "total_intl_calls                        0.012239         0.004949   \n",
       "number_vmail_messages                   0.010725         0.003593   \n",
       "voice_mail_plan                         0.011982         0.000263   \n",
       "\n",
       "                               total_eve_charge  total_night_minutes  \\\n",
       "churn                                  0.078852             0.046647   \n",
       "international_plan                     0.023479            -0.020694   \n",
       "number_customer_service_calls         -0.010071            -0.013771   \n",
       "total_day_minutes                     -0.013258             0.010049   \n",
       "total_day_charge                      -0.013257             0.010053   \n",
       "total_eve_minutes                      1.000000            -0.014018   \n",
       "total_eve_charge                       1.000000            -0.014022   \n",
       "total_intl_minutes                    -0.003512            -0.000113   \n",
       "total_intl_charge                     -0.003463            -0.000047   \n",
       "total_night_minutes                   -0.014022             1.000000   \n",
       "total_night_charge                    -0.014035             0.999999   \n",
       "account_length                        -0.010322            -0.009916   \n",
       "total_day_calls                        0.008663             0.002206   \n",
       "area_code                             -0.000229             0.019034   \n",
       "state                                  0.001603             0.004827   \n",
       "total_eve_calls                        0.003120             0.008425   \n",
       "total_night_calls                      0.011971             0.023815   \n",
       "total_intl_calls                       0.012239            -0.024280   \n",
       "number_vmail_messages                  0.010736             0.018308   \n",
       "voice_mail_plan                        0.011989             0.017884   \n",
       "\n",
       "                               total_night_calls  total_night_charge  \\\n",
       "churn                                  -0.012699            0.046641   \n",
       "international_plan                      0.007153           -0.020694   \n",
       "number_customer_service_calls          -0.008893           -0.013761   \n",
       "total_day_minutes                      -0.004812            0.010036   \n",
       "total_day_charge                       -0.004816            0.010040   \n",
       "total_eve_minutes                       0.011973           -0.014031   \n",
       "total_eve_charge                        0.011971           -0.014035   \n",
       "total_intl_minutes                      0.001093           -0.000103   \n",
       "total_intl_charge                       0.001054           -0.000037   \n",
       "total_night_minutes                     0.023815            0.999999   \n",
       "total_night_charge                      0.023798            1.000000   \n",
       "account_length                         -0.001846           -0.009942   \n",
       "total_day_calls                        -0.004815            0.002200   \n",
       "area_code                               0.022869            0.019031   \n",
       "state                                  -0.006597            0.004815   \n",
       "total_eve_calls                        -0.011929            0.008441   \n",
       "total_night_calls                       1.000000            0.023798   \n",
       "total_intl_calls                        0.003851           -0.024260   \n",
       "number_vmail_messages                   0.001977            0.018300   \n",
       "voice_mail_plan                         0.007872            0.017875   \n",
       "\n",
       "                               total_intl_minutes  total_intl_calls  \\\n",
       "churn                                    0.055186         -0.034334   \n",
       "international_plan                       0.023815          0.006956   \n",
       "number_customer_service_calls           -0.013994         -0.015302   \n",
       "total_day_minutes                       -0.021369          0.003859   \n",
       "total_day_charge                        -0.021374          0.003853   \n",
       "total_eve_minutes                       -0.003509          0.012239   \n",
       "total_eve_charge                        -0.003512          0.012239   \n",
       "total_intl_minutes                       1.000000          0.019328   \n",
       "total_intl_charge                        0.999993          0.019414   \n",
       "total_night_minutes                     -0.000113         -0.024280   \n",
       "total_night_charge                      -0.000103         -0.024260   \n",
       "account_length                           0.004539          0.013690   \n",
       "total_day_calls                          0.008834          0.009377   \n",
       "area_code                                0.013641         -0.007027   \n",
       "state                                   -0.010260          0.007469   \n",
       "total_eve_calls                         -0.013096          0.004949   \n",
       "total_night_calls                        0.001093          0.003851   \n",
       "total_intl_calls                         0.019328          1.000000   \n",
       "number_vmail_messages                    0.005220          0.006585   \n",
       "voice_mail_plan                          0.008098         -0.005674   \n",
       "\n",
       "                               total_intl_charge  \\\n",
       "churn                                   0.055177   \n",
       "international_plan                      0.023799   \n",
       "number_customer_service_calls          -0.014051   \n",
       "total_day_minutes                      -0.021291   \n",
       "total_day_charge                       -0.021296   \n",
       "total_eve_minutes                      -0.003460   \n",
       "total_eve_charge                       -0.003463   \n",
       "total_intl_minutes                      0.999993   \n",
       "total_intl_charge                       1.000000   \n",
       "total_night_minutes                    -0.000047   \n",
       "total_night_charge                     -0.000037   \n",
       "account_length                          0.004494   \n",
       "total_day_calls                         0.008909   \n",
       "area_code                               0.013518   \n",
       "state                                  -0.010284   \n",
       "total_eve_calls                        -0.013145   \n",
       "total_night_calls                       0.001054   \n",
       "total_intl_calls                        0.019414   \n",
       "number_vmail_messages                   0.005249   \n",
       "voice_mail_plan                         0.008129   \n",
       "\n",
       "                               number_customer_service_calls     churn  \n",
       "churn                                               0.221220  1.000000  \n",
       "international_plan                                 -0.008881  0.259053  \n",
       "number_customer_service_calls                       1.000000  0.221220  \n",
       "total_day_minutes                                  -0.002925  0.215272  \n",
       "total_day_charge                                   -0.002932  0.215263  \n",
       "total_eve_minutes                                  -0.010063  0.078855  \n",
       "total_eve_charge                                   -0.010071  0.078852  \n",
       "total_intl_minutes                                 -0.013994  0.055186  \n",
       "total_intl_charge                                  -0.014051  0.055177  \n",
       "total_night_minutes                                -0.013771  0.046647  \n",
       "total_night_charge                                 -0.013761  0.046641  \n",
       "account_length                                      0.001002  0.019378  \n",
       "total_day_calls                                    -0.015845  0.011640  \n",
       "area_code                                           0.011064  0.010696  \n",
       "state                                              -0.020421  0.007181  \n",
       "total_eve_calls                                     0.006956 -0.006817  \n",
       "total_night_calls                                  -0.008893 -0.012699  \n",
       "total_intl_calls                                   -0.015302 -0.034334  \n",
       "number_vmail_messages                              -0.015303 -0.100347  \n",
       "voice_mail_plan                                    -0.021504 -0.114643  "
      ]
     },
     "execution_count": 31,
     "metadata": {},
     "output_type": "execute_result"
    }
   ],
   "source": [
    "df.corr().sort_values('churn', ascending=False)"
   ]
  },
  {
   "cell_type": "code",
   "execution_count": 32,
   "metadata": {},
   "outputs": [
    {
     "data": {
      "image/png": "[encoded data removed]",
      "text/plain": [
       "<Figure size 720x720 with 2 Axes>"
      ]
     },
     "metadata": {
      "needs_background": "light"
     },
     "output_type": "display_data"
    }
   ],
   "source": [
    "corr_matrix = df.corr()\n",
    "plt.figure(figsize = (10,10))\n",
    "sns.heatmap(corr_matrix, data = df);"
   ]
  },
  {
   "cell_type": "markdown",
   "metadata": {},
   "source": [
    "## Modelling"
   ]
  },
  {
   "cell_type": "markdown",
   "metadata": {},
   "source": [
    "### Data Splitting"
   ]
  },
  {
   "cell_type": "code",
   "execution_count": 33,
   "metadata": {},
   "outputs": [],
   "source": [
    "X = df.drop('churn', axis=1)\n",
    "y = df['churn']"
   ]
  },
  {
   "cell_type": "code",
   "execution_count": 34,
   "metadata": {},
   "outputs": [],
   "source": [
    "from sklearn.model_selection import train_test_split\n",
    "\n",
    "X_train, X_test, y_train, y_test = train_test_split(X, y, test_size=0.3, random_state=42, stratify=y)"
   ]
  },
  {
   "cell_type": "code",
   "execution_count": 35,
   "metadata": {},
   "outputs": [
    {
     "data": {
      "text/plain": [
       "0    2556\n",
       "1     419\n",
       "Name: churn, dtype: int64"
      ]
     },
     "execution_count": 35,
     "metadata": {},
     "output_type": "execute_result"
    }
   ],
   "source": [
    "y_train.value_counts()"
   ]
  },
  {
   "cell_type": "markdown",
   "metadata": {},
   "source": [
    "### Logistic Regression"
   ]
  },
  {
   "cell_type": "code",
   "execution_count": 36,
   "metadata": {},
   "outputs": [
    {
     "data": {
      "text/plain": [
       "LogisticRegression(random_state=0, solver='liblinear')"
      ]
     },
     "execution_count": 36,
     "metadata": {},
     "output_type": "execute_result"
    }
   ],
   "source": [
    "# train a logistic regression model on the training set\n",
    "from sklearn.linear_model import LogisticRegression\n",
    "from xgboost import XGBClassifier\n",
    "\n",
    "from sklearn.metrics import accuracy_score,classification_report, confusion_matrix\n",
    "\n",
    "# instantiate the model\n",
    "logreg = LogisticRegression(solver='liblinear', random_state=0)\n",
    "\n",
    "\n",
    "# fit the model\n",
    "logreg.fit(X_train, y_train)"
   ]
  },
  {
   "cell_type": "code",
   "execution_count": 37,
   "metadata": {},
   "outputs": [
    {
     "data": {
      "text/plain": [
       "0.8635294117647059"
      ]
     },
     "execution_count": 37,
     "metadata": {},
     "output_type": "execute_result"
    }
   ],
   "source": [
    "logreg_pred = logreg.predict(X_test)\n",
    "accuracy_score(y_test, logreg_pred)"
   ]
  },
  {
   "cell_type": "code",
   "execution_count": 38,
   "metadata": {},
   "outputs": [
    {
     "data": {
      "text/plain": [
       "array([[1061,   35],\n",
       "       [ 139,   40]])"
      ]
     },
     "execution_count": 38,
     "metadata": {},
     "output_type": "execute_result"
    }
   ],
   "source": [
    "confusion_matrix(y_test, logreg_pred)"
   ]
  },
  {
   "cell_type": "code",
   "execution_count": 39,
   "metadata": {},
   "outputs": [
    {
     "name": "stdout",
     "output_type": "stream",
     "text": [
      "              precision    recall  f1-score   support\n",
      "\n",
      "           0       0.97      0.88      0.92      1200\n",
      "           1       0.22      0.53      0.31        75\n",
      "\n",
      "    accuracy                           0.86      1275\n",
      "   macro avg       0.60      0.71      0.62      1275\n",
      "weighted avg       0.92      0.86      0.89      1275\n",
      "\n"
     ]
    }
   ],
   "source": [
    "print(classification_report(logreg_pred, y_test))"
   ]
  },
  {
   "cell_type": "code",
   "execution_count": 40,
   "metadata": {},
   "outputs": [
    {
     "name": "stdout",
     "output_type": "stream",
     "text": [
      "[15:20:34] WARNING: ../src/learner.cc:1115: Starting in XGBoost 1.3.0, the default evaluation metric used with the objective 'binary:logistic' was changed from 'error' to 'logloss'. Explicitly set eval_metric if you'd like to restore the old behavior.\n"
     ]
    }
   ],
   "source": [
    "xgb = XGBClassifier(random_state=0)\n",
    "\n",
    "xgb.fit(X_train, y_train)\n",
    "y_pred = xgb.predict(X_test)"
   ]
  },
  {
   "cell_type": "code",
   "execution_count": 41,
   "metadata": {},
   "outputs": [
    {
     "data": {
      "text/plain": [
       "0.9623529411764706"
      ]
     },
     "execution_count": 41,
     "metadata": {},
     "output_type": "execute_result"
    }
   ],
   "source": [
    "accuracy_score(y_test, y_pred)"
   ]
  },
  {
   "cell_type": "code",
   "execution_count": 42,
   "metadata": {},
   "outputs": [
    {
     "data": {
      "text/plain": [
       "array([[1090,    6],\n",
       "       [  42,  137]])"
      ]
     },
     "execution_count": 42,
     "metadata": {},
     "output_type": "execute_result"
    }
   ],
   "source": [
    "confusion_matrix(y_test, y_pred)"
   ]
  },
  {
   "cell_type": "code",
   "execution_count": 43,
   "metadata": {},
   "outputs": [
    {
     "name": "stdout",
     "output_type": "stream",
     "text": [
      "              precision    recall  f1-score   support\n",
      "\n",
      "           0       0.96      0.99      0.98      1096\n",
      "           1       0.96      0.77      0.85       179\n",
      "\n",
      "    accuracy                           0.96      1275\n",
      "   macro avg       0.96      0.88      0.91      1275\n",
      "weighted avg       0.96      0.96      0.96      1275\n",
      "\n"
     ]
    }
   ],
   "source": [
    "print(classification_report(y_test, y_pred))"
   ]
  },
  {
   "cell_type": "markdown",
   "metadata": {},
   "source": [
    "### Over sampling training data"
   ]
  },
  {
   "cell_type": "code",
   "execution_count": 44,
   "metadata": {},
   "outputs": [],
   "source": [
    "from imblearn.over_sampling import RandomOverSampler\n",
    "from imblearn.under_sampling import RandomUnderSampler\n",
    "\n",
    "ros = RandomOverSampler(random_state=42)\n",
    "X_res, y_res = ros.fit_resample(X_train, y_train)"
   ]
  },
  {
   "cell_type": "code",
   "execution_count": 45,
   "metadata": {},
   "outputs": [],
   "source": [
    "# fit the model\n",
    "logreg.fit(X_res, y_res)\n",
    "\n",
    "logreg_pred_2 = logreg.predict(X_test)"
   ]
  },
  {
   "cell_type": "code",
   "execution_count": 46,
   "metadata": {},
   "outputs": [
    {
     "data": {
      "text/plain": [
       "0.7552941176470588"
      ]
     },
     "execution_count": 46,
     "metadata": {},
     "output_type": "execute_result"
    }
   ],
   "source": [
    "accuracy_score(y_test, logreg_pred_2)"
   ]
  },
  {
   "cell_type": "markdown",
   "metadata": {},
   "source": [
    "**logistic regression dropped in accuracy after oversmpling**"
   ]
  },
  {
   "cell_type": "code",
   "execution_count": 47,
   "metadata": {},
   "outputs": [
    {
     "name": "stdout",
     "output_type": "stream",
     "text": [
      "[15:20:35] WARNING: ../src/learner.cc:1115: Starting in XGBoost 1.3.0, the default evaluation metric used with the objective 'binary:logistic' was changed from 'error' to 'logloss'. Explicitly set eval_metric if you'd like to restore the old behavior.\n"
     ]
    }
   ],
   "source": [
    "xgb_2 = XGBClassifier(random_state=0)\n",
    "\n",
    "xgb_2.fit(X_res, y_res)\n",
    "y_pred_2 = xgb_2.predict(X_test)"
   ]
  },
  {
   "cell_type": "code",
   "execution_count": 48,
   "metadata": {},
   "outputs": [
    {
     "data": {
      "text/plain": [
       "0.9647058823529412"
      ]
     },
     "execution_count": 48,
     "metadata": {},
     "output_type": "execute_result"
    }
   ],
   "source": [
    "accuracy_score(y_test, y_pred_2)"
   ]
  },
  {
   "cell_type": "code",
   "execution_count": 49,
   "metadata": {},
   "outputs": [
    {
     "data": {
      "text/plain": [
       "array([[1083,   13],\n",
       "       [  32,  147]])"
      ]
     },
     "execution_count": 49,
     "metadata": {},
     "output_type": "execute_result"
    }
   ],
   "source": [
    "confusion_matrix(y_test, y_pred_2)"
   ]
  },
  {
   "cell_type": "code",
   "execution_count": 50,
   "metadata": {},
   "outputs": [
    {
     "name": "stdout",
     "output_type": "stream",
     "text": [
      "              precision    recall  f1-score   support\n",
      "\n",
      "           0       0.97      0.99      0.98      1096\n",
      "           1       0.92      0.82      0.87       179\n",
      "\n",
      "    accuracy                           0.96      1275\n",
      "   macro avg       0.95      0.90      0.92      1275\n",
      "weighted avg       0.96      0.96      0.96      1275\n",
      "\n"
     ]
    }
   ],
   "source": [
    "print(classification_report(y_test, y_pred_2))"
   ]
  },
  {
   "cell_type": "code",
   "execution_count": null,
   "metadata": {},
   "outputs": [],
   "source": []
  }
 ],
 "metadata": {
  "kernelspec": {
   "display_name": "Python 3 (ipykernel)",
   "language": "python",
   "name": "python3"
  },
  "language_info": {
   "codemirror_mode": {
    "name": "ipython",
    "version": 3
   },
   "file_extension": ".py",
   "mimetype": "text/x-python",
   "name": "python",
   "nbconvert_exporter": "python",
   "pygments_lexer": "ipython3",
   "version": "3.7.4"
  }
 },
 "nbformat": 4,
 "nbformat_minor": 4
}
